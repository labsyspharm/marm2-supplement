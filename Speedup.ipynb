{
 "cells": [
  {
   "cell_type": "code",
   "execution_count": 1,
   "metadata": {
    "pycharm": {
     "is_executing": false
    }
   },
   "outputs": [],
   "source": [
    "import pandas as pd\n",
    "import numpy as np\n",
    "import itertools as itt\n",
    "import seaborn as sns\n",
    "import matplotlib.pyplot as plt\n",
    "\n",
    "import os\n",
    "\n",
    "from MARM.paths import get_results_path, get_figure_dir\n",
    "from MARM.estimation import get_model, get_edata\n",
    "from MARM.visualize import plot_and_save_fig\n",
    "\n",
    "dataset = 'EGF_EGFR_MEKi_PRAFi_RAFi'\n",
    "variant = 'base'\n",
    "model_name = 'RTKERK'\n",
    "\n",
    "figdir = get_figure_dir(model_name, variant, dataset)"
   ]
  },
  {
   "cell_type": "code",
   "execution_count": 2,
   "metadata": {
    "pycharm": {
     "is_executing": false
    },
    "scrolled": false
   },
   "outputs": [],
   "source": [
    "df_sizes = pd.DataFrame(columns=['states', 'parameters', 'experiments'])\n",
    "\n",
    "for r in range(5):\n",
    "    for combo in itt.combinations(dataset.replace('_EGFR','').split('_'), r=r):\n",
    "        instance = '_'.join(combo)\n",
    "        model = get_model(model_name, variant, instance)\n",
    "        edata = get_edata(dataset, instance, model)\n",
    "        edata = [\n",
    "            e\n",
    "            for e in edata\n",
    "            if e[3] is not None and\n",
    "            (e[3].fixedParameters[model.getFixedParameterNames().index('EGFR_crispr')] != 1.0) is ('EGFR' in combo)\n",
    "        ]\n",
    "        df_sizes = df_sizes.append(pd.Series({\n",
    "            'experiments': len(edata),\n",
    "            'states': model.nx_rdata,\n",
    "            'parameters': model.np() - sum(par.endswith('phi') for par in model.getParameterNames()),\n",
    "        }, name=instance.replace('_',',')))\n",
    "df_sizes = df_sizes.sort_values(by='states')"
   ]
  },
  {
   "cell_type": "code",
   "execution_count": 3,
   "metadata": {
    "pycharm": {
     "is_executing": false
    }
   },
   "outputs": [
    {
     "data": {
      "image/png": "[encoded data removed]",
      "text/plain": [
       "<Figure size 216x576 with 3 Axes>"
      ]
     },
     "metadata": {
      "needs_background": "light"
     },
     "output_type": "display_data"
    }
   ],
   "source": [
    "f, (ax1, ax2, ax3) = plt.subplots(3, 1, figsize=(3, 8), sharex=True)\n",
    "sns.barplot(x=df_sizes.index,y=df_sizes.experiments,ax=ax1, color='k')\n",
    "sns.barplot(x=df_sizes.index,y=df_sizes.parameters,ax=ax2, color='k')\n",
    "sns.barplot(x=df_sizes.index,y=df_sizes.states,ax=ax3, color='k')\n",
    "plt.xticks(rotation=90)\n",
    "plot_and_save_fig(figdir, 'multimodel_sizes.pdf')"
   ]
  },
  {
   "cell_type": "code",
   "execution_count": 4,
   "metadata": {
    "pycharm": {
     "is_executing": false
    }
   },
   "outputs": [
    {
     "data": {
      "text/plain": [
       "                        1\n",
       "MEKi                   60\n",
       "PRAFi                  20\n",
       "RAFi                   42\n",
       "PRAFi,RAFi              0\n",
       "MEKi,PRAFi              0\n",
       "MEKi,RAFi               0\n",
       "EGF                     0\n",
       "MEKi,PRAFi,RAFi         0\n",
       "EGF,MEKi               60\n",
       "EGF,PRAFi               0\n",
       "EGF,RAFi               51\n",
       "EGF,PRAFi,RAFi          0\n",
       "EGF,MEKi,PRAFi          0\n",
       "EGF,MEKi,RAFi           0\n",
       "EGF,MEKi,PRAFi,RAFi     0\n",
       "Name: experiments, dtype: object"
      ]
     },
     "execution_count": 4,
     "metadata": {},
     "output_type": "execute_result"
    }
   ],
   "source": [
    "df_sizes.experiments"
   ]
  },
  {
   "cell_type": "code",
   "execution_count": 5,
   "metadata": {
    "pycharm": {
     "is_executing": false
    }
   },
   "outputs": [
    {
     "data": {
      "text/plain": [
       "234"
      ]
     },
     "execution_count": 5,
     "metadata": {},
     "output_type": "execute_result"
    }
   ],
   "source": [
    "df_sizes.experiments.sum()"
   ]
  },
  {
   "cell_type": "code",
   "execution_count": 6,
   "metadata": {
    "pycharm": {
     "is_executing": false
    }
   },
   "outputs": [
    {
     "data": {
      "text/plain": [
       "                         50\n",
       "MEKi                     93\n",
       "PRAFi                   114\n",
       "RAFi                    114\n",
       "PRAFi,RAFi              214\n",
       "MEKi,PRAFi              259\n",
       "MEKi,RAFi               259\n",
       "EGF                     477\n",
       "MEKi,PRAFi,RAFi         525\n",
       "EGF,MEKi                622\n",
       "EGF,PRAFi               712\n",
       "EGF,RAFi                712\n",
       "EGF,PRAFi,RAFi         1091\n",
       "EGF,MEKi,PRAFi         1253\n",
       "EGF,MEKi,RAFi          1253\n",
       "EGF,MEKi,PRAFi,RAFi    2284\n",
       "Name: states, dtype: object"
      ]
     },
     "execution_count": 6,
     "metadata": {},
     "output_type": "execute_result"
    }
   ],
   "source": [
    "df_sizes.states"
   ]
  },
  {
   "cell_type": "code",
   "execution_count": 7,
   "metadata": {
    "pycharm": {
     "is_executing": false
    }
   },
   "outputs": [
    {
     "data": {
      "text/plain": [
       "                       55\n",
       "MEKi                   59\n",
       "PRAFi                  57\n",
       "RAFi                   59\n",
       "PRAFi,RAFi             61\n",
       "MEKi,PRAFi             61\n",
       "MEKi,RAFi              63\n",
       "EGF                    75\n",
       "MEKi,PRAFi,RAFi        65\n",
       "EGF,MEKi               79\n",
       "EGF,PRAFi              77\n",
       "EGF,RAFi               79\n",
       "EGF,PRAFi,RAFi         81\n",
       "EGF,MEKi,PRAFi         81\n",
       "EGF,MEKi,RAFi          83\n",
       "EGF,MEKi,PRAFi,RAFi    85\n",
       "Name: parameters, dtype: object"
      ]
     },
     "execution_count": 7,
     "metadata": {},
     "output_type": "execute_result"
    }
   ],
   "source": [
    "df_sizes.parameters"
   ]
  },
  {
   "cell_type": "code",
   "execution_count": null,
   "metadata": {},
   "outputs": [],
   "source": []
  }
 ],
 "metadata": {
  "kernelspec": {
   "display_name": "Python 3",
   "language": "python",
   "name": "python3"
  },
  "language_info": {
   "codemirror_mode": {
    "name": "ipython",
    "version": 3
   },
   "file_extension": ".py",
   "mimetype": "text/x-python",
   "name": "python",
   "nbconvert_exporter": "python",
   "pygments_lexer": "ipython3",
   "version": "3.9.7"
  },
  "pycharm": {
   "stem_cell": {
    "cell_type": "raw",
    "metadata": {
     "collapsed": false
    },
    "source": []
   }
  }
 },
 "nbformat": 4,
 "nbformat_minor": 2
}
