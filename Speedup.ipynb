{
 "cells": [
  {
   "cell_type": "code",
   "execution_count": 1,
   "metadata": {
    "pycharm": {
     "is_executing": false
    }
   },
   "outputs": [],
   "source": [
    "import pandas as pd\n",
    "import numpy as np\n",
    "import itertools as itt\n",
    "import seaborn as sns\n",
    "import matplotlib.pyplot as plt\n",
    "\n",
    "import os\n",
    "\n",
    "from MARM.paths import get_results_path, get_figure_dir\n",
    "from MARM.estimation import get_model, get_edata\n",
    "from MARM.visualize import plot_and_save_fig\n",
    "\n",
    "dataset = 'EGF_EGFR_MEKi_PRAFi_RAFi'\n",
    "variant = 'pRAF'\n",
    "model_name = 'RTKERK'\n",
    "\n",
    "figdir = get_figure_dir(model_name, variant, dataset)"
   ]
  },
  {
   "cell_type": "code",
   "execution_count": 2,
   "metadata": {
    "pycharm": {
     "is_executing": false
    },
    "scrolled": false
   },
   "outputs": [],
   "source": [
    "df_sizes = pd.DataFrame(columns=['states', 'parameters', 'experiments'])\n",
    "\n",
    "for r in range(5):\n",
    "    for combo in itt.combinations(dataset.replace('_EGFR','').split('_'), r=r):\n",
    "        instance = '_'.join(combo)\n",
    "        model = get_model(model_name, variant, instance)\n",
    "        edata = get_edata(dataset, instance, model)\n",
    "        edata = [\n",
    "            e\n",
    "            for e in edata\n",
    "            if e[3] is not None and\n",
    "            (e[3].fixedParameters[model.getFixedParameterNames().index('EGFR_crispr')] != 1.0) is ('EGFR' in combo)\n",
    "        ]\n",
    "        df_sizes = df_sizes.append(pd.Series({\n",
    "            'experiments': len(edata),\n",
    "            'states': model.nx_rdata,\n",
    "            'parameters': model.np() - sum(par.endswith('phi') for par in model.getParameterNames()),\n",
    "        }, name=instance.replace('_',',')))\n",
    "df_sizes = df_sizes.sort_values(by='states')"
   ]
  },
  {
   "cell_type": "code",
   "execution_count": 3,
   "metadata": {
    "pycharm": {
     "is_executing": false
    }
   },
   "outputs": [
    {
     "data": {
      "image/png": "[encoded data removed]",
      "text/plain": [
       "<Figure size 216x576 with 3 Axes>"
      ]
     },
     "metadata": {
      "needs_background": "light"
     },
     "output_type": "display_data"
    }
   ],
   "source": [
    "f, (ax1, ax2, ax3) = plt.subplots(3, 1, figsize=(3, 8), sharex=True)\n",
    "sns.barplot(x=df_sizes.index,y=df_sizes.experiments,ax=ax1, color='k')\n",
    "sns.barplot(x=df_sizes.index,y=df_sizes.parameters,ax=ax2, color='k')\n",
    "sns.barplot(x=df_sizes.index,y=df_sizes.states,ax=ax3, color='k')\n",
    "plt.xticks(rotation=90)\n",
    "plot_and_save_fig(figdir, 'multimodel_sizes.pdf')"
   ]
  },
  {
   "cell_type": "code",
   "execution_count": 5,
   "metadata": {
    "pycharm": {
     "is_executing": false
    }
   },
   "outputs": [
    {
     "data": {
      "text/plain": [
       "234"
      ]
     },
     "execution_count": 5,
     "metadata": {},
     "output_type": "execute_result"
    }
   ],
   "source": [
    "df_sizes.experiments.sum()"
   ]
  },
  {
   "cell_type": "code",
   "execution_count": 8,
   "metadata": {},
   "outputs": [
    {
     "data": {
      "text/html": [
       "<div>\n",
       "<style scoped>\n",
       "    .dataframe tbody tr th:only-of-type {\n",
       "        vertical-align: middle;\n",
       "    }\n",
       "\n",
       "    .dataframe tbody tr th {\n",
       "        vertical-align: top;\n",
       "    }\n",
       "\n",
       "    .dataframe thead th {\n",
       "        text-align: right;\n",
       "    }\n",
       "</style>\n",
       "<table border=\"1\" class=\"dataframe\">\n",
       "  <thead>\n",
       "    <tr style=\"text-align: right;\">\n",
       "      <th></th>\n",
       "      <th>states</th>\n",
       "      <th>parameters</th>\n",
       "      <th>experiments</th>\n",
       "    </tr>\n",
       "  </thead>\n",
       "  <tbody>\n",
       "    <tr>\n",
       "      <th></th>\n",
       "      <td>113</td>\n",
       "      <td>60</td>\n",
       "      <td>1</td>\n",
       "    </tr>\n",
       "    <tr>\n",
       "      <th>MEKi</th>\n",
       "      <td>258</td>\n",
       "      <td>64</td>\n",
       "      <td>60</td>\n",
       "    </tr>\n",
       "    <tr>\n",
       "      <th>PRAFi</th>\n",
       "      <td>348</td>\n",
       "      <td>62</td>\n",
       "      <td>20</td>\n",
       "    </tr>\n",
       "    <tr>\n",
       "      <th>RAFi</th>\n",
       "      <td>348</td>\n",
       "      <td>64</td>\n",
       "      <td>42</td>\n",
       "    </tr>\n",
       "    <tr>\n",
       "      <th>EGF</th>\n",
       "      <td>711</td>\n",
       "      <td>81</td>\n",
       "      <td>0</td>\n",
       "    </tr>\n",
       "    <tr>\n",
       "      <th>PRAFi,RAFi</th>\n",
       "      <td>727</td>\n",
       "      <td>66</td>\n",
       "      <td>0</td>\n",
       "    </tr>\n",
       "    <tr>\n",
       "      <th>MEKi,PRAFi</th>\n",
       "      <td>889</td>\n",
       "      <td>66</td>\n",
       "      <td>0</td>\n",
       "    </tr>\n",
       "    <tr>\n",
       "      <th>MEKi,RAFi</th>\n",
       "      <td>889</td>\n",
       "      <td>68</td>\n",
       "      <td>0</td>\n",
       "    </tr>\n",
       "    <tr>\n",
       "      <th>EGF,MEKi</th>\n",
       "      <td>1252</td>\n",
       "      <td>85</td>\n",
       "      <td>60</td>\n",
       "    </tr>\n",
       "    <tr>\n",
       "      <th>EGF,PRAFi</th>\n",
       "      <td>1612</td>\n",
       "      <td>83</td>\n",
       "      <td>0</td>\n",
       "    </tr>\n",
       "    <tr>\n",
       "      <th>EGF,RAFi</th>\n",
       "      <td>1612</td>\n",
       "      <td>85</td>\n",
       "      <td>51</td>\n",
       "    </tr>\n",
       "    <tr>\n",
       "      <th>MEKi,PRAFi,RAFi</th>\n",
       "      <td>1920</td>\n",
       "      <td>70</td>\n",
       "      <td>0</td>\n",
       "    </tr>\n",
       "    <tr>\n",
       "      <th>EGF,PRAFi,RAFi</th>\n",
       "      <td>3089</td>\n",
       "      <td>87</td>\n",
       "      <td>0</td>\n",
       "    </tr>\n",
       "    <tr>\n",
       "      <th>EGF,MEKi,PRAFi</th>\n",
       "      <td>3713</td>\n",
       "      <td>87</td>\n",
       "      <td>0</td>\n",
       "    </tr>\n",
       "    <tr>\n",
       "      <th>EGF,MEKi,RAFi</th>\n",
       "      <td>3713</td>\n",
       "      <td>89</td>\n",
       "      <td>0</td>\n",
       "    </tr>\n",
       "    <tr>\n",
       "      <th>EGF,MEKi,PRAFi,RAFi</th>\n",
       "      <td>7774</td>\n",
       "      <td>91</td>\n",
       "      <td>0</td>\n",
       "    </tr>\n",
       "  </tbody>\n",
       "</table>\n",
       "</div>"
      ],
      "text/plain": [
       "                    states parameters experiments\n",
       "                       113         60           1\n",
       "MEKi                   258         64          60\n",
       "PRAFi                  348         62          20\n",
       "RAFi                   348         64          42\n",
       "EGF                    711         81           0\n",
       "PRAFi,RAFi             727         66           0\n",
       "MEKi,PRAFi             889         66           0\n",
       "MEKi,RAFi              889         68           0\n",
       "EGF,MEKi              1252         85          60\n",
       "EGF,PRAFi             1612         83           0\n",
       "EGF,RAFi              1612         85          51\n",
       "MEKi,PRAFi,RAFi       1920         70           0\n",
       "EGF,PRAFi,RAFi        3089         87           0\n",
       "EGF,MEKi,PRAFi        3713         87           0\n",
       "EGF,MEKi,RAFi         3713         89           0\n",
       "EGF,MEKi,PRAFi,RAFi   7774         91           0"
      ]
     },
     "execution_count": 8,
     "metadata": {},
     "output_type": "execute_result"
    }
   ],
   "source": [
    "df_sizes"
   ]
  },
  {
   "cell_type": "code",
   "execution_count": 9,
   "metadata": {},
   "outputs": [],
   "source": [
    "benchmark_data_file = os.path.join(get_results_path(model_name, variant),\n",
    "                                   'EGF_EGFR_MEKi_PRAFi_RAFi_multimodel_benchmark.csv')\n",
    "df_bm = pd.read_csv(benchmark_data_file)\n",
    "df_bm = df_bm.replace([np.inf, -np.inf], np.nan).dropna(subset=['fval_single','fval_multi'],axis=0)\n",
    "df_bm.t_single /= 3600\n",
    "df_bm.t_multi /= 3600"
   ]
  },
  {
   "cell_type": "code",
   "execution_count": 10,
   "metadata": {},
   "outputs": [
    {
     "data": {
      "image/png": "[encoded data removed]",
      "text/plain": [
       "<Figure size 360x576 with 2 Axes>"
      ]
     },
     "metadata": {
      "needs_background": "light"
     },
     "output_type": "display_data"
    }
   ],
   "source": [
    "times = df_bm.melt(value_vars=['t_single','t_multi'])\n",
    "\n",
    "fig = plt.figure(figsize=(5, 8))\n",
    "grid = plt.GridSpec(1, 3)\n",
    "ax1 = fig.add_subplot(grid[0,0:2])\n",
    "ax2 = fig.add_subplot(grid[0,2])\n",
    "sns.boxplot(\n",
    "    x='variable', y='value',\n",
    "    data=times,\n",
    "    ax=ax1\n",
    ")\n",
    "ax1.set_yscale('log')\n",
    "ax1.set_ylabel('computation time [h]')\n",
    "\n",
    "sns.boxplot(\n",
    "    y=df_bm.t_ratio,\n",
    "    ax=ax2\n",
    ")\n",
    "ax2.set_yscale('log')\n",
    "ax2.set_ylabel('speedup')\n",
    "\n",
    "plot_and_save_fig(figdir, 'multimodel_benchmark.pdf')"
   ]
  },
  {
   "cell_type": "code",
   "execution_count": 11,
   "metadata": {},
   "outputs": [
    {
     "data": {
      "text/plain": [
       "Unnamed: 0.1    0.000000e+00\n",
       "Unnamed: 0      9.830000e+02\n",
       "t_single        1.167972e+02\n",
       "t_multi         8.698617e+00\n",
       "fval_single     6.516559e+07\n",
       "fval_multi      6.517511e+07\n",
       "t_ratio         8.408946e+01\n",
       "dtype: float64"
      ]
     },
     "execution_count": 11,
     "metadata": {},
     "output_type": "execute_result"
    }
   ],
   "source": [
    "df_bm.max()"
   ]
  },
  {
   "cell_type": "code",
   "execution_count": 12,
   "metadata": {},
   "outputs": [
    {
     "data": {
      "text/plain": [
       "Unnamed: 0.1        0.000000\n",
       "Unnamed: 0         10.000000\n",
       "t_single           18.061776\n",
       "t_multi             0.468108\n",
       "fval_single     15158.308248\n",
       "fval_multi      15160.259740\n",
       "t_ratio            10.527651\n",
       "dtype: float64"
      ]
     },
     "execution_count": 12,
     "metadata": {},
     "output_type": "execute_result"
    }
   ],
   "source": [
    "df_bm.min()"
   ]
  },
  {
   "cell_type": "code",
   "execution_count": 13,
   "metadata": {},
   "outputs": [
    {
     "data": {
      "text/plain": [
       "Unnamed: 0.1         0.000000\n",
       "Unnamed: 0         524.000000\n",
       "t_single            45.614902\n",
       "t_multi              1.407026\n",
       "fval_single     249486.512174\n",
       "fval_multi      249486.299914\n",
       "t_ratio             30.941923\n",
       "dtype: float64"
      ]
     },
     "execution_count": 13,
     "metadata": {},
     "output_type": "execute_result"
    }
   ],
   "source": [
    "df_bm.median()"
   ]
  },
  {
   "cell_type": "code",
   "execution_count": null,
   "metadata": {},
   "outputs": [],
   "source": []
  }
 ],
 "metadata": {
  "kernelspec": {
   "display_name": "Python 3",
   "language": "python",
   "name": "python3"
  },
  "language_info": {
   "codemirror_mode": {
    "name": "ipython",
    "version": 3
   },
   "file_extension": ".py",
   "mimetype": "text/x-python",
   "name": "python",
   "nbconvert_exporter": "python",
   "pygments_lexer": "ipython3",
   "version": "3.9.13"
  },
  "pycharm": {
   "stem_cell": {
    "cell_type": "raw",
    "metadata": {
     "collapsed": false
    },
    "source": []
   }
  }
 },
 "nbformat": 4,
 "nbformat_minor": 2
}
