{
 "cells": [
  {
   "cell_type": "code",
   "execution_count": 42,
   "metadata": {},
   "outputs": [],
   "source": [
    "from MARM.parameters import load_parameters_as_dataframe\n",
    "import numpy as np\n",
    "\n",
    "df_parameters = load_parameters_as_dataframe('RTKERK', 'pRAF', 'EGF_EGFR_MEKi_PRAFi_RAFi')\n",
    "def print_val(x):\n",
    "    if x < 1:\n",
    "        return f'1/{1/x:.1f}'\n",
    "    else:\n",
    "        return f'{x:.1f}'"
   ]
  },
  {
   "cell_type": "code",
   "execution_count": 43,
   "metadata": {},
   "outputs": [
    {
     "name": "stdout",
     "output_type": "stream",
     "text": [
      "Vemurafenib single: 1/612.0 (1/14527.2 - 1/2.5)\n",
      "Vemurafenib double: 22273.7 (2409.2 - 92441.9)\n",
      "Dabrafenib single: 1/2360.8 (1/55473.1 - 1/69.7)\n",
      "Dabrafenib double: 11804.3 (236.1 - 98666.4)\n",
      "PLX8394 single: 1.0 (1.0 - 1.0)\n",
      "PLX8394 double: 65645.3 (10382.6 - 99946.7)\n"
     ]
    }
   ],
   "source": [
    "for rafi in ['Vemurafenib', 'Dabrafenib', 'PLX8394', 'LY3009120', 'AZ_628']:\n",
    "    for mod in ['single', 'double']:\n",
    "        par = f\"ep_RAF_RAF_mod_{rafi}_{mod}_ddG\"\n",
    "        if par not in df_parameters:\n",
    "            continue\n",
    "        print(f'{rafi} {mod}: {print_val(np.exp(df_parameters[par].mean()))}'\n",
    "              f' ({\" - \".join([print_val(x) for x in np.exp(df_parameters[par].quantile([0.05,0.95]))])})')"
   ]
  },
  {
   "cell_type": "code",
   "execution_count": 45,
   "metadata": {},
   "outputs": [
    {
     "name": "stdout",
     "output_type": "stream",
     "text": [
      "Binimetinib ep_pMEK_Binimetinib_ddG: 29.4 (10.5 - 81.3)\n",
      "Binimetinib catalyze_RAFrafiNone_MEKmeki_Binimetinib_p_kcatr: 1/86.0 (1/837.5 - 1/15.6)\n",
      "Cobimetinib ep_pMEK_Cobimetinib_ddG: 21.5 (1/23.0 - 1132.6)\n",
      "Cobimetinib catalyze_RAFrafiNone_MEKmeki_Cobimetinib_p_kcatr: 1/20943.5 (1/834182.3 - 1/537.5)\n",
      "PD0325901 ep_pMEK_PD0325901_ddG: 27.1 (9.9 - 90.9)\n",
      "PD0325901 catalyze_RAFrafiNone_MEKmeki_PD0325901_p_kcatr: 1/314.2 (1/5268.2 - 1/49.0)\n",
      "Selumetinib ep_pMEK_Selumetinib_ddG: 48.1 (17.0 - 156.4)\n",
      "Selumetinib catalyze_RAFrafiNone_MEKmeki_Selumetinib_p_kcatr: 1/79.2 (1/974.0 - 1/13.2)\n",
      "Trametinib ep_pMEK_Trametinib_ddG: 18.1 (1/23.7 - 1623.1)\n",
      "Trametinib catalyze_RAFrafiNone_MEKmeki_Trametinib_p_kcatr: 1/33933.1 (1/968970.8 - 1/201.5)\n"
     ]
    }
   ],
   "source": [
    "for meki in ['Binimetinib', 'Cobimetinib', 'PD0325901', 'Selumetinib', 'Trametinib']:\n",
    "    for par in [f'ep_pMEK_{meki}_ddG', f'catalyze_RAFrafiNone_MEKmeki_{meki}_p_kcatr']:\n",
    "        if par.endswith('ddG'):\n",
    "            m = np.exp(df_parameters[par].mean())\n",
    "            qs = np.exp(df_parameters[par].quantile([0.1,0.9]))\n",
    "        else:\n",
    "            m = 10 ** df_parameters[par].apply(np.log10).mean()\n",
    "            qs = 10 ** df_parameters[par].apply(np.log10).quantile([0.1,0.9])\n",
    "        print(f'{meki} {par}: {print_val(m)} ({\" - \".join([print_val(x) for x in qs])})')"
   ]
  },
  {
   "cell_type": "code",
   "execution_count": null,
   "metadata": {},
   "outputs": [],
   "source": []
  }
 ],
 "metadata": {
  "kernelspec": {
   "display_name": "Python 3",
   "language": "python",
   "name": "python3"
  },
  "language_info": {
   "codemirror_mode": {
    "name": "ipython",
    "version": 3
   },
   "file_extension": ".py",
   "mimetype": "text/x-python",
   "name": "python",
   "nbconvert_exporter": "python",
   "pygments_lexer": "ipython3",
   "version": "3.9.13"
  }
 },
 "nbformat": 4,
 "nbformat_minor": 4
}
