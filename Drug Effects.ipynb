{
 "cells": [
  {
   "cell_type": "code",
   "execution_count": 1,
   "metadata": {},
   "outputs": [],
   "source": [
    "from MARM.parameters import load_parameters_as_dataframe\n",
    "import numpy as np\n",
    "\n",
    "df_parameters = load_parameters_as_dataframe('RTKERK', 'pRAF', 'EGF_EGFR_MEKi_PRAFi_RAFi')\n",
    "def print_val(x):\n",
    "    if x < 1:\n",
    "        return f'1/{1/x:.1f}'\n",
    "    else:\n",
    "        return f'{x:.1f}'"
   ]
  },
  {
   "cell_type": "code",
   "execution_count": 2,
   "metadata": {},
   "outputs": [
    {
     "name": "stdout",
     "output_type": "stream",
     "text": [
      "Vemurafenib single: 1/1235.7 (1/36908.4 - 1/22.0)\n",
      "Vemurafenib double: 2297.2 (14.3 - 95077.6)\n",
      "Dabrafenib single: 1/1830.7 (1/47872.7 - 1/73.3)\n",
      "Dabrafenib double: 12558.2 (524.6 - 99078.9)\n",
      "PLX8394 single: 1.0 (1.0 - 1.0)\n",
      "PLX8394 double: 13604.7 (5.5 - 99966.0)\n"
     ]
    }
   ],
   "source": [
    "for rafi in ['Vemurafenib', 'Dabrafenib', 'PLX8394', 'LY3009120', 'AZ_628']:\n",
    "    for mod in ['single', 'double']:\n",
    "        par = f\"ep_RAF_RAF_mod_{rafi}_{mod}_ddG\"\n",
    "        if par not in df_parameters:\n",
    "            continue\n",
    "        print(f'{rafi} {mod}: {print_val(np.exp(df_parameters[par].mean()))}'\n",
    "              f' ({\" - \".join([print_val(x) for x in np.exp(df_parameters[par].quantile([0.05,0.95]))])})')"
   ]
  },
  {
   "cell_type": "code",
   "execution_count": 3,
   "metadata": {},
   "outputs": [
    {
     "name": "stdout",
     "output_type": "stream",
     "text": [
      "Binimetinib ep_pMEK_Binimetinib_ddG: 19.8 (2.1 - 85.3)\n",
      "Binimetinib catalyze_RAFrafiNone_MEKmeki_Binimetinib_p_kcatr: 1/31.6 (1/275.2 - 1/4.8)\n",
      "Cobimetinib ep_pMEK_Cobimetinib_ddG: 10.1 (1/1.4 - 337.2)\n",
      "Cobimetinib catalyze_RAFrafiNone_MEKmeki_Cobimetinib_p_kcatr: 1/2303.7 (1/210140.7 - 1/98.1)\n",
      "PD0325901 ep_pMEK_PD0325901_ddG: 39.4 (4.3 - 170.7)\n",
      "PD0325901 catalyze_RAFrafiNone_MEKmeki_PD0325901_p_kcatr: 1/68.7 (1/614.3 - 1/10.5)\n",
      "Selumetinib ep_pMEK_Selumetinib_ddG: 40.2 (5.2 - 224.2)\n",
      "Selumetinib catalyze_RAFrafiNone_MEKmeki_Selumetinib_p_kcatr: 1/29.4 (1/230.5 - 1/5.0)\n",
      "Trametinib ep_pMEK_Trametinib_ddG: 24.7 (1/1.3 - 1074.5)\n",
      "Trametinib catalyze_RAFrafiNone_MEKmeki_Trametinib_p_kcatr: 1/17483.1 (1/759521.6 - 1/508.8)\n"
     ]
    }
   ],
   "source": [
    "for meki in ['Binimetinib', 'Cobimetinib', 'PD0325901', 'Selumetinib', 'Trametinib']:\n",
    "    for par in [f'ep_pMEK_{meki}_ddG', f'catalyze_RAFrafiNone_MEKmeki_{meki}_p_kcatr']:\n",
    "        if par.endswith('ddG'):\n",
    "            m = np.exp(df_parameters[par].mean())\n",
    "            qs = np.exp(df_parameters[par].quantile([0.1,0.9]))\n",
    "        else:\n",
    "            m = 10 ** df_parameters[par].apply(np.log10).mean()\n",
    "            qs = 10 ** df_parameters[par].apply(np.log10).quantile([0.1,0.9])\n",
    "        print(f'{meki} {par}: {print_val(m)} ({\" - \".join([print_val(x) for x in qs])})')"
   ]
  }
 ],
 "metadata": {
  "kernelspec": {
   "display_name": "Python 3",
   "language": "python",
   "name": "python3"
  },
  "language_info": {
   "codemirror_mode": {
    "name": "ipython",
    "version": 3
   },
   "file_extension": ".py",
   "mimetype": "text/x-python",
   "name": "python",
   "nbconvert_exporter": "python",
   "pygments_lexer": "ipython3",
   "version": "3.9.13"
  }
 },
 "nbformat": 4,
 "nbformat_minor": 4
}
