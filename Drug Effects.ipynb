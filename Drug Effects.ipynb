{
 "cells": [
  {
   "cell_type": "code",
   "execution_count": 1,
   "metadata": {},
   "outputs": [],
   "source": [
    "from MARM.parameters import load_parameters_as_dataframe\n",
    "import numpy as np\n",
    "\n",
    "df_parameters = load_parameters_as_dataframe('RTKERK', 'pRAF', 'EGF_EGFR_MEKi_PRAFi_RAFi')\n",
    "def print_val(x):\n",
    "    if x < 1:\n",
    "        return f'1/{1/x:.1f}'\n",
    "    else:\n",
    "        return f'{x:.1f}'"
   ]
  },
  {
   "cell_type": "code",
   "execution_count": 2,
   "metadata": {},
   "outputs": [
    {
     "name": "stdout",
     "output_type": "stream",
     "text": [
      "Vemurafenib single: 1/1018.7 (1/26981.8 - 1/8.2)\n",
      "Vemurafenib double: 2498.6 (19.0 - 84387.6)\n",
      "Dabrafenib single: 1/926.7 (1/56838.5 - 1/40.6)\n",
      "Dabrafenib double: 25986.4 (174.7 - 99942.9)\n",
      "PLX8394 single: 1.0 (1.0 - 1.0)\n",
      "PLX8394 double: 37577.9 (28.7 - 99782.5)\n"
     ]
    }
   ],
   "source": [
    "for rafi in ['Vemurafenib', 'Dabrafenib', 'PLX8394', 'LY3009120', 'AZ_628']:\n",
    "    for mod in ['single', 'double']:\n",
    "        par = f\"ep_RAF_RAF_mod_{rafi}_{mod}_ddG\"\n",
    "        if par not in df_parameters:\n",
    "            continue\n",
    "        print(f'{rafi} {mod}: {print_val(np.exp(df_parameters[par].mean()))}'\n",
    "              f' ({\" - \".join([print_val(x) for x in np.exp(df_parameters[par].quantile([0.05,0.95]))])})')"
   ]
  },
  {
   "cell_type": "code",
   "execution_count": 3,
   "metadata": {},
   "outputs": [
    {
     "name": "stdout",
     "output_type": "stream",
     "text": [
      "Binimetinib ep_pMEK_Binimetinib_ddG: 14.8 (7.1 - 37.5)\n",
      "Binimetinib catalyze_RAFrafiNone_MEKmeki_Binimetinib_p_kcatr: 1/432.7 (1/15848.8 - 1/17.0)\n",
      "Cobimetinib ep_pMEK_Cobimetinib_ddG: 12.8 (1.3 - 202.7)\n",
      "Cobimetinib catalyze_RAFrafiNone_MEKmeki_Cobimetinib_p_kcatr: 1/6960.0 (1/836309.0 - 1/80.3)\n",
      "PD0325901 ep_pMEK_PD0325901_ddG: 32.5 (14.8 - 85.4)\n",
      "PD0325901 catalyze_RAFrafiNone_MEKmeki_PD0325901_p_kcatr: 1/160.1 (1/965.8 - 1/20.5)\n",
      "Selumetinib ep_pMEK_Selumetinib_ddG: 25.3 (10.5 - 63.2)\n",
      "Selumetinib catalyze_RAFrafiNone_MEKmeki_Selumetinib_p_kcatr: 1/261.0 (1/2866.3 - 1/17.6)\n",
      "Trametinib ep_pMEK_Trametinib_ddG: 18.8 (1.4 - 294.3)\n",
      "Trametinib catalyze_RAFrafiNone_MEKmeki_Trametinib_p_kcatr: 1/3450.9 (1/444145.0 - 1/47.0)\n"
     ]
    }
   ],
   "source": [
    "for meki in ['Binimetinib', 'Cobimetinib', 'PD0325901', 'Selumetinib', 'Trametinib']:\n",
    "    for par in [f'ep_pMEK_{meki}_ddG', f'catalyze_RAFrafiNone_MEKmeki_{meki}_p_kcatr']:\n",
    "        if par.endswith('ddG'):\n",
    "            m = np.exp(df_parameters[par].mean())\n",
    "            qs = np.exp(df_parameters[par].quantile([0.1,0.9]))\n",
    "        else:\n",
    "            m = 10 ** df_parameters[par].apply(np.log10).mean()\n",
    "            qs = 10 ** df_parameters[par].apply(np.log10).quantile([0.1,0.9])\n",
    "        print(f'{meki} {par}: {print_val(m)} ({\" - \".join([print_val(x) for x in qs])})')"
   ]
  }
 ],
 "metadata": {
  "kernelspec": {
   "display_name": "Python 3",
   "language": "python",
   "name": "python3"
  },
  "language_info": {
   "codemirror_mode": {
    "name": "ipython",
    "version": 3
   },
   "file_extension": ".py",
   "mimetype": "text/x-python",
   "name": "python",
   "nbconvert_exporter": "python",
   "pygments_lexer": "ipython3",
   "version": "3.9.13"
  }
 },
 "nbformat": 4,
 "nbformat_minor": 4
}
