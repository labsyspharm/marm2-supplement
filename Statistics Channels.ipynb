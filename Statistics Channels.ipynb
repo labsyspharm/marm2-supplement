{
 "cells": [
  {
   "cell_type": "code",
   "execution_count": 1,
   "metadata": {},
   "outputs": [],
   "source": [
    "import importlib\n",
    "import os\n",
    "import re\n",
    "import pandas as pd\n",
    "from MARM.paths import get_figure_dir\n",
    "from MARM.pysb_flat.RTKERK__pRAF__EGF_MEKi_PRAFi_RAFi__channel_monoobs import model\n",
    "import pysb\n",
    "from pysb.pattern import SpeciesPatternMatcher\n",
    "from pysb.bng import generate_equations\n",
    "from collections import Counter"
   ]
  },
  {
   "cell_type": "code",
   "execution_count": 2,
   "metadata": {},
   "outputs": [],
   "source": [
    "generate_equations(model)"
   ]
  },
  {
   "cell_type": "code",
   "execution_count": 3,
   "metadata": {},
   "outputs": [],
   "source": [
    "spm = SpeciesPatternMatcher(model)\n",
    "\n",
    "channel_species = set(\n",
    "    spm.match(model.components['MEK'](channel='onco'), index=True)   \n",
    "    + spm.match(model.components['MEK'](channel='phys'), index=True)\n",
    "    + spm.match(model.components['ERK'](channel='phys'), index=True)\n",
    "    + spm.match(model.components['ERK'](channel='onco'), index=True)\n",
    ")"
   ]
  },
  {
   "cell_type": "code",
   "execution_count": 4,
   "metadata": {},
   "outputs": [],
   "source": [
    "reactions = [r for r in model.reactions \n",
    "             if any(ix in channel_species for ix in list(r['reactants']) + list(r['products'])) \n",
    "             and not r['rule'][0].startswith('pERK_phosphorylates') \n",
    "             and not r['rule'][0].startswith('ERK_synthesizes')]\n",
    "reaction_rules = Counter(r['rule'][0] for r in reactions)\n",
    "counts = pd.DataFrame(reaction_rules, index=[0])\n",
    "\n",
    "summarize_cols = {\n",
    "    'BRAFV600E_phosphorylates_MEK': [col for col in counts.columns \n",
    "                                     if col.startswith('BRAFV600E_phosphorylates_MEK')],\n",
    "    'RAFRAF_phosphorylates_MEK': [col for col in counts.columns\n",
    "                                  if re.match('[BC]+RAF_[BC]+RAF_phosphorylates_MEK', col)]\n",
    "}\n",
    "\n",
    "for col in counts.columns:\n",
    "    if col.endswith('_onco'):\n",
    "        summarize_cols[col.replace('_onco', '')] = [col, col.replace('_onco','_phys')]\n",
    "\n",
    "for group, cols in summarize_cols.items():\n",
    "    counts[group] = counts[cols].sum(axis=1)\n",
    "    counts.drop(columns=cols, inplace=True)"
   ]
  },
  {
   "cell_type": "code",
   "execution_count": 5,
   "metadata": {},
   "outputs": [],
   "source": [
    "initiation = ['BRAFV600E_phosphorylates_MEK', 'RAFRAF_phosphorylates_MEK']\n",
    "propagation = ['pMEK_phosphorylates_ERK']\n",
    "termination = ['MEK_is_dephosphorylated', 'DUSP_dephosphorylates_ERK']\n",
    "sorted_cols = initiation + propagation + termination\n",
    "counts = counts[sorted_cols + [col for col in counts.columns if col not in sorted_cols]]"
   ]
  },
  {
   "cell_type": "code",
   "execution_count": 6,
   "metadata": {},
   "outputs": [],
   "source": [
    "df = pd.melt(counts)"
   ]
  },
  {
   "cell_type": "code",
   "execution_count": 8,
   "metadata": {},
   "outputs": [
    {
     "data": {
      "image/png": "[encoded data removed]",
      "text/plain": [
       "<Figure size 432x288 with 1 Axes>"
      ]
     },
     "metadata": {
      "needs_background": "light"
     },
     "output_type": "display_data"
    }
   ],
   "source": [
    "import seaborn as sns\n",
    "\n",
    "import matplotlib.pyplot as plt\n",
    "import matplotlib as mpl\n",
    "\n",
    "\n",
    "ax = sns.barplot(x=\"value\", y=\"variable\", data=pd.melt(counts), color='gray', left=1)\n",
    "plt.xscale('log')\n",
    "plt.xlim((1e0,1e4))\n",
    "plt.tight_layout()\n",
    "\n",
    "plt.savefig(os.path.join(get_figure_dir('RTKERK', 'pRAF', 'EGF_EGFR_MEKi_PRAFi_RAFi'), 'model_channel_decomposition.pdf'))"
   ]
  },
  {
   "cell_type": "code",
   "execution_count": null,
   "metadata": {},
   "outputs": [],
   "source": []
  }
 ],
 "metadata": {
  "kernelspec": {
   "display_name": "Python 3",
   "language": "python",
   "name": "python3"
  },
  "language_info": {
   "codemirror_mode": {
    "name": "ipython",
    "version": 3
   },
   "file_extension": ".py",
   "mimetype": "text/x-python",
   "name": "python",
   "nbconvert_exporter": "python",
   "pygments_lexer": "ipython3",
   "version": "3.9.13"
  }
 },
 "nbformat": 4,
 "nbformat_minor": 2
}
