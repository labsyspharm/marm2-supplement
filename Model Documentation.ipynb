{
 "cells": [
  {
   "cell_type": "markdown",
   "metadata": {},
   "source": [
    "# Model of Adaptive Resistance in Melanoma"
   ]
  },
  {
   "cell_type": "markdown",
   "metadata": {},
   "source": [
    "In this notebook we will provide a step-by-step construction of the MARM model. The model is constructed using the rule-based modeling tool PySB <cite data-cite=\"2754712/L894YC64\"></cite>. To start, we import all required pysb classes and instantiate the model:"
   ]
  },
  {
   "cell_type": "code",
   "execution_count": 1,
   "metadata": {},
   "outputs": [],
   "source": [
    "from pysb import Model, Monomer, Parameter, Compartment, Expression,  Rule, Observable, Initial, Annotation, EnergyPattern, ANY\n",
    "from sympy import exp, log\n",
    "\n",
    "Model();"
   ]
  },
  {
   "cell_type": "markdown",
   "metadata": {},
   "source": [
    "All model reactions are implemented in four different compartments, the extracellular compartment `EC`, the plasma membrane `PM`, the cytopplasm `CP` and the endosome membrane `EM`."
   ]
  },
  {
   "cell_type": "code",
   "execution_count": 2,
   "metadata": {},
   "outputs": [
    {
     "data": {
      "text/plain": [
       "Compartment(name='EM', parent=CP, dimension=2, size=None)"
      ]
     },
     "execution_count": 2,
     "metadata": {},
     "output_type": "execute_result"
    }
   ],
   "source": [
    "Compartment(name='EC', parent=None, dimension=3, size=None)\n",
    "Compartment(name='PM', parent=EC, dimension=2, size=None)\n",
    "Compartment(name='CP', parent=PM, dimension=3, size=None)\n",
    "Compartment(name='EM', parent=CP, dimension=2, size=None)"
   ]
  },
  {
   "cell_type": "markdown",
   "metadata": {},
   "source": [
    "In the following, we split the model into individual submodules of strongly interacting components, which we will describe individually. The model describes protein and drug species as intracellular concentrations in uM at a volume of `1pL = 1e-12L`. For ligands and drugs we assume that the extracellular compartment is much bigger than the intracellular compartement and that equilibration is fast such that concentrations can be assumed to be constanct over time (implemented by specifying `fixed=True` in the initialization). For EGF, the parameter that specifies the abundance, `EGF_0` is assumed to have units [ng/ml] and is accordingly transformed into [uM] using the appropriate molecular weight `m_Da_EGF`. The Monomers (`RAFi`) and (`MEKi`) are placeholdes for different RAF inihibitors, such as vemurafenib, and MEK inhibitors, such as cobimetinib. the respective parameters, `RAFi_0` and `MEKi_0`, are assumed to be in [uM]. The unit of time is hours."
   ]
  },
  {
   "cell_type": "code",
   "execution_count": 3,
   "metadata": {},
   "outputs": [
    {
     "data": {
      "text/plain": [
       "Initial(EGF(rtk=None) ** CP, initEGF, fixed=True)"
      ]
     },
     "execution_count": 3,
     "metadata": {},
     "output_type": "execute_result"
    }
   ],
   "source": [
    "Expression('N_Avogadro', 6.02214076000000e+23)\n",
    "Expression('volume', 1.00000000000000e-12)\n",
    "Expression('m_Da_EGF', 6200.00000000000)\n",
    "\n",
    "Monomer('RAFi', ['raf'])\n",
    "Annotation(RAFi, 'http://identifiers.org/chebi/63637', 'is')\n",
    "Parameter('RAFi_0')\n",
    "Expression('initRAFi', RAFi_0)\n",
    "Initial(RAFi(raf=None) ** CP, initRAFi, fixed=True)\n",
    "\n",
    "Monomer('MEKi', ['mek'])\n",
    "Annotation(MEKi, 'http://identifiers.org/chebi/90851', 'is')\n",
    "Parameter('MEKi_0')\n",
    "Expression('initMEKi', MEKi_0)\n",
    "Initial(MEKi(mek=None) ** CP, initMEKi, fixed=True)\n",
    "\n",
    "Monomer('EGF', ['rtk'])\n",
    "Annotation(EGF, 'http://identifiers.org/uniprot/P01133', 'is')\n",
    "Parameter('EGF_0')\n",
    "Expression('initEGF', 6.02214076208112e+23*EGF_0/(N_Avogadro*m_Da_EGF))\n",
    "Initial(EGF(rtk=None) ** CP, initEGF, fixed=True)"
   ]
  },
  {
   "cell_type": "markdown",
   "metadata": {},
   "source": [
    "# EGFR Signaling\n",
    "The EGFR submodule describes the interaction between Egfr, Egf, Grb2, Cbl, Sos1 and Ras (which describes the action K-Ras, N-Ras and H-Ras). Here, we instantiate\n",
    "the respective monomers and provide uniprot IDs as monomer annotations."
   ]
  },
  {
   "cell_type": "code",
   "execution_count": 4,
   "metadata": {},
   "outputs": [],
   "source": [
    "Monomer('EGFR', ['KD', 'Tyr', 'rtkf', 'ub'], {'Tyr': ['p', 'u'], 'ub': ['false', 'true']})\n",
    "Annotation(EGFR, 'http://identifiers.org/uniprot/P00533', 'is')\n",
    "\n",
    "Monomer('GRB2', ['SH2', 'SH3'])\n",
    "Annotation(GRB2, 'http://identifiers.org/uniprot/P62993', 'is')\n",
    "\n",
    "Monomer('SOS1', ['S1134', 'SH3m', 'ras'], {'S1134': ['p', 'u']})\n",
    "Annotation(SOS1, 'http://identifiers.org/uniprot/Q07889', 'is')\n",
    "\n",
    "Monomer('RAS', ['raf', 'sos1', 'state'], {'state': ['gdp', 'gtp']})\n",
    "Annotation(RAS, 'http://identifiers.org/uniprot/P01111', 'is')\n",
    "Annotation(RAS, 'http://identifiers.org/uniprot/P01116', 'is')\n",
    "Annotation(RAS, 'http://identifiers.org/uniprot/P01112', 'is')\n",
    "\n",
    "Monomer('CBL', ['SH3m'])\n",
    "Annotation(CBL, 'http://identifiers.org/uniprot/P22681', 'is');"
   ]
  },
  {
   "cell_type": "markdown",
   "metadata": {},
   "source": [
    "## EGF activation\n",
    "To describe activation of Egfr through Egf, we implement base binding rates between Egf and Egfr. We implement these rules as energy rules, which allow us to later use the energy-based formalism in BioNetGen <cite data-cite=\"2754712/JHN992B6\"></cite> to describe allosteric interactions between the two molecules. Energy rules\n",
    "are parameterised using three distinct parameters: the `kD` parameter which describes the affinity between the two molecules, the `kf` parameter which describes the timescale of the interaction and the `phi` parameter which takes values between 0 and 1 and balance whether allosteric interactions modulate the affinity by changing the association rate (`kf`, only association if `phi=0`) or the dissociation rate (`kr = kf*kD`, only dissociation if `phi=1`).\n",
    "\n",
    "We implement the ligand-receptor binding using the generic `rtk` binding site on the ligand and the `rtkf` binding site on the receptor. We implement the receptor-receptor binding using the `rtk` binding site on the receptor. This formalism simplifies future extensions of the model to additional ligands or receptors by ensuring that each receptor can only bind one ligand and one receptor. For receptor-receptor interactions, we implement asymmetric binding between kinase domain `KD` and the generic phosphorylation site `Tyr`. Implementing seperate reactions for `EGFR(KD=None, Tyr='u')` and `EGFR(KD=None, Tyr='p')` avoids infinite multimerization between EGFR molecules that would prevent network generation."
   ]
  },
  {
   "cell_type": "code",
   "execution_count": 5,
   "metadata": {},
   "outputs": [],
   "source": [
    "# binding Egf-Egfr\n",
    "Parameter('bind_EGF_EGFR_kf')\n",
    "Parameter('bind_EGF_EGFR_kD')\n",
    "Parameter('bind_EGF_EGFR_phi')\n",
    "Expression('bind_EGF_EGFR_kr', bind_EGF_EGFR_kf*bind_EGF_EGFR_kD)\n",
    "Expression('Gf_bind_EGF_EGFR', log(bind_EGF_EGFR_kD))\n",
    "Expression('Ea0_bind_EGF_EGFR', -(bind_EGF_EGFR_phi*log(bind_EGF_EGFR_kD) + log(bind_EGF_EGFR_kf)))\n",
    "Rule('EGF_and_EGFR_bind_and_dissociate', \n",
    "     EGF(rtk=None) + EGFR(rtkf=None) | EGF(rtk=1) % EGFR(rtkf=1), \n",
    "     bind_EGF_EGFR_phi, Ea0_bind_EGF_EGFR, energy=True)\n",
    "EnergyPattern('ep_bind_EGF_EGFR', EGF(rtk=1) % EGFR(rtkf=1), Gf_bind_EGF_EGFR)\n",
    "\n",
    "# binding Egfr-Egfr\n",
    "Parameter('bind_EGFR_EGFR_kf')\n",
    "Parameter('bind_EGFR_EGFR_kD')\n",
    "Parameter('bind_EGFR_EGFR_phi')\n",
    "Expression('Gf_bind_EGFR_EGFR', log(bind_EGFR_EGFR_kD))\n",
    "Expression('Ea0_bind_EGFR_EGFR', -(bind_EGFR_EGFR_phi*log(bind_EGFR_EGFR_kD) + log(bind_EGFR_EGFR_kf)))\n",
    "Rule('bind_EGFR_EGFRu', EGFR(KD=None, Tyr='u') + EGFR(KD=None, Tyr='u') | EGFR(KD=1, Tyr='u') % EGFR(KD=None, Tyr=('u', 1)), bind_EGFR_EGFR_phi, Ea0_bind_EGFR_EGFR, energy=True)\n",
    "Rule('bind_EGFR_EGFRp', EGFR(KD=None, Tyr='p') + EGFR(KD=None, Tyr='u') | EGFR(KD=1, Tyr='p') % EGFR(KD=None, Tyr=('u', 1)), bind_EGFR_EGFR_phi, Ea0_bind_EGFR_EGFR, energy=True)\n",
    "EnergyPattern('ep_bind_EGFR_EGFR', EGFR(KD=1) % EGFR(Tyr=1), Gf_bind_EGFR_EGFR);"
   ]
  },
  {
   "cell_type": "markdown",
   "metadata": {},
   "source": [
    "To implement allosteric interaction between Egf ligands and Egfr <cite data-cite=\"2754712/BIUJJCT7\"></cite>, we add one energy patterns that allows the modulation of the affinities of Egfr-Egf and Egfr-Egfr interactions through binding of ligands."
   ]
  },
  {
   "cell_type": "code",
   "execution_count": 6,
   "metadata": {},
   "outputs": [],
   "source": [
    "# Egf mediated affinity modulation\n",
    "Parameter('ep_EGFR_EGFR_mod_EGF_single_deltaG')\n",
    "Expression('ep_EGFR_EGFR_EGF_Gf', log(ep_EGFR_EGFR_mod_EGF_single_deltaG))\n",
    "EnergyPattern('ep_EGFR_EGFR_EGF', EGF(rtk=1) % EGFR(KD=ANY, rtkf=1), ep_EGFR_EGFR_EGF_Gf)\n",
    "Annotation(ep_EGFR_EGFR_EGF, 'http://identifiers.org/pubmed/16946702', 'isDescribedBy')\n",
    "Annotation(ep_EGFR_EGFR_EGF, 'http://identifiers.org/pubmed/16946702', 'isDescribedBy');"
   ]
  },
  {
   "cell_type": "markdown",
   "metadata": {},
   "source": [
    "## EGFR phosphorylation\n",
    "Egfr molecules transactivate each other following binding of Egf ligands. To simplify the model here, we implement a generic Tyrosine phosphorylation site that accounts for multiple different sites including Y992, Y1068, Y1086, Y1148, and Y1173. Dephosphorylation is implement as first order kinetics. Note that only specifying the state, in contrast to `('p',WILD)`, means that dephosphorylation will not take place if there is a bond involving that site."
   ]
  },
  {
   "cell_type": "code",
   "execution_count": 7,
   "metadata": {},
   "outputs": [],
   "source": [
    "Parameter('catalyze_EGFR_EGFR_p_kcat')\n",
    "Parameter('catalyze_EGFR_u_kcatr')\n",
    "\n",
    "Expression('catalyze_EGFR_u_kcat', \n",
    "           catalyze_EGFR_EGFR_p_kcat*catalyze_EGFR_u_kcatr)\n",
    "\n",
    "Rule('catalyze_EGFR_EGFR_p', \n",
    "     EGFR(KD=1, rtkf=ANY) % EGFR(Tyr=('u', 1)) >> EGFR(KD=None, rtkf=ANY) + EGFR(Tyr='p'), \n",
    "     catalyze_EGFR_EGFR_p_kcat)\n",
    "Rule('catalyze_EGFR_u', \n",
    "     EGFR(Tyr='p') >> EGFR(Tyr='u'), \n",
    "     catalyze_EGFR_u_kcat);"
   ]
  },
  {
   "cell_type": "markdown",
   "metadata": {},
   "source": [
    "## GRB2 recruitement\n",
    "Recruitement of Grb2 to receptor requires transactivation <cite data-cite=\"2754712/XCZ7WMHE\"></cite> of multiple Egfr phosphorylation sites that are recognized by the Grb2 Src2 homology 2 (SH2) domain <cite data-cite=\"2754712/XPQTB6V8\"></cite>. As the Grb2 SH2 uses the `Tyr` site as epitope for binding, this implicitely prevents dephosphorylation, and we can use the energy formalism to describe the interaction since both binding and unbinding have symmetric conditions."
   ]
  },
  {
   "cell_type": "code",
   "execution_count": 8,
   "metadata": {},
   "outputs": [],
   "source": [
    "# EGFR-Grb2 binding\n",
    "\n",
    "Parameter('bind_pEGFR_GRB2_kf', 10.0)\n",
    "Parameter('bind_pEGFR_GRB2_kD', 100.0)\n",
    "Parameter('bind_pEGFR_GRB2_phi', 1.0)\n",
    "\n",
    "Expression('Ea0_bind_pEGFR_GRB2', \n",
    "           -bind_pEGFR_GRB2_phi*log(bind_pEGFR_GRB2_kD) - log(bind_pEGFR_GRB2_kf))\n",
    "Expression('Gf_bind_pEGFR_GRB2', \n",
    "           log(bind_pEGFR_GRB2_kD))\n",
    "\n",
    "Rule('bind_pEGFR_GRB2', \n",
    "     GRB2(SH2=None) + EGFR(Tyr='p') | GRB2(SH2=1) % EGFR(Tyr=('p', 1)), \n",
    "     bind_pEGFR_GRB2_phi, Ea0_bind_pEGFR_GRB2, energy=True)\n",
    "EnergyPattern('ep_bind_pEGFR_GRB2', EGFR(Tyr=1) % GRB2(SH2=1), Gf_bind_pEGFR_GRB2)\n",
    "\n",
    "Annotation(bind_pEGFR_GRB2, 'http://identifiers.org/pubmed/16777603', 'isDescribedBy');"
   ]
  },
  {
   "cell_type": "markdown",
   "metadata": {},
   "source": [
    "## CBL recruitement and EGFR ubiquitination\n",
    "CBL is and E3-ligase that ubiquitinates EGFR, leading to degradation during endocytosis. CBL is recruited to EGFR by binding to the GRB2 SH3 domain. We implemented this interaction using an energy binding rule."
   ]
  },
  {
   "cell_type": "code",
   "execution_count": 9,
   "metadata": {},
   "outputs": [],
   "source": [
    "Parameter('bind_CBL_GRB2_kf')\n",
    "Parameter('bind_CBL_GRB2_kD')\n",
    "Parameter('bind_CBL_GRB2_phi')\n",
    "\n",
    "Expression('bind_CBL_GRB2_kr', bind_CBL_GRB2_kD*bind_CBL_GRB2_kf)\n",
    "Expression('Gf_bind_CBL_GRB2', log(bind_CBL_GRB2_kD))\n",
    "Expression('Ea0_bind_CBL_GRB2', -bind_CBL_GRB2_phi*log(bind_CBL_GRB2_kD) - log(bind_CBL_GRB2_kf))\n",
    "\n",
    "Rule('CBL_and_GRB2_bind_and_dissociate', CBL(SH3m=None) + GRB2(SH3=None) | CBL(SH3m=1) % GRB2(SH3=1), bind_CBL_GRB2_phi, Ea0_bind_CBL_GRB2, energy=True)\n",
    "EnergyPattern('ep_bind_CBL_GRB2', CBL(SH3m=1) % GRB2(SH3=1), Gf_bind_CBL_GRB2);"
   ]
  },
  {
   "cell_type": "markdown",
   "metadata": {},
   "source": [
    "To implement ubiquitination, we only require that CBL is in complex with EGFR. This means that in an EGFR dimer, CBL can ubiquitinate both EGFR molecules. EGFR deubiquitination is implemented as first order reaction. EGFR synthesis is desribed in a separate Section [Egfr expression](#Egfr expression)"
   ]
  },
  {
   "cell_type": "code",
   "execution_count": 10,
   "metadata": {},
   "outputs": [],
   "source": [
    "Parameter('catalyze_CBL_EGFR_ub_kcat')\n",
    "Parameter('catalyze_EGFR_dub_kcatr')\n",
    "\n",
    "Expression('catalyze_EGFR_dub_kcat', catalyze_CBL_EGFR_ub_kcat*catalyze_EGFR_dub_kcatr)\n",
    "\n",
    "Rule('catalyze_CBL_EGFR_ub', EGFR(ub='false') % CBL() >> EGFR(ub='true') % CBL(), catalyze_CBL_EGFR_ub_kcat)\n",
    "Rule('catalyze_EGFR_dub', EGFR(ub='true') >> EGFR(ub='false'), catalyze_EGFR_dub_kcat);"
   ]
  },
  {
   "cell_type": "markdown",
   "metadata": {},
   "source": [
    "## EGFR degradation and recycling\n",
    "EGFR phosphorylation is not oly important for signal transduction, but also regulates the balance between slower, clathrin-independent and faster, clathrin-dependent receptor endocytosis <cite data-cite=\"2754712/IMG4CADM\"></cite> <cite data-cite=\"2754712/ZES6PZM8\"></cite> <cite data-cite=\"2754712/Q6YXK9FN\"></cite>. \n",
    "\n",
    "We only implement clathrin-dependent endocytosis and assume that baseline clathrin-indepedent endocytosis and degradation is adequately captured by basal EGFR degradation rates. Endoyctosis is activated for phosphorylated EGFR, while receptor recycling is implemented independent of phosphorylation status. Endocytosis is implemented as compartment change from the plasma membrane `PM` to the endosome membrane `EM`. This implies that all binding partners that were located in the cytoplasm `CP` remain the the cytoplasm and thus continue signaling during endocytosis. Degradation of EGFR in endosomes is implemented to require ubiquitination. The degradation rate is implement as Hill-type kinetics with half maximal concentration `catalyze_EGFR_deg_kM` and propensity `catalyze_EGFR_endo_kcat`. Note that the default first order kinetics in BNG will multiply the rate by `ubEGFR`, so the overall rate increases with `ubEGFR`, but never exceeds `catalyze_EGFR_endo_kcat`. This ensures rate-limitation of clathrin dependent receptor degradation. The `delete_molecules=True` parameter encodes that only Egfr molecules are degradade and all other molecules are remain as possibly fragmented comlexes that can continue signaling."
   ]
  },
  {
   "cell_type": "code",
   "execution_count": 11,
   "metadata": {},
   "outputs": [],
   "source": [
    "Parameter('catalyze_EGFR_endo_kcat')\n",
    "Parameter('catalyze_EGFR_deg_kM')\n",
    "Parameter('catalyze_EGFR_recycl_kcat')\n",
    "Parameter('catalyze_EGFR_deg_kcat')\n",
    "\n",
    "Observable('ubEGFR', EGFR(Tyr='p') ** PM)\n",
    "\n",
    "Expression('catalyze_EGFR_kendo', catalyze_EGFR_endo_kcat/(ubEGFR + catalyze_EGFR_deg_kM))\n",
    "\n",
    "Rule('pEGFR_is_endocytosed', \n",
    "     EGFR(Tyr='p') ** PM >> EGFR(Tyr='p') ** EM, \n",
    "     catalyze_EGFR_kendo, move_connected=True)\n",
    "Rule('EGFR_is_recycled', \n",
    "     EGFR() ** EM >> EGFR() ** PM, \n",
    "     catalyze_EGFR_recycl_kcat, move_connected=True)\n",
    "Rule('ubEGFR_is_degraded', EGFR(ub='true') ** EM >> None, \n",
    "     catalyze_EGFR_deg_kcat, delete_molecules=True);"
   ]
  },
  {
   "cell_type": "markdown",
   "metadata": {},
   "source": [
    "## SOS1 activation\n",
    "Grb2 recruitement by Egfr also induces association of Sos1 to the plasma-membrane, where it can activate Ras by inducing nucleotide exchange <cite data-cite=\"2754712/AQG5TFL3\"></cite>. In the model we implement that Grb2 and Sos1 preform complexes in the cytoplasm <cite data-cite=\"2754712/ITU427M5\"></cite>. This interaction is also mediated by the GRB2 SH3 domain, which implies competitive binding between SOS1 and CBL. Sos1 is activated through association to the plasma-membrane, which is mediated recruitement of Grb2 by Egfr. Given that the training data does not include any data or perturbations at the Ras level, we implement a simple catalysis rule for activation of Ras, where SOS1 only binds GDP bound Ras and catalysis is implemented without homonucleotide exchange, allosteric feedback mechanisms or interactions with cdc25 <cite data-cite=\"2754712/AQG5TFL3\"></cite>. Similarly, we implement inactivation of Ras through GTPase activation proteins, such as NF1, as a simple linear reaction with constant rate.\n",
    "\n",
    "As previous binding reactions, the rules are paramterized using `kf` and `kD` values. As for the Grb2-Egfr interaction, the binding domains on Sos1 and Grb2 are implemented as `SH3` sites on both molecules, simplifying the much more intricate binding dynamics <cite data-cite=\"2754712/RB2FVNX9\"></cite>. The translocation of Grb2 and Sos1 to the plasma membrane is not explicitely implemented in the model but implicitely encoded by requiring Grb2 and Egfr association for binding to Ras. To reduce correlations between parameter estimates, we implement the inactivation rate `[...]_gdp_kcat` of Ras as product of the activation rate `[...]_gtp_kcat` and a scaling factor `[...]_gdp_kcatr`. The requirement of `raf=None` in the inactivation rule will be explained in the Section on [Raf activation](#Raf-activation)."
   ]
  },
  {
   "cell_type": "code",
   "execution_count": 12,
   "metadata": {},
   "outputs": [],
   "source": [
    "# binding Grb2-Sos1\n",
    "Parameter('bind_GRB2_SOS1_kf', 10.0)\n",
    "Parameter('bind_GRB2_SOS1_kD', 0.01)\n",
    "Parameter('bind_GRB2_SOS1_phi', 1.0)\n",
    "\n",
    "Expression('Gf_bind_GRB2_SOS1', \n",
    "           log(bind_GRB2_SOS1_kD))\n",
    "Expression('Ea0_bind_GRB2_SOS1', \n",
    "           -bind_GRB2_SOS1_phi*log(bind_GRB2_SOS1_kD) - log(bind_GRB2_SOS1_kf))\n",
    "\n",
    "Rule('GRB2_and_SOS1_bind_and_dissociate', \n",
    "     GRB2(SH3=None) + SOS1(SH3m=None) | GRB2(SH3=1) % SOS1(SH3m=1), \n",
    "     bind_GRB2_SOS1_phi, Ea0_bind_GRB2_SOS1, energy=True)\n",
    "EnergyPattern('ep_bind_GRB2_SOS1', GRB2(SH3=1) % SOS1(SH3m=1), Gf_bind_GRB2_SOS1)\n",
    "Annotation(GRB2_and_SOS1_bind_and_dissociate, 'http://identifiers.org/pubmed/7893993', 'isDescribedBy')\n",
    "\n",
    "# binding Sos1-Ras\n",
    "Parameter('bind_SOS1_RAS_kf')\n",
    "Parameter('bind_SOS1_RAS_kD')\n",
    "Expression('bind_SOS1_RAS_kr', bind_SOS1_RAS_kf*bind_SOS1_RAS_kD)\n",
    "Rule('RTK_and_GRB2_bound_SOS1_binds_RASgdp', \n",
    "     GRB2(SH2=ANY, SH3=1) % SOS1(SH3m=1, ras=None) + RAS(sos1=None, state='gdp') \n",
    "     >> \n",
    "     GRB2(SH2=ANY, SH3=1) % SOS1(SH3m=1, ras=2) % RAS(sos1=2, state='gdp'), \n",
    "     bind_SOS1_RAS_kf)\n",
    "Rule('SOS1_dissociates_from_RAS', \n",
    "     SOS1(ras=1) % RAS(sos1=1) >> SOS1(ras=None) + RAS(sos1=None), \n",
    "     bind_SOS1_RAS_kr)\n",
    "\n",
    "# activation + inactivation Ras\n",
    "Parameter('catalyze_SOS1_RAS_gtp_kcat')\n",
    "Parameter('catalyze_NF1_RAS_gdp_kcatr')\n",
    "Expression('catalyze_NF1_RAS_gdp_kcat', catalyze_SOS1_RAS_gtp_kcat*catalyze_NF1_RAS_gdp_kcatr)\n",
    "Rule('SOS1_catalyzes_RAS_guanosine_exchange', \n",
    "     SOS1(ras=1) % RAS(sos1=1, state='gdp') >> SOS1(ras=None) + RAS(sos1=None, state='gtp'), \n",
    "     catalyze_SOS1_RAS_gtp_kcat)\n",
    "Rule('RAS_hydrolysis_GTP', \n",
    "     RAS(raf=None, state='gtp') >> RAS(raf=None, state='gdp'), catalyze_NF1_RAS_gdp_kcat);"
   ]
  },
  {
   "cell_type": "markdown",
   "metadata": {},
   "source": [
    "# ERK signaling\n",
    "The Erk submodule describes the interaction between the two Rafs c-Raf and B-Raf, Mek (which describes Mek1 and Mek2) and Erk (which describes Erk1 and Erk2). Again, we instantiate the respective monomers and provide uniprot IDs as monomer annotations."
   ]
  },
  {
   "cell_type": "code",
   "execution_count": 13,
   "metadata": {},
   "outputs": [],
   "source": [
    "Monomer('BRAF', ['AA600', 'RBD', 'mek', 'raf', 'rafi'], {'AA600': ['E']})\n",
    "Annotation(BRAF, 'http://identifiers.org/uniprot/P15056', 'is')\n",
    "\n",
    "Monomer('CRAF', ['RBD', 'mek', 'raf', 'rafi'])\n",
    "Annotation(CRAF, 'http://identifiers.org/uniprot/P04049', 'is')\n",
    "\n",
    "Monomer('MEK', ['Dsite', 'meki', 'phospho', 'raf'], {'phospho': ['p', 'u']})\n",
    "Annotation(MEK, 'http://identifiers.org/uniprot/Q02750', 'is')\n",
    "Annotation(MEK, 'http://identifiers.org/uniprot/P36507', 'is')\n",
    "\n",
    "Monomer('ERK', ['CD', 'phospho'], {'phospho': ['p', 'u']})\n",
    "Annotation(ERK, 'http://identifiers.org/uniprot/P27361', 'is')\n",
    "Annotation(ERK, 'http://identifiers.org/uniprot/P28482', 'is');"
   ]
  },
  {
   "cell_type": "markdown",
   "metadata": {},
   "source": [
    "## Raf activation\n",
    "GTP-bound Ras activates Raf by recruiting it to the membrane where it is phosphorylated and dimerizes. As understanding of the exact mechanisms of this activation process are still incomplete, we implemented a simplistic model of this process that captures essential features of the interaction. We implement a base dimerization rate between Raf monomers and only allow binding of Raf monomers to GTP-bound Ras. To implement the Ras-mediated dimerization of Raf, we implement an energy pattern for Ras-Raf tetramers modulates both binding affinities.\n",
    "\n",
    "We implement both binding rules as energy rules, where we assume that affinities for B-Raf and C-Raf are the same for all interactions. As energy rules require symmetric forward and backward reactions, inactivation of Ras would protect Raf from unbinding from Ras. Accordingly, we add two additional inactivation reactions that dissociate Raf from Ras and required that no Raf was bound in the baseline inactivation."
   ]
  },
  {
   "cell_type": "code",
   "execution_count": 14,
   "metadata": {},
   "outputs": [],
   "source": [
    "# Raf-Raf binding\n",
    "Parameter('bind_RAF_RAF_kf')\n",
    "Parameter('bind_RAF_RAF_kD')\n",
    "Parameter('bind_RAF_RAF_phi')\n",
    "Expression('bind_BRAF_BRAF_kr', bind_RAF_RAF_kf*bind_RAF_RAF_kD)\n",
    "Expression('Gf_bind_BRAF_BRAF', log(bind_RAF_RAF_kD))\n",
    "Expression('Ea0_bind_BRAF_BRAF', -(bind_RAF_RAF_phi*log(bind_RAF_RAF_kD) + log(bind_RAF_RAF_kf)))\n",
    "Expression('bind_BRAF_CRAF_kr', bind_RAF_RAF_kf*bind_RAF_RAF_kD)\n",
    "Expression('Gf_bind_BRAF_CRAF', log(bind_RAF_RAF_kD))\n",
    "Expression('Ea0_bind_BRAF_CRAF', -(bind_RAF_RAF_phi*log(bind_RAF_RAF_kD) + log(bind_RAF_RAF_kf)))\n",
    "Expression('bind_CRAF_CRAF_kr', bind_RAF_RAF_kf*bind_RAF_RAF_kD)\n",
    "Expression('Gf_bind_CRAF_CRAF', log(bind_RAF_RAF_kD))\n",
    "Expression('Ea0_bind_CRAF_CRAF', -(bind_RAF_RAF_phi*log(bind_RAF_RAF_kD) + log(bind_RAF_RAF_kf)))\n",
    "Rule('BRAF_and_BRAF_bind_and_dissociate', \n",
    "     BRAF(raf=None) + BRAF(raf=None) | BRAF(raf=1) % BRAF(raf=1), \n",
    "     bind_RAF_RAF_phi, \n",
    "     Ea0_bind_BRAF_BRAF, \n",
    "     energy=True)\n",
    "Rule('BRAF_and_CRAF_bind_and_dissociate', \n",
    "     BRAF(raf=None) + CRAF(raf=None) | BRAF(raf=1) % CRAF(raf=1), \n",
    "     bind_RAF_RAF_phi, \n",
    "     Ea0_bind_BRAF_CRAF, \n",
    "     energy=True)\n",
    "Rule('CRAF_and_CRAF_bind_and_dissociate', \n",
    "     CRAF(raf=None) + CRAF(raf=None) | CRAF(raf=1) % CRAF(raf=1), \n",
    "     bind_RAF_RAF_phi, \n",
    "     Ea0_bind_CRAF_CRAF, \n",
    "     energy=True)\n",
    "EnergyPattern('ep_bind_BRAF_BRAF', BRAF(raf=1) % BRAF(raf=1), Gf_bind_BRAF_BRAF)\n",
    "EnergyPattern('ep_bind_BRAF_CRAF', BRAF(raf=1) % CRAF(raf=1), Gf_bind_BRAF_CRAF)\n",
    "EnergyPattern('ep_bind_CRAF_CRAF', CRAF(raf=1) % CRAF(raf=1), Gf_bind_CRAF_CRAF)\n",
    "\n",
    "# Ras_gtp-RAF binding\n",
    "Parameter('bind_RASstategtp_RAF_kf')\n",
    "Parameter('bind_RASstategtp_RAF_kD')\n",
    "Parameter('bind_RASstategtp_RAF_phi')\n",
    "Expression('bind_RASstategtp_BRAF_kr', bind_RASstategtp_RAF_kf*bind_RASstategtp_RAF_kD)\n",
    "Expression('Gf_bind_RASstategtp_BRAF', log(bind_RASstategtp_RAF_kD))\n",
    "Expression('Ea0_bind_RASstategtp_BRAF', \n",
    "           -(bind_RASstategtp_RAF_phi*log(bind_RASstategtp_RAF_kD) + log(bind_RASstategtp_RAF_kf)))\n",
    "Expression('bind_RASstategtp_CRAF_kr', bind_RASstategtp_RAF_kf*bind_RASstategtp_RAF_kD)\n",
    "Expression('Gf_bind_RASstategtp_CRAF', log(bind_RASstategtp_RAF_kD))\n",
    "Expression('Ea0_bind_RASstategtp_CRAF', \n",
    "           -(bind_RASstategtp_RAF_phi*log(bind_RASstategtp_RAF_kD) + log(bind_RASstategtp_RAF_kf)))\n",
    "Rule('RASgtp_and_BRAF_bind_and_dissociate', \n",
    "     RAS(raf=None, state='gtp') + BRAF(RBD=None) | RAS(raf=1, state='gtp') % BRAF(RBD=1), \n",
    "     bind_RASstategtp_RAF_phi, \n",
    "     Ea0_bind_RASstategtp_BRAF, \n",
    "     energy=True)\n",
    "Rule('RASgtp_and_CRAF_bind_and_dissociate', \n",
    "     RAS(raf=None, state='gtp') + CRAF(RBD=None) | RAS(raf=1, state='gtp') % CRAF(RBD=1), \n",
    "     bind_RASstategtp_RAF_phi, \n",
    "     Ea0_bind_RASstategtp_CRAF, \n",
    "     energy=True)\n",
    "EnergyPattern('ep_bind_RASstategtp_BRAF', RAS(raf=1, state='gtp') % BRAF(RBD=1), Gf_bind_RASstategtp_BRAF)\n",
    "EnergyPattern('ep_bind_RASstategtp_CRAF', RAS(raf=1, state='gtp') % CRAF(RBD=1), Gf_bind_RASstategtp_CRAF)\n",
    "\n",
    "# Ras-Raf inactivation\n",
    "Rule('GTP_hydrolysis_dissociates_BRAF_from_RAS', \n",
    "     RAS(raf=1, state='gtp') % BRAF(RBD=1) >> RAS(raf=None, state='gdp') + BRAF(RBD=None), \n",
    "     catalyze_NF1_RAS_gdp_kcat)\n",
    "Rule('GTP_hydrolysis_dissociates_CRAF_from_RAS', \n",
    "     RAS(raf=1, state='gtp') % CRAF(RBD=1) >> RAS(raf=None, state='gdp') + CRAF(RBD=None),\n",
    "     catalyze_NF1_RAS_gdp_kcat)\n",
    "\n",
    "# Ras induces Raf dimerization\n",
    "Parameter('ep_RAF_RAF_mod_RASstategtp_double_deltaG')\n",
    "Expression('ep_RAF_RAF_mod_RASstategtp_double_Gf', log(ep_RAF_RAF_mod_RASstategtp_double_deltaG))\n",
    "EnergyPattern('ep_BRAF_BRAF_mod_RAS_double', \n",
    "              RAS(raf=2, state='gtp') % BRAF(RBD=2, raf=1) % BRAF(RBD=3, raf=1) % RAS(raf=3, state='gtp'), \n",
    "              ep_RAF_RAF_mod_RASstategtp_double_Gf)\n",
    "EnergyPattern('ep_BRAF_CRAF_mod_RAS_double', \n",
    "              RAS(raf=2, state='gtp') % BRAF(RBD=2, raf=1) % CRAF(RBD=3, raf=1) % RAS(raf=3, state='gtp'), \n",
    "              ep_RAF_RAF_mod_RASstategtp_double_Gf)\n",
    "EnergyPattern('ep_CRAF_CRAF_mod_RAS_double', \n",
    "              RAS(raf=2, state='gtp') % CRAF(RBD=2, raf=1) % CRAF(RBD=3, raf=1) % RAS(raf=3, state='gtp'), \n",
    "              ep_RAF_RAF_mod_RASstategtp_double_Gf);"
   ]
  },
  {
   "cell_type": "markdown",
   "metadata": {},
   "source": [
    "## Raf inhibition\n",
    "Although Vemurafenib is an ATP-competitive inihibitor, it is known to exert allosteric effects. Here, we adapt a previously published model for these allosteric interactions between C-Raf, B-Raf and Vemurafenib <cite data-cite=\"2754712/7TJH2IAK\"></cite>. The model implements binding between Vemurafenib (`RAFi`) and C-Raf and B-Raf (`RAF`) as energy rule as well as two sets of energy patterns that modulate `RAF-RAF` and `RAF-RAFi` affinities in single and double drug bound RAF-RAF homo and heterodimers.\n",
    "\n",
    "In this implementation, C-Raf and B-Raf both correspond to kinase monomers `R` of the Kholodenko Core Model (KCM). `K1` of the KCM is equivalent to the parameter `bind_RAF_RAF_kD`, which was introduced in the previous Section. `K2` in the KCM is equivalent to `bind_RAFi_RAF_kD`, `f` to `ep_RAF_RAF_mod_RAFi_single_deltaG` and `g` to `ep_RAF_RAF_mod_RAFi_double_deltaG`."
   ]
  },
  {
   "cell_type": "code",
   "execution_count": 15,
   "metadata": {},
   "outputs": [],
   "source": [
    "# Binding RAFi-Raf\n",
    "Parameter('bind_RAFi_RAF_kf')\n",
    "Parameter('bind_RAFi_RAF_kD')\n",
    "Parameter('bind_RAFi_RAF_phi')\n",
    "Expression('bind_BRAFi_RAF_kr', bind_RAFi_RAF_kf*bind_RAFi_RAF_kD)\n",
    "Expression('Gf_bind_BRAFi_RAF', log(bind_RAFi_RAF_kD))\n",
    "Expression('Ea0_bind_BRAFi_RAF', -(bind_RAFi_RAF_phi*log(bind_RAFi_RAF_kD) + log(bind_RAFi_RAF_kf)))\n",
    "Expression('bind_CRAFi_RAF_kr', bind_RAFi_RAF_kf*bind_RAFi_RAF_kD)\n",
    "Expression('Gf_bind_CRAFi_RAF', log(bind_RAFi_RAF_kD))\n",
    "Expression('Ea0_bind_CRAFi_RAF', -(bind_RAFi_RAF_phi*log(bind_RAFi_RAF_kD) + log(bind_RAFi_RAF_kf)))\n",
    "Rule('RAFi_and_BRAF_bind_and_dissociate', \n",
    "     RAFi(raf=None) + BRAF(rafi=None) | RAFi(raf=1) % BRAF(rafi=1), \n",
    "     bind_RAFi_RAF_phi, \n",
    "     Ea0_bind_BRAFi_RAF, \n",
    "     energy=True)\n",
    "Rule('RAFi_and_CRAF_bind_and_dissociate', \n",
    "     RAFi(raf=None) + CRAF(rafi=None) | RAFi(raf=1) % CRAF(rafi=1), \n",
    "     bind_RAFi_RAF_phi, \n",
    "     Ea0_bind_CRAFi_RAF, \n",
    "     energy=True)\n",
    "EnergyPattern('ep_bind_BRAFi_RAF', RAFi(raf=1) % BRAF(rafi=1), Gf_bind_BRAFi_RAF)\n",
    "EnergyPattern('ep_bind_CRAFi_RAF', RAFi(raf=1) % CRAF(rafi=1), Gf_bind_CRAFi_RAF)\n",
    "\n",
    "# RAFi mediated affinity modulation\n",
    "Parameter('ep_RAF_RAF_mod_RAFi_single_deltaG')\n",
    "Parameter('ep_RAF_RAF_mod_RAFi_double_deltaG')\n",
    "Expression('ep_RAF_RAF_mod_RAFi_single_Gf', log(ep_RAF_RAF_mod_RAFi_single_deltaG))\n",
    "Expression('ep_RAF_RAF_mod_RAFi_double_Gf', \n",
    "           log(ep_RAF_RAF_mod_RAFi_double_deltaG) + log(ep_RAF_RAF_mod_RAFi_single_deltaG))\n",
    "\n",
    "## Single Vemurafenib bound Raf dimers\n",
    "EnergyPattern('ep_BRAF_BRAF_mod_RAFi_single', \n",
    "              BRAF(raf=1, rafi=None) % BRAF(raf=1, rafi=2) % RAFi(raf=2), \n",
    "              ep_RAF_RAF_mod_RAFi_single_Gf)\n",
    "EnergyPattern('ep_BRAF_CRAF_mod_RAFi_single', \n",
    "              BRAF(raf=1, rafi=None) % CRAF(raf=1, rafi=2) % RAFi(raf=2), \n",
    "              ep_RAF_RAF_mod_RAFi_single_Gf)\n",
    "EnergyPattern('ep_CRAF_BRAF_mod_RAFi_single', \n",
    "              CRAF(raf=1, rafi=None) % BRAF(raf=1, rafi=2) % RAFi(raf=2), \n",
    "              ep_RAF_RAF_mod_RAFi_single_Gf)\n",
    "EnergyPattern('ep_CRAF_CRAF_mod_RAFi_single', \n",
    "              CRAF(raf=1, rafi=None) % CRAF(raf=1, rafi=2) % RAFi(raf=2), \n",
    "              ep_RAF_RAF_mod_RAFi_single_Gf)\n",
    "\n",
    "## Double Vemurafenib bound Raf dimers\n",
    "EnergyPattern('ep_BRAF_BRAF_mod_RAFi_double', \n",
    "              RAFi(raf=2) % BRAF(raf=1, rafi=2) % BRAF(raf=1, rafi=3) % RAFi(raf=3), \n",
    "              ep_RAF_RAF_mod_RAFi_double_Gf)\n",
    "EnergyPattern('ep_BRAF_CRAF_mod_RAFi_double', \n",
    "              RAFi(raf=2) % BRAF(raf=1, rafi=2) % CRAF(raf=1, rafi=3) % RAFi(raf=3), \n",
    "              ep_RAF_RAF_mod_RAFi_double_Gf)\n",
    "EnergyPattern('ep_CRAF_CRAF_mod_RAFi_double', \n",
    "              RAFi(raf=2) % CRAF(raf=1, rafi=2) % CRAF(raf=1, rafi=3) % RAFi(raf=3), \n",
    "              ep_RAF_RAF_mod_RAFi_double_Gf);"
   ]
  },
  {
   "cell_type": "markdown",
   "metadata": {},
   "source": [
    "## Mek activation"
   ]
  },
  {
   "cell_type": "markdown",
   "metadata": {},
   "source": [
    "Raf activation of Mek is mediated through phosphorylation at to S218 and S222 <cite data-cite=\"2754712/6B93WFLU\"></cite>. As neither mass-spectrometry nor immunofluorescence measurements resolved individual phosphorylations on these sites, we decided to combine both into a single `phospho` site in the model. We implement the respective Mek phosphorylation as two step catalytic process including binding and phosphorylation. In agreement with previous studies, we assume that binding of Raf to Mek does not require prior activation of Raf, but is specific for unphosphorylated Mek <cite data-cite=\"2754712/KT8H2Y5J\"></cite>. "
   ]
  },
  {
   "cell_type": "code",
   "execution_count": 16,
   "metadata": {},
   "outputs": [],
   "source": [
    "# Raf-Mek binding\n",
    "Parameter('bind_RAF_MEKphosphou_kf')\n",
    "Parameter('bind_RAF_MEKphosphou_kD')\n",
    "Parameter('bind_RAF_MEKphosphou_phi')\n",
    "\n",
    "Expression('bind_BRAF_MEKphosphou_kr', bind_RAF_MEKphosphou_kD*bind_RAF_MEKphosphou_kf)\n",
    "Expression('Gf_bind_BRAF_MEKphosphou', log(bind_RAF_MEKphosphou_kD))\n",
    "Expression('Ea0_bind_BRAF_MEKphosphou', \n",
    "           -bind_RAF_MEKphosphou_phi*log(bind_RAF_MEKphosphou_kD) - log(bind_RAF_MEKphosphou_kf))\n",
    "Expression('bind_CRAF_MEKphosphou_kr', bind_RAF_MEKphosphou_kD*bind_RAF_MEKphosphou_kf)\n",
    "Expression('Gf_bind_CRAF_MEKphosphou', log(bind_RAF_MEKphosphou_kD))\n",
    "Expression('Ea0_bind_CRAF_MEKphosphou', \n",
    "           -bind_RAF_MEKphosphou_phi*log(bind_RAF_MEKphosphou_kD) - log(bind_RAF_MEKphosphou_kf))\n",
    "\n",
    "Rule('BRAF_and_uMEK_bind_and_dissociate', \n",
    "     BRAF(mek=None) + MEK(phospho='u', raf=None) | BRAF(mek=1) % MEK(phospho='u', raf=1), \n",
    "     bind_RAF_MEKphosphou_phi, Ea0_bind_BRAF_MEKphosphou, energy=True)\n",
    "Rule('CRAF_and_uMEK_bind_and_dissociate', \n",
    "     CRAF(mek=None) + MEK(phospho='u', raf=None) | CRAF(mek=1) % MEK(phospho='u', raf=1), \n",
    "     bind_RAF_MEKphosphou_phi, Ea0_bind_CRAF_MEKphosphou, energy=True)\n",
    "\n",
    "EnergyPattern('ep_bind_BRAF_MEKphosphou', BRAF(mek=1) % MEK(phospho='u', raf=1), Gf_bind_BRAF_MEKphosphou)\n",
    "EnergyPattern('ep_bind_CRAF_MEKphosphou', CRAF(mek=1) % MEK(phospho='u', raf=1), Gf_bind_CRAF_MEKphosphou);"
   ]
  },
  {
   "cell_type": "markdown",
   "metadata": {},
   "source": [
    "For the activation step, we implement a physiological activation through Raf-Ras tetramers, which is implemented in four rules that account for all possible Raf homo- and heterodimer configurations, as well as oncogenic activation through B-Raf V600E mutation, which is implemented in four rules that account for B-Raf V600E molecules complexes that do not signal as dimers. In both cases, we require that the activating Raf molecule is not bound by an inhibitor and assume that kinetic rates are the same in both cases. \n",
    "\n",
    "Experimental data presented in this study indicated phospho-Mek accumulation for physiological signaling but not for oncogenic signaling, which is consistent with previous studies <cite data-cite=\"2754712/USPWXJI3\"></cite> <cite data-cite=\"2754712/VFPC4KPB\"></cite>, we implemented different phosphorylation rates depending on wheterh Mek is bound by an inhibitor. The exact molecular mechanisms for this difference between dimer mediated and V600E mediated are unknown, yet multiple studies point towards KSR, a scaffolding protein which was not included in the model, as a possible mediator of this difference <cite data-cite=\"2754712/9HXUM55P\"></cite> <cite data-cite=\"2754712/YY7IQERJ\"></cite>."
   ]
  },
  {
   "cell_type": "code",
   "execution_count": 17,
   "metadata": {},
   "outputs": [],
   "source": [
    "# phosphorylation\n",
    "Parameter('catalyze_RAF_RAFrafiNone_MEK_p_kcat')\n",
    "Parameter('catalyze_RAFrafiNone_MEKmekiNone_p_kcat')\n",
    "Parameter('catalyze_RAFrafiNone_MEKmeki_MEKi_p_kcatr')\n",
    "\n",
    "Expression('catalyze_RAFrafiNone_MEKmekiANY_p_kcat', \n",
    "           catalyze_RAFrafiNone_MEKmekiNone_p_kcat*catalyze_RAFrafiNone_MEKmeki_MEKi_p_kcatr)\n",
    "\n",
    "## Raf-dimer mediated\n",
    "Rule('BRAF_BRAF_phosphorylates_MEK', \n",
    "     MEK(phospho='u', raf=1) % BRAF(RBD=ANY, mek=1, raf=2, rafi=None) % BRAF(RBD=ANY, raf=2) \n",
    "     >> \n",
    "     MEK(phospho='p', raf=None) + BRAF(RBD=ANY, mek=None, raf=2, rafi=None) % BRAF(RBD=ANY, raf=2), \n",
    "     catalyze_RAF_RAFrafiNone_MEK_p_kcat)\n",
    "Rule('BRAF_CRAF_phosphorylates_MEK', \n",
    "     MEK(phospho='u', raf=1) % BRAF(RBD=ANY, mek=1, raf=2, rafi=None) % CRAF(RBD=ANY, raf=2) \n",
    "     >> \n",
    "     MEK(phospho='p', raf=None) + BRAF(RBD=ANY, mek=None, raf=2, rafi=None) % CRAF(RBD=ANY, raf=2), \n",
    "     catalyze_RAF_RAFrafiNone_MEK_p_kcat)\n",
    "Rule('CRAF_BRAF_phosphorylates_MEK', \n",
    "     MEK(phospho='u', raf=1) % CRAF(RBD=ANY, mek=1, raf=2, rafi=None) % BRAF(RBD=ANY, raf=2) \n",
    "     >> \n",
    "     MEK(phospho='p', raf=None) + CRAF(RBD=ANY, mek=None, raf=2, rafi=None) % BRAF(RBD=ANY, raf=2), \n",
    "     catalyze_RAF_RAFrafiNone_MEK_p_kcat)\n",
    "Rule('CRAF_CRAF_phosphorylates_MEK', \n",
    "     MEK(phospho='u', raf=1) % CRAF(RBD=ANY, mek=1, raf=2, rafi=None) % CRAF(RBD=ANY, raf=2) \n",
    "     >> \n",
    "     MEK(phospho='p', raf=None) + CRAF(RBD=ANY, mek=None, raf=2, rafi=None) % CRAF(RBD=ANY, raf=2), \n",
    "     catalyze_RAF_RAFrafiNone_MEK_p_kcat)\n",
    "## B-Raf V600E MEKi bound\n",
    "Rule('BRAFV600E_phosphorylates_MEK_bound1', \n",
    "     MEK(meki=ANY, phospho='u', raf=1) % BRAF(AA600='E', mek=1, raf=None, rafi=None) \n",
    "     >> \n",
    "     MEK(meki=ANY, phospho='p', raf=None) + BRAF(AA600='E', mek=None, raf=None, rafi=None), \n",
    "     catalyze_RAFrafiNone_MEKmekiANY_p_kcat)\n",
    "Rule('BRAFV600E_phosphorylates_MEK_bound2', \n",
    "     MEK(meki=ANY, phospho='u', raf=1) % BRAF(AA600='E', RBD=None, mek=1, raf=ANY, rafi=None) \n",
    "     >> \n",
    "     MEK(meki=ANY, phospho='p', raf=None) + BRAF(AA600='E', RBD=None, mek=None, raf=ANY, rafi=None), \n",
    "     catalyze_RAFrafiNone_MEKmekiANY_p_kcat)\n",
    "Rule('BRAFV600E_phosphorylates_MEK_bound3', \n",
    "     MEK(meki=ANY, phospho='u', raf=1) % BRAF(AA600='E', RBD=ANY, mek=1, raf=2, rafi=None) % BRAF(RBD=None, raf=2)\n",
    "     >>\n",
    "     MEK(meki=ANY, phospho='p', raf=None) + BRAF(AA600='E', RBD=ANY, mek=None, raf=2, rafi=None) % BRAF(RBD=None, raf=2),\n",
    "     catalyze_RAFrafiNone_MEKmekiANY_p_kcat)\n",
    "Rule('BRAFV600E_phosphorylates_MEK_bound4',\n",
    "     MEK(meki=ANY, phospho='u', raf=1) % BRAF(AA600='E', RBD=ANY, mek=1, raf=2, rafi=None) % CRAF(RBD=None, raf=2)\n",
    "     >>\n",
    "     MEK(meki=ANY, phospho='p', raf=None) + BRAF(AA600='E', RBD=ANY, mek=None, raf=2, rafi=None) % CRAF(RBD=None, raf=2),\n",
    "     catalyze_RAFrafiNone_MEKmekiANY_p_kcat)\n",
    "## B-Raf V600E MEKi unbound\n",
    "Rule('BRAFV600E_phosphorylates_MEK_unbound1', \n",
    "     MEK(meki=None, phospho='u', raf=1) % BRAF(AA600='E', mek=1, raf=None, rafi=None)\n",
    "     >>\n",
    "     MEK(meki=None, phospho='p', raf=None) + BRAF(AA600='E', mek=None, raf=None, rafi=None),\n",
    "     catalyze_RAFrafiNone_MEKmekiNone_p_kcat)\n",
    "Rule('BRAFV600E_phosphorylates_MEK_unbound2',\n",
    "     MEK(meki=None, phospho='u', raf=1) % BRAF(AA600='E', RBD=None, mek=1, raf=ANY, rafi=None)\n",
    "     >>\n",
    "     MEK(meki=None, phospho='p', raf=None) + BRAF(AA600='E', RBD=None, mek=None, raf=ANY, rafi=None),\n",
    "     catalyze_RAFrafiNone_MEKmekiNone_p_kcat)\n",
    "Rule('BRAFV600E_phosphorylates_MEK_unbound3',\n",
    "     MEK(meki=None, phospho='u', raf=1) % BRAF(AA600='E', RBD=ANY, mek=1, raf=2, rafi=None) % BRAF(RBD=None, raf=2)\n",
    "     >>\n",
    "     MEK(meki=None, phospho='p', raf=None) + BRAF(AA600='E', RBD=ANY, mek=None, raf=2, rafi=None) % BRAF(RBD=None,raf=2),\n",
    "     catalyze_RAFrafiNone_MEKmekiNone_p_kcat)\n",
    "Rule('BRAFV600E_phosphorylates_MEK_unbound4',\n",
    "     MEK(meki=None, phospho='u', raf=1) % BRAF(AA600='E', RBD=ANY, mek=1, raf=2, rafi=None) % CRAF(RBD=None, raf=2)\n",
    "     >>\n",
    "     MEK(meki=None, phospho='p', raf=None) + BRAF(AA600='E', RBD=ANY, mek=None, raf=2, rafi=None) % CRAF(RBD=None, raf=2),\n",
    "     catalyze_RAFrafiNone_MEKmekiNone_p_kcat);"
   ]
  },
  {
   "cell_type": "markdown",
   "metadata": {},
   "source": [
    "PP2A and PPP1 have been suggested as putative phosphatases of Mek1, but exact regulatory mechanisms remain poorly understood. Accordingly we implement MEK dephosphorylation as conversion rule with constant rate."
   ]
  },
  {
   "cell_type": "code",
   "execution_count": 18,
   "metadata": {},
   "outputs": [],
   "source": [
    "# dephosphorylation\n",
    "Parameter('catalyze_PP2A_MEK_u_kcatr')\n",
    "Expression('catalyze_PP2A_MEK_u_kcat', catalyze_PP2A_MEK_u_kcatr*catalyze_RAF_RAFrafiNone_MEK_p_kcat)\n",
    "Rule('MEK_is_dephosphorylated', MEK(phospho='p') >> MEK(phospho='u'), catalyze_PP2A_MEK_u_kcat);"
   ]
  },
  {
   "cell_type": "markdown",
   "metadata": {},
   "source": [
    "## Mek inhibition\n",
    "Cobimetinib is an allosteric (type III) inhibitor that potently and selectively inhibits Erk activation when binding Mek. Recent studies reported a distinct potency of allosteric Mek inhibitor for Ras-GTP versus B-Raf V600E driven Mek signaling. One component of this difference in potency is the accumulation of phosphorylated Mek in Ras-GTP driven signaling, but not in B-Raf V600E driven signaling that was already described in the previous Section. A second component is the differential affinity of allosteric Mek inihibitors towards phosphorylated MEK <cite data-cite=\"2754712/FQ6JM9RD\"></cite> <cite data-cite=\"undefined\"></cite>. Accordingly, we implement binding as energy rule and add an energy pattern that allows Mek phosphorylation to modulation the respective affinity."
   ]
  },
  {
   "cell_type": "code",
   "execution_count": 19,
   "metadata": {},
   "outputs": [],
   "source": [
    "# MEKi binding\n",
    "Parameter('bind_MEKi_MEK_kf')\n",
    "Parameter('bind_MEKi_MEK_kD')\n",
    "Parameter('bind_MEKi_MEK_phi')\n",
    "Expression('bind_MEKi_MEK_kr', bind_MEKi_MEK_kf*bind_MEKi_MEK_kD)\n",
    "Expression('Gf_bind_MEKi_MEK', log(bind_MEKi_MEK_kD))\n",
    "Expression('Ea0_bind_MEKi_MEK', -(bind_MEKi_MEK_phi*log(bind_MEKi_MEK_kD) + log(bind_MEKi_MEK_kf)))\n",
    "Rule('MEKi_and_MEK_bind_and_dissociate', \n",
    "     MEKi(mek=None) + MEK(meki=None) | MEKi(mek=1) % MEK(meki=1), \n",
    "     bind_MEKi_MEK_phi, \n",
    "     Ea0_bind_MEKi_MEK, \n",
    "     energy=True)\n",
    "EnergyPattern('ep_bind_MEKi_MEK', MEKi(mek=1) % MEK(meki=1), Gf_bind_MEKi_MEK);\n",
    "\n",
    "# Modulated pMEK affinity \n",
    "Parameter('ep_MEKphosphop_MEKi_deltaG')\n",
    "Expression('ep_MEKphosphop_MEKi_Gf', log(ep_MEKphosphop_MEKi_deltaG))\n",
    "EnergyPattern('ep_MEKphosphop_MEKi_single', MEK(meki=1, phospho='p') % MEKi(mek=1), ep_MEKphosphop_MEKi_Gf);"
   ]
  },
  {
   "cell_type": "markdown",
   "metadata": {},
   "source": [
    "## Erk activation\n",
    "Mek phosphorylates Erk1 at T202 and T185 and Erk2 at Y204 and Y187. As for Mek phosphorylation sites, neither mass-spectrometry nor immunofluorescence measurements resolved individual phosphorylations, both sites were combined into a single `phospho` site in the model. \n",
    "\n",
    "As for the Mek phosphorylation we implement Erk phosphorylation as two step catalysis reaction. The binding between Mek and Erk is mediated through interaction of the MAPK-Docking site on the N-Terminus of MEK (`Dsite` site in the model) <cite data-cite=\"2754712/5D9BPF8E\"></cite> <cite data-cite=\"2754712/L5AI98Y6\"></cite> with the common docking domain on Erk (`CD` site in the model) <cite data-cite=\"2754712/VILTI493\"></cite> <cite data-cite=\"2754712/PN4VMMJP\"></cite>. In combination with Mek's nuclear export sequence, this interaction allows Mek to act as a cytosolic anchor for inactive Erk <cite data-cite=\"2754712/L5AI98Y6\"></cite>, which suggests that this interaction is not dependent of Mek phosphorylation. After Mek activation, Erk releases from Mek and shuttles in and out of the nucleus, which suggests that affinity between Mek and Erk depends on Erk phosphorylation <cite data-cite=\"2754712/JAB2JXXQ\"></cite> <cite data-cite=\"2754712/SI73C6VD\"></cite> <cite data-cite=\"2754712/WPX829YQ\"></cite>. In the model, we implement the dependence on Erk phosphorylation as binary interaction, where Mek only binds unphosphorylated Erk. Nuclear shuttling of Mek and Erk was not implemented in the model."
   ]
  },
  {
   "cell_type": "code",
   "execution_count": 20,
   "metadata": {},
   "outputs": [],
   "source": [
    "# Mek-Erk binding\n",
    "Parameter('bind_MEK_ERKphosphou_kf')\n",
    "Parameter('bind_MEK_ERKphosphou_kD')\n",
    "Expression('bind_MEK_ERKphosphou_kr', bind_MEK_ERKphosphou_kf*bind_MEK_ERKphosphou_kD)\n",
    "Rule('MEK_binds_uERK', \n",
    "     MEK(Dsite=None) + ERK(CD=None, phospho='u') >> MEK(Dsite=1) % ERK(CD=1, phospho='u'), \n",
    "     bind_MEK_ERKphosphou_kf)\n",
    "Rule('MEK_dissociates_from_ERK', \n",
    "     MEK(Dsite=1) % ERK(CD=1) >> MEK(Dsite=None) + ERK(CD=None), \n",
    "     bind_MEK_ERKphosphou_kr)\n",
    "\n",
    "# Erk phosphorylation\n",
    "Parameter('catalyze_MEKmekiNone_phosphop_ERK_p_kcat')\n",
    "Rule('pMEK_phosphorylates_ERK', \n",
    "     ERK(CD=1, phospho='u') % MEK(Dsite=1, meki=None, phospho='p') \n",
    "     >>\n",
    "     ERK(CD=None, phospho='p') + MEK(Dsite=None, meki=None, phospho='p'), \n",
    "     catalyze_MEKmekiNone_phosphop_ERK_p_kcat);"
   ]
  },
  {
   "cell_type": "markdown",
   "metadata": {},
   "source": [
    "# Feedback mechanisms\n",
    "Activation of Erk through phosphorylation induces a variety of different negative feedback mechanisms that inhibit signal transduction in Egfr and Erk pathways <cite data-cite=\"2754712/48YU6P7U\"></cite> <cite data-cite=\"2754712/URVR5RD5\"></cite>. In this module we specifically implement four of these mechanisms that, specifically the increase in Spry, Egfr and Dusp expression levels as well as phosphorylation of Sos1. For this purpose we introduce two new monomers, namely Dusp (which describes Dusp4 and Dusp6) and Spry (which describes Spry2 and Spry4).\n",
    "\n",
    "Some of the negative feedback mechanisms that were described in previous studies are omitted in this model, including Erk negative feedback phosphorylations on Mek, and Raf. As the timescale of phosphorylation reactions is in the order of seconds, a high inhibitory potency of these feedback mechanisms should give rise to phospho-Erk pulses on a timescale of seconds. Yet the experimentally observed timescale of phospho-Erk pulses was in the order of minutes, which suggests that it is unlikely that phosphorylations feedbacks are the primary determinant of the pulse shape. This hypothesis is backed by previous studies on phospho-turnover in Egfr mediated signaling <cite data-cite=\"2754712/KWBTHZEK\"></cite>. Accordingly we only expect a subtle effect of the negative feedback mechanisms, which would be difficult to be resolve in the model, given that no experimental data on respective phosphorylation sites or Ras-GTP levels were available."
   ]
  },
  {
   "cell_type": "code",
   "execution_count": 21,
   "metadata": {},
   "outputs": [],
   "source": [
    "Monomer('DUSP', ['erk'])\n",
    "Annotation(DUSP, 'http://identifiers.org/uniprot/Q13115', 'is')\n",
    "Annotation(DUSP, 'http://identifiers.org/uniprot/Q16828', 'is')\n",
    "\n",
    "Monomer('mDUSP')\n",
    "Annotation(mDUSP, 'http://identifiers.org/hgnc/3070', 'is')\n",
    "Annotation(mDUSP, 'http://identifiers.org/hgnc/3072', 'is')\n",
    "\n",
    "Monomer('mEGFR')\n",
    "Annotation(mEGFR, 'http://identifiers.org/hgnc/3236', 'is')\n",
    "\n",
    "Monomer('SPRY', ['SH3m'])\n",
    "\n",
    "Annotation(SPRY, 'http://identifiers.org/uniprot/O43597', 'is')\n",
    "Annotation(SPRY, 'http://identifiers.org/uniprot/Q9C004', 'is')\n",
    "\n",
    "Monomer('mSPRY')\n",
    "Annotation(mSPRY, 'http://identifiers.org/hgnc/11270', 'is')\n",
    "Annotation(mSPRY, 'http://identifiers.org/hgnc/15533', 'is');"
   ]
  },
  {
   "cell_type": "markdown",
   "metadata": {},
   "source": [
    "## Spry expression\n",
    "The proteomic data collected in this study confirmed previous findings that phosphorylation of Erk enhances expression of Spry. Increase in Spry expression inhibits Egfr signaling and is mediated by regulation of downstream transcription factors <cite data-cite=\"2754712/URVR5RD5\"></cite>. Specifically, Spry competes with Sos1 for the binding of Grb2 <cite data-cite=\"2754712/V8N4ML4G\"></cite> <cite data-cite=\"2754712/HWMDC2F4\"></cite>. Accordingly higher levels of Spry can antagonize Sos1 signaling by sequestering Grb2 in Spry:Grb2 complexes. \n",
    "\n",
    "Here, we implement basal synthesis and degradation reactions for Spry, which are parameterised with `[...]_eq` and `[...]_kdeg` parameters to improve parameter identifiability. Regulation of synthesis rate is implemented via multiplicative factors, which yields log-additive transcription levels. To avoid correlations of parameter estimates, we normalize this expression rate with the basal Spry degradation rate."
   ]
  },
  {
   "cell_type": "code",
   "execution_count": 22,
   "metadata": {},
   "outputs": [],
   "source": [
    "# basal expression and degradation\n",
    "Parameter('mSPRY_eq')\n",
    "Parameter('SPRY_eq')\n",
    "Parameter('synthesize_ERKphosphop_SPRY_ERK_gexpslope')\n",
    "Parameter('msynthesize_ERKphosphop_SPRY_kdeg')\n",
    "Parameter('psynthesize_ERKphosphop_SPRY_kdeg')\n",
    "Parameter('synthesize_ERKphosphop_SPRY_ERK_kM')\n",
    "\n",
    "Expression('msynthesize_ERKphosphop_SPRY_kbase', \n",
    "           mSPRY_eq*psynthesize_ERKphosphop_SPRY_kdeg)\n",
    "Expression('psynthesize_ERKphosphop_SPRY_kbase', \n",
    "           1000000.0*SPRY_eq*psynthesize_ERKphosphop_SPRY_kdeg/(N_Avogadro*volume*mSPRY_eq))\n",
    "Expression('psynthesize_ERKphosphop_SPRY_ksyn', \n",
    "           psynthesize_ERKphosphop_SPRY_kbase)\n",
    "\n",
    "Observable('modulation_synthesize_ERKphosphop_SPRY_ERK', ERK(phospho='p'))\n",
    "\n",
    "Expression('synthesize_ERKphosphop_SPRY_ERK_kmod', \n",
    "           modulation_synthesize_ERKphosphop_SPRY_ERK*synthesize_ERKphosphop_SPRY_ERK_gexpslope/(modulation_synthesize_ERKphosphop_SPRY_ERK + synthesize_ERKphosphop_SPRY_ERK_kM) + 1)\n",
    "Expression('msynthesize_ERKphosphop_SPRY_ksyn', \n",
    "           1.0*msynthesize_ERKphosphop_SPRY_kbase*synthesize_ERKphosphop_SPRY_ERK_kmod)\n",
    "\n",
    "Rule('synthesis_mSPRY', \n",
    "     None >> mSPRY() ** CP, \n",
    "     msynthesize_ERKphosphop_SPRY_ksyn)\n",
    "Rule('basal_degradation_mSPRY', mSPRY() >> None, \n",
    "     msynthesize_ERKphosphop_SPRY_kdeg, delete_molecules=True)\n",
    "Rule('synthesis_pSPRY', mSPRY() ** CP >> mSPRY() ** CP + SPRY(SH3m=None) ** CP, \n",
    "     psynthesize_ERKphosphop_SPRY_ksyn)\n",
    "Rule('basal_degradation_pSPRY', SPRY() >> None, \n",
    "     psynthesize_ERKphosphop_SPRY_kdeg, delete_molecules=True);"
   ]
  },
  {
   "cell_type": "markdown",
   "metadata": {},
   "source": [
    "The binding between Spry and Grb2 is parametrized using `[...]_kD` and `[...]_kf` parameters as previously described. Competitive binding between Spry and Sos1 for Grb2 is implemented by specifying the same binding site on Grb2 (`SH3`) for the binding of both reactions."
   ]
  },
  {
   "cell_type": "code",
   "execution_count": 23,
   "metadata": {},
   "outputs": [],
   "source": [
    "# Spry-Grb2 binding\n",
    "Parameter('bind_SPRY_GRB2_kf')\n",
    "Parameter('bind_SPRY_GRB2_kD')\n",
    "Parameter('bind_SPRY_GRB2_phi')\n",
    "\n",
    "Expression('bind_SPRY_GRB2_kr', \n",
    "           bind_SPRY_GRB2_kD*bind_SPRY_GRB2_kf)\n",
    "Expression('Gf_bind_SPRY_GRB2', \n",
    "           log(bind_SPRY_GRB2_kD))\n",
    "Expression('Ea0_bind_SPRY_GRB2', \n",
    "           -bind_SPRY_GRB2_phi*log(bind_SPRY_GRB2_kD) - log(bind_SPRY_GRB2_kf))\n",
    "\n",
    "Rule('SPRY_and_GRB2_bind_and_dissociate', \n",
    "     SPRY(SH3m=None) + GRB2(SH3=None) | SPRY(SH3m=1) % GRB2(SH3=1), \n",
    "     bind_SPRY_GRB2_phi, Ea0_bind_SPRY_GRB2, energy=True)\n",
    "\n",
    "EnergyPattern('ep_bind_SPRY_GRB2', \n",
    "              SPRY(SH3m=1) % GRB2(SH3=1), Gf_bind_SPRY_GRB2);"
   ]
  },
  {
   "cell_type": "markdown",
   "metadata": {},
   "source": [
    "## Sos1 phosphorylation\n",
    "Phospho-proteomic data collected in this study confirmed previous findings that phosphorylation of Erk enhances phosphorylation of Sos1 at S1134. Phosphorylation of Sos1 inhibits Egfr signaling and is mediated through upregulation of Rsk expression and phosphorylation <cite data-cite=\"2754712/URVR5RD5\"></cite>. Specifically, it creates a docking site for 14-3-3 on Sos1 and thereby sequestering it from Grb2 <cite data-cite=\"2754712/JPLX2K5C\"></cite>.\n",
    "\n",
    "We do not include Rsk or 14-3-3 in the model as absolute abundances were measured for neither of proteins. Instead we decided to implement basal phosphorylation and dephosphorylation rules as well as an phospho-Erk dependent phosphorylation rule for which the phosphorylation linearly depends on Erk phosphorylation. The baseline rules were implemented using constant rate `[...]_kbase` and `[...]_kcat` respectively. To avoid parameter correlations, the phospho-Erk dependent phosphorylation rate was normalized by the baseline phosphorylation rate."
   ]
  },
  {
   "cell_type": "code",
   "execution_count": 24,
   "metadata": {},
   "outputs": [
    {
     "data": {
      "text/plain": [
       "Rule('pERK_phosphorylates_SOS1', ERK(phospho='p') + SOS1(S1134='u') >> ERK(phospho='p') + SOS1(S1134='p'), catalyze_ERKphosphop_SOS1_pS1134_kcat)"
      ]
     },
     "execution_count": 24,
     "metadata": {},
     "output_type": "execute_result"
    }
   ],
   "source": [
    "# base phosphorylation rate\n",
    "Parameter('catalyze_ERKphosphop_SOS1_pS1134_kbase')\n",
    "Parameter('catalyze_ERKphosphop_SOS1_pS1134_kcat')\n",
    "Parameter('catalyze_phosphatase_SOS1_uS1134_kcatr')\n",
    "Expression('catalyze_phosphatase_SOS1_uS1134_kcat', \n",
    "           catalyze_ERKphosphop_SOS1_pS1134_kcat*catalyze_phosphatase_SOS1_uS1134_kcatr)\n",
    "Rule('SOS1_is_phosphorylated', \n",
    "     SOS1(S1134='u') >> SOS1(S1134='p'), \n",
    "     catalyze_ERKphosphop_SOS1_pS1134_kbase)\n",
    "Rule('SOS1_is_dephosphorylated', \n",
    "     SOS1(S1134='p') >> SOS1(S1134='u'), \n",
    "     catalyze_phosphatase_SOS1_uS1134_kcat)\n",
    "Rule('pERK_phosphorylates_SOS1', \n",
    "     ERK(phospho='p') + SOS1(S1134='u') >> ERK(phospho='p') + SOS1(S1134='p'), \n",
    "     catalyze_ERKphosphop_SOS1_pS1134_kcat)"
   ]
  },
  {
   "cell_type": "markdown",
   "metadata": {},
   "source": [
    "The sequestration and resulting loss of affinity for GRB2 was implemented using an energy patterns. "
   ]
  },
  {
   "cell_type": "code",
   "execution_count": 25,
   "metadata": {},
   "outputs": [
    {
     "data": {
      "text/plain": [
       "EnergyPattern('ep_SOS1S1134p_GRB2_single', SOS1(S1134='p', SH3m=1) % GRB2(SH3=1), ep_SOS1S1134p_GRB2_Gf)"
      ]
     },
     "execution_count": 25,
     "metadata": {},
     "output_type": "execute_result"
    }
   ],
   "source": [
    "Parameter('ep_SOS1S1134p_GRB2_deltaG')\n",
    "Expression('ep_SOS1S1134p_GRB2_Gf', log(ep_SOS1S1134p_GRB2_deltaG))\n",
    "EnergyPattern('ep_SOS1S1134p_GRB2_single', \n",
    "              SOS1(S1134='p', SH3m=1) % GRB2(SH3=1), ep_SOS1S1134p_GRB2_Gf)"
   ]
  },
  {
   "cell_type": "markdown",
   "metadata": {},
   "source": [
    "## Egfr expression\n",
    "Proteomic data collected in this study confirmed previous findings that phosphorylation of Erk increases Egfr expression. Increased Egfr expression promotes Egfr signaling and is mediated through regulation of downstream transcription factors <cite data-cite=\"2754712/URVR5RD5\"></cite>. Regulation of EGFR synthesis is implemented in the same way as regulation of SPRY synthesis."
   ]
  },
  {
   "cell_type": "code",
   "execution_count": 26,
   "metadata": {},
   "outputs": [],
   "source": [
    "Parameter('mEGFR_eq')\n",
    "Parameter('EGFR_eq')\n",
    "Parameter('synthesize_ERKphosphop_EGFR_ERK_gexpslope')\n",
    "Parameter('msynthesize_ERKphosphop_EGFR_kdeg')\n",
    "Parameter('psynthesize_ERKphosphop_EGFR_kdeg')\n",
    "Parameter('EGFR_crispr')\n",
    "Parameter('synthesize_ERKphosphop_EGFR_ERK_kM')\n",
    "\n",
    "Expression('msynthesize_ERKphosphop_EGFR_kbase', \n",
    "           mEGFR_eq*psynthesize_ERKphosphop_EGFR_kdeg)\n",
    "Expression('psynthesize_ERKphosphop_EGFR_kbase', \n",
    "           1000000.0*EGFR_eq*psynthesize_ERKphosphop_EGFR_kdeg/(N_Avogadro*volume*mEGFR_eq))\n",
    "Expression('psynthesize_ERKphosphop_EGFR_ksyn', \n",
    "           psynthesize_ERKphosphop_EGFR_kbase)\n",
    "\n",
    "\n",
    "Observable('modulation_synthesize_ERKphosphop_EGFR_ERK', ERK(phospho='p'))\n",
    "\n",
    "Expression('synthesize_ERKphosphop_EGFR_ERK_kmod', \n",
    "           modulation_synthesize_ERKphosphop_EGFR_ERK*synthesize_ERKphosphop_EGFR_ERK_gexpslope/(modulation_synthesize_ERKphosphop_EGFR_ERK + synthesize_ERKphosphop_EGFR_ERK_kM) + 1)\n",
    "Expression('msynthesize_ERKphosphop_EGFR_ksyn', \n",
    "           msynthesize_ERKphosphop_EGFR_kbase*synthesize_ERKphosphop_EGFR_ERK_kmod*EGFR_crispr)\n",
    "\n",
    "\n",
    "Rule('synthesis_mEGFR', \n",
    "     None >> mEGFR() ** PM, \n",
    "     msynthesize_ERKphosphop_EGFR_ksyn)\n",
    "Rule('basal_degradation_mEGFR', \n",
    "     mEGFR() >> None, \n",
    "     msynthesize_ERKphosphop_EGFR_kdeg, delete_molecules=True)\n",
    "Rule('synthesis_pEGFR', \n",
    "     mEGFR() ** PM >> mEGFR() ** PM + EGFR(KD=None, Tyr='u', rtkf=None, ub='false') ** PM, \n",
    "     psynthesize_ERKphosphop_EGFR_ksyn)\n",
    "Rule('basal_degradation_pEGFR', \n",
    "     EGFR() >> None, \n",
    "     psynthesize_ERKphosphop_EGFR_kdeg, delete_molecules=True);"
   ]
  },
  {
   "cell_type": "markdown",
   "metadata": {},
   "source": [
    "## Dusp expression\n",
    "The proteomic data collected in this study confirmed previous findings that phosphorylation of Erk enhances expression of Dusp. Increase in Dusp expression inhibits Erk signaling and is mediated by regulation of downstream transcription factors <cite data-cite=\"2754712/URVR5RD5\"></cite>. Specifically, Dusp are phosphatases that dephosphorylated Erk on the same residues that are phosphorylated by Mek. In the proteomic data we individually measured Dusp4 and Dusp6 abundances. Dusp4 has primarily nuclear localisation <cite data-cite=\"2754712/EZR5VHIS\"></cite>, while Dusp6 has primarily cytosolic localisation <cite data-cite=\"2754712/UPE8FY25\"></cite>. As we did not implement shuttling of Erk between the nucleus and cytosol, we lumped Dusp4 and Dusp6 species. Regulation of DUSP synthesis is implemented in the same way as regulation of SPRY synthesis"
   ]
  },
  {
   "cell_type": "code",
   "execution_count": 27,
   "metadata": {},
   "outputs": [],
   "source": [
    "# expression\n",
    "Parameter('mDUSP_eq')\n",
    "Parameter('DUSP_eq')\n",
    "Parameter('synthesize_ERKphosphop_DUSP_ERK_gexpslope')\n",
    "Parameter('msynthesize_ERKphosphop_DUSP_kdeg')\n",
    "Parameter('psynthesize_ERKphosphop_DUSP_kdeg')\n",
    "Parameter('synthesize_ERKphosphop_DUSP_ERK_kM')\n",
    "\n",
    "Expression('msynthesize_ERKphosphop_DUSP_kbase', \n",
    "           mDUSP_eq*psynthesize_ERKphosphop_DUSP_kdeg)\n",
    "Expression('psynthesize_ERKphosphop_DUSP_kbase', \n",
    "           1000000.0*DUSP_eq*psynthesize_ERKphosphop_DUSP_kdeg/(N_Avogadro*volume*mDUSP_eq))\n",
    "Expression('psynthesize_ERKphosphop_DUSP_ksyn', \n",
    "           psynthesize_ERKphosphop_DUSP_kbase)\n",
    "\n",
    "Observable('modulation_synthesize_ERKphosphop_DUSP_ERK', \n",
    "           ERK(phospho='p'))\n",
    "\n",
    "Expression('synthesize_ERKphosphop_DUSP_ERK_kmod', \n",
    "           modulation_synthesize_ERKphosphop_DUSP_ERK*synthesize_ERKphosphop_DUSP_ERK_gexpslope/(modulation_synthesize_ERKphosphop_DUSP_ERK + synthesize_ERKphosphop_DUSP_ERK_kM) + 1)\n",
    "Expression('msynthesize_ERKphosphop_DUSP_ksyn', \n",
    "           1.0*msynthesize_ERKphosphop_DUSP_kbase*synthesize_ERKphosphop_DUSP_ERK_kmod)\n",
    "\n",
    "\n",
    "Rule('synthesis_mDUSP', \n",
    "     None >> mDUSP() ** CP, \n",
    "     msynthesize_ERKphosphop_DUSP_ksyn)\n",
    "Rule('basal_degradation_mDUSP', \n",
    "     mDUSP() >> None, \n",
    "     msynthesize_ERKphosphop_DUSP_kdeg, delete_molecules=True)\n",
    "Rule('synthesis_pDUSP', \n",
    "     mDUSP() ** CP >> mDUSP() ** CP + DUSP(erk=None) ** CP, \n",
    "     psynthesize_ERKphosphop_DUSP_ksyn)\n",
    "Rule('basal_degradation_pDUSP', \n",
    "     DUSP() >> None, \n",
    "     psynthesize_ERKphosphop_DUSP_kdeg, delete_molecules=True);"
   ]
  },
  {
   "cell_type": "markdown",
   "metadata": {},
   "source": [
    "We implement the dephosphorylation as two-step catalytic process. As both Dusps interact with Erk via the common docking domain that also mediates interaction between Mek to Erk <cite data-cite=\"2754712/VILTI493\"></cite>, the binding was implemented using the same site on the Erk (`CD`) monomer. This could lead to competitive binding between Mek and Erk, yet as Dusp, in contrast to Mek, seem to preferentially bind the phosphorylated form of Erk <cite data-cite=\"2754712/LWCCZVEV\"></cite>, we constrained binding of Dusp to Erk on Erk phosphorylation, which makes the two binding reactions independent."
   ]
  },
  {
   "cell_type": "code",
   "execution_count": 28,
   "metadata": {},
   "outputs": [],
   "source": [
    "# Dusp-Erk binding\n",
    "Parameter('bind_DUSP_ERKphosphop_kf')\n",
    "Parameter('bind_DUSP_ERKphosphop_kD')\n",
    "Expression('bind_DUSP_ERKphosphop_kr', bind_DUSP_ERKphosphop_kf*bind_DUSP_ERKphosphop_kD)\n",
    "Rule('DUSP_binds_pERK', \n",
    "     DUSP(erk=None) + ERK(CD=None, phospho='p') >> DUSP(erk=1) % ERK(CD=1, phospho='p'), \n",
    "     bind_DUSP_ERKphosphop_kf)\n",
    "Rule('DUSP_dissociates_from_ERK', \n",
    "     DUSP(erk=1) % ERK(CD=1) >> DUSP(erk=None) + ERK(CD=None), \n",
    "     bind_DUSP_ERKphosphop_kr)\n",
    "\n",
    "# Erk dephosphorylation\n",
    "Parameter('catalyze_DUSP_ERK_u_kcatr')\n",
    "Expression('catalyze_DUSP_ERK_u_kcat', catalyze_MEKmekiNone_phosphop_ERK_p_kcat*catalyze_DUSP_ERK_u_kcatr)\n",
    "Rule('DUSP_dephosphorylates_ERK', \n",
    "     ERK(CD=1, phospho='p') % DUSP(erk=1) >> ERK(CD=None, phospho='u') + DUSP(erk=None), \n",
    "     catalyze_DUSP_ERK_u_kcat);"
   ]
  },
  {
   "cell_type": "markdown",
   "metadata": {},
   "source": [
    "# Initialization\n",
    "For all monomers for which we did not implement expression and basal degradation rules we implemented initial abundances that were assumed to be constant in all experiments. To simplify specification of estimation boundaries for these parameters, these parameters were assumed to be specified in [molecules/cell] and then accordingly transformed to yield model initializations in [uM]. "
   ]
  },
  {
   "cell_type": "code",
   "execution_count": 29,
   "metadata": {},
   "outputs": [
    {
     "data": {
      "text/plain": [
       "Initial(CBL(SH3m=None) ** CP, initCBL)"
      ]
     },
     "execution_count": 29,
     "metadata": {},
     "output_type": "execute_result"
    }
   ],
   "source": [
    "Parameter('BRAF_0')\n",
    "Parameter('CRAF_0')\n",
    "Parameter('RAS_0')\n",
    "Parameter('MEK_0')\n",
    "Parameter('ERK_0')\n",
    "Parameter('GRB2_0')\n",
    "Parameter('SOS1_0')\n",
    "Parameter('CBL_0')\n",
    "\n",
    "Expression('initBRAF', 1000000.0*BRAF_0*(N_Avogadro*volume)**(-1))\n",
    "Expression('initCRAF', 1000000.0*CRAF_0*(N_Avogadro*volume)**(-1))\n",
    "Expression('initRAS', 1000000.0*RAS_0*(N_Avogadro*volume)**(-1))\n",
    "Expression('initMEK', 1000000.0*MEK_0*(N_Avogadro*volume)**(-1))\n",
    "Expression('initERK', 1000000.0*ERK_0*(N_Avogadro*volume)**(-1))\n",
    "Expression('initGRB2', 1000000.0*GRB2_0*(N_Avogadro*volume)**(-1))\n",
    "Expression('initSOS1', 1000000.0*SOS1_0*(N_Avogadro*volume)**(-1))\n",
    "Expression('initCBL', 1000000.0*CBL_0*(N_Avogadro*volume)**(-1))\n",
    "\n",
    "Initial(BRAF(AA600='E', RBD=None, mek=None, raf=None, rafi=None) ** CP, initBRAF)\n",
    "Initial(CRAF(RBD=None, mek=None, raf=None, rafi=None) ** CP, initCRAF)\n",
    "Initial(RAS(raf=None, sos1=None, state='gdp') ** CP, initRAS)\n",
    "Initial(MEK(Dsite=None, meki=None, phospho='u', raf=None) ** CP, initMEK)\n",
    "Initial(ERK(CD=None, phospho='u') ** CP, initERK)\n",
    "Initial(GRB2(SH2=None, SH3=None) ** CP, initGRB2)\n",
    "Initial(SOS1(S1134='u', SH3m=None, ras=None) ** CP, initSOS1)\n",
    "Initial(CBL(SH3m=None) ** CP, initCBL)"
   ]
  },
  {
   "cell_type": "markdown",
   "metadata": {},
   "source": [
    "# Link to Experimental Data\n",
    "To calibrate the model to experimental data we create a series of expression that account for normalizations in data generation. For absolute proteomic measurements we create expressions `t[...]_obs` that convert the unit of model simulations from [uM] to [molecules/cell]. For phospho-proteomic measurements we create expressions `p[...]_obs` that are equal to phospho-abundances normalized by total abundances. For transcriptomic measurements we create expressions `tm[...]_obs` that describe transcript abundances in [FPKM]. For both proteomic and transcriptomic measurements we log-transfrom observables to reflect respective transformations in the experimental data. Note that this effectively yields a log-normal error model. For immuno-fluorescence measurements we created expressions `p[...]_IF_obs` that were first normalized by total abundances and then scaled by a mulitplicative factor `[...]_IF_scale` and an additive factor `[...]_IF_offset`. For species that describe multiple protein isoforms, absolute proteomic data was averaged over both isoforms."
   ]
  },
  {
   "cell_type": "code",
   "execution_count": 30,
   "metadata": {},
   "outputs": [],
   "source": [
    "# proteomic measurements\n",
    "Observable('tBRAF', BRAF())\n",
    "Observable('tCRAF', CRAF())\n",
    "Observable('tRAS', RAS())\n",
    "Observable('tMEK', MEK())\n",
    "Observable('tERK', ERK())\n",
    "Observable('tDUSP', DUSP())\n",
    "Observable('tEGFR', EGFR())\n",
    "Observable('tGRB2', GRB2())\n",
    "Observable('tSPRY', SPRY())\n",
    "Observable('tSOS1', SOS1())\n",
    "Observable('tCBL', CBL())\n",
    "Expression('tBRAF_obs', log(1.0e-6*N_Avogadro*volume*tBRAF))\n",
    "Expression('tCRAF_obs', log(1.0e-6*N_Avogadro*volume*tCRAF))\n",
    "Expression('tRAS_obs', log(1.0e-6*N_Avogadro*volume*tRAS))\n",
    "Expression('tMEK_obs', log(1.0e-6*N_Avogadro*volume*tMEK))\n",
    "Expression('tERK_obs', log(1.0e-6*N_Avogadro*volume*tERK))\n",
    "Expression('tDUSP_obs', log(1.0e-6*N_Avogadro*volume*tDUSP))\n",
    "Expression('tEGFR_obs', log(1.0e-6*N_Avogadro*volume*tEGFR))\n",
    "Expression('tGRB2_obs', log(1.0e-6*N_Avogadro*volume*tGRB2))\n",
    "Expression('tSPRY_obs', log(1.0e-6*N_Avogadro*volume*tSPRY))\n",
    "Expression('tSOS1_obs', log(1.0e-6*N_Avogadro*volume*tSOS1))\n",
    "Expression('tCBL_obs', log(1.0e-6*N_Avogadro*volume*tCBL))\n",
    "\n",
    "# phospho-proteomic measurements\n",
    "Observable('pERK', ERK(phospho='p'))\n",
    "Observable('pS1134SOS1', SOS1(S1134='p'))\n",
    "Expression('pERK_obs', pERK/tERK)\n",
    "Expression('pS1134SOS1_obs', pS1134SOS1/tSOS1)\n",
    "\n",
    "# transcriptomic measurements\n",
    "Observable('tmDUSP', mDUSP())\n",
    "Observable('tmEGFR', mEGFR())\n",
    "Observable('tmSPRY', mSPRY())\n",
    "Expression('tmDUSP_obs', log(tmDUSP))\n",
    "Expression('tmEGFR_obs', log(tmEGFR))\n",
    "Expression('tmSPRY_obs', log(tmSPRY))\n",
    "\n",
    "# immunofluorescence measurements\n",
    "Parameter('pMEK_IF_scale')\n",
    "Parameter('pMEK_IF_offset')\n",
    "Parameter('pERK_IF_scale')\n",
    "Parameter('pERK_IF_offset')\n",
    "Observable('pMEK', MEK(phospho='p'))\n",
    "Expression('pMEK_obs', pMEK/tMEK)\n",
    "Expression('pERK_IF_obs', pERK_IF_offset + pERK_IF_scale*pERK_obs)\n",
    "Expression('pMEK_IF_obs', pMEK_IF_offset + pMEK_IF_scale*pMEK_obs);"
   ]
  },
  {
   "cell_type": "code",
   "execution_count": 31,
   "metadata": {},
   "outputs": [],
   "source": [
    "# validate the model constructed here is equivalent to the model used for the study\n",
    "import sys\n",
    "import os\n",
    "import MARM\n",
    "sys.path.insert(0, os.path.join(MARM.paths.get_directory(), 'pysb_flat'))\n",
    "from RTKERK__base import model as ref_model\n",
    "\n",
    "for comp in ref_model.components:\n",
    "    assert comp.name in model.components.keys() or isinstance(comp, (Observable, Expression))\n",
    "    if comp.name in model.components.keys():\n",
    "        assert str(comp) == str(model.components[comp.name]) or isinstance(comp, Parameter)\n",
    "\n",
    "for comp in model.components:\n",
    "    assert comp.name in ref_model.components.keys()"
   ]
  },
  {
   "cell_type": "markdown",
   "metadata": {},
   "source": [
    "# Bibliography\n",
    "<div class=\"cite2c-biblio\"></div>"
   ]
  }
 ],
 "metadata": {
  "cite2c": {
   "citations": {
    "2754712/48YU6P7U": {
     "DOI": "10.1007/s00018-016-2297-8",
     "URL": "https://www.ncbi.nlm.nih.gov/pmc/articles/PMC5075022/",
     "abstract": "The extracellular signal-regulated kinase 1/2 (ERK1/2) mitogen-activated protein kinase (MAPK) signalling pathway regulates many cellular functions, including proliferation, differentiation, and transformation. To reliably convert external stimuli into specific cellular responses and to adapt to environmental circumstances, the pathway must be integrated into the overall signalling activity of the cell. Multiple mechanisms have evolved to perform this role. In this review, we will focus on negative feedback mechanisms and examine how they shape ERK1/2 MAPK signalling. We will first discuss the extensive number of negative feedback loops targeting the different components of the ERK1/2 MAPK cascade, specifically the direct posttranslational modification of pathway components by downstream protein kinases and the induction of de novo gene synthesis of specific pathway inhibitors. We will then evaluate how negative feedback modulates the spatiotemporal signalling dynamics of the ERK1/2 pathway regarding signalling amplitude and duration as well as subcellular localisation. Aberrant ERK1/2 activation results in deregulated proliferation and malignant transformation in model systems and is commonly observed in human tumours. Inhibition of the ERK1/2 pathway thus represents an attractive target for the treatment of malignant tumours with increased ERK1/2 activity. We will, therefore, discuss the effect of ERK1/2 MAPK feedback regulation on cancer treatment and how it contributes to reduced clinical efficacy of therapeutic agents and the development of drug resistance.",
     "accessed": {
      "day": 12,
      "month": 6,
      "year": 2019
     },
     "author": [
      {
       "family": "Lake",
       "given": "David"
      },
      {
       "family": "Corrêa",
       "given": "Sonia A. L."
      },
      {
       "family": "Müller",
       "given": "Jürgen"
      }
     ],
     "container-title": "Cellular and Molecular Life Sciences",
     "container-title-short": "Cell Mol Life Sci",
     "id": "2754712/48YU6P7U",
     "issue": "23",
     "issued": {
      "year": 2016
     },
     "journalAbbreviation": "Cell Mol Life Sci",
     "note": "PMID: 27342992\nPMCID: PMC5075022",
     "page": "4397-4413",
     "page-first": "4397",
     "title": "Negative feedback regulation of the ERK1/2 MAPK pathway",
     "type": "article-journal",
     "volume": "73"
    },
    "2754712/5D9BPF8E": {
     "DOI": "10.1074/jbc.274.48.34029",
     "URL": "http://www.jbc.org/content/274/48/34029",
     "abstract": "An ERK2-binding site at the N terminus of MEK1 was reported to mediate their stable association. We examined the importance of this binding site in the feedback phosphorylation of MEK1 on Thr292 and Thr386 by ERK2, the phosphorylation and activation of ERK2 by MEK1, and the interaction of MEK1 with ERK2 and Raf-1. Deletion of the binding site from MEK1 reduced its phosphorylation by ERK2, but had no effect on its phosphorylation by p21-activated protein kinase-1 (PAK1). A MEK1 N-terminal peptide containing the binding site inhibited MEK1 phosphorylation by ERK2. However, it did not affect MEK1 phosphorylation by p21-activated protein kinase or myelin basic protein phosphorylation by ERK2. Deletion of the N-terminal ERK-binding domain of MEK1 also reduced its ability to phosphorylate ERK2 in vitro, to co-immunoprecipitate with ERK2, and to stimulate ERK2 activation in transfected cells, but it did not alter the association with endogenous Raf-1. Using ERK2-p38 chimeras and an ERK2 deletion mutant, a MEK1-binding site of ERK2 was localized to its N terminus.",
     "accessed": {
      "day": 12,
      "month": 6,
      "year": 2019
     },
     "author": [
      {
       "family": "Xu",
       "given": "Bing-e"
      },
      {
       "family": "Wilsbacher",
       "given": "Julie L."
      },
      {
       "family": "Collisson",
       "given": "Tandi"
      },
      {
       "family": "Cobb",
       "given": "Melanie H."
      }
     ],
     "container-title": "Journal of Biological Chemistry",
     "container-title-short": "J. Biol. Chem.",
     "id": "2754712/5D9BPF8E",
     "issue": "48",
     "issued": {
      "day": 26,
      "month": 11,
      "year": 1999
     },
     "journalAbbreviation": "J. Biol. Chem.",
     "language": "en",
     "note": "PMID: 10567369",
     "page": "34029-34035",
     "page-first": "34029",
     "title": "The N-terminal ERK-binding Site of MEK1 Is Required for Efficient Feedback Phosphorylation by ERK2 in Vitro and ERK Activation in Vivo",
     "type": "article-journal",
     "volume": "274"
    },
    "2754712/6B93WFLU": {
     "URL": "https://www.ncbi.nlm.nih.gov/pmc/articles/PMC394991/",
     "abstract": "Many growth factors whose receptors are protein tyrosine kinases stimulate the MAP kinase pathway by activating first the GTP-binding protein Ras and then the protein kinase p74raf-1. p74raf-1 phosphorylates and activates MAP kinase kinase (MAPKK). To understand the mechanism of activation of MAPKK, we have identified Ser217 and Ser221 of MAPKK1 as the sites phosphorylated by p74raf-1. This represents the first characterization of sites phosphorylated by this proto-oncogene product. Ser217 and Ser221 lie in a region of the catalytic domain where the activating phosphorylation sites of several other protein kinases are located. Among MAPKK family members, this region is the most conserved, suggesting that all members of the family are activated by the phosphorylation of these sites. A 'kinase-dead' MAPKK1 mutant was phosphorylated at the same residues as the wild-type enzyme, establishing that both sites are phosphorylated directly by p74raf-1, and not by autophosphorylation. Only the diphosphorylated form of MAPKK1 (phosphorylated at both Ser217 and Ser221) was detected, even when the stoichiometry of phosphorylation by p74raf-1 was low, indicating that phosphorylation of one of these sites is rate limiting, phosphorylation of the second then occurring extremely rapidly. Ser217 and Ser221 were both phosphorylated in vivo within minutes when PC12 cells were stimulated with nerve growth factor. Analysis of MAPKK1 mutants in which either Ser217 or Ser221 were changed to glutamic acid, and the finding that inactivation of maximally activated MAPKK1 required the dephosphorylation of both serines, shows that phosphorylation of either residue is sufficient for maximal activation.",
     "accessed": {
      "day": 12,
      "month": 6,
      "year": 2019
     },
     "author": [
      {
       "family": "Alessi",
       "given": "D R"
      },
      {
       "family": "Saito",
       "given": "Y"
      },
      {
       "family": "Campbell",
       "given": "D G"
      },
      {
       "family": "Cohen",
       "given": "P"
      },
      {
       "family": "Sithanandam",
       "given": "G"
      },
      {
       "family": "Rapp",
       "given": "U"
      },
      {
       "family": "Ashworth",
       "given": "A"
      },
      {
       "family": "Marshall",
       "given": "C J"
      },
      {
       "family": "Cowley",
       "given": "S"
      }
     ],
     "container-title": "The EMBO Journal",
     "container-title-short": "EMBO J",
     "id": "2754712/6B93WFLU",
     "issue": "7",
     "issued": {
      "day": 1,
      "month": 4,
      "year": 1994
     },
     "journalAbbreviation": "EMBO J",
     "note": "PMID: 8157000\nPMCID: PMC394991",
     "page": "1610-1619",
     "page-first": "1610",
     "title": "Identification of the sites in MAP kinase kinase-1 phosphorylated by p74raf-1.",
     "type": "article-journal",
     "volume": "13"
    },
    "2754712/7TJH2IAK": {
     "DOI": "10.1016/j.celrep.2015.08.014",
     "URL": "http://www.sciencedirect.com/science/article/pii/S2211124715008852",
     "abstract": "Summary\nTreatment of cancer patients with ATP-competitive inhibitors of BRAF/CRAF kinases surprisingly increases total kinase activity, especially in wild-type BRAF cells, subverting the desired clinical outcome. Similar inhibition resistance is observed for numerous kinases involving homo/heterodimerization in their activation cycles. Here, I demonstrate that drug resistance resulting from kinase dimerization can be explained using thermodynamic principles. I show that allosteric regulation by inhibitors is described by thermodynamic factors that quantify inhibitor-induced changes in kinase dimerization and the difference in the drug affinity for a free monomer versus a dimer harboring one drug molecule. The analysis extends to kinase homo- and heterodimers, allows for their symmetric and asymmetric conformations, and predicts how thermodynamic factors influence dose-response dependencies. I show how two inhibitors, ineffective on their own, when combined can abolish drug resistance at lower doses than either inhibitor applied alone. Thus, the mechanistic models suggest ways to overcome resistance to kinase inhibitors.",
     "accessed": {
      "day": 11,
      "month": 6,
      "year": 2019
     },
     "author": [
      {
       "family": "Kholodenko",
       "given": "Boris N."
      }
     ],
     "container-title": "Cell Reports",
     "container-title-short": "Cell Reports",
     "id": "2754712/7TJH2IAK",
     "issue": "11",
     "issued": {
      "day": 22,
      "month": 9,
      "year": 2015
     },
     "journalAbbreviation": "Cell Reports",
     "page": "1939-1949",
     "page-first": "1939",
     "title": "Drug Resistance Resulting from Kinase Dimerization Is Rationalized by Thermodynamic Factors Describing Allosteric Inhibitor Effects",
     "type": "article-journal",
     "volume": "12"
    },
    "2754712/9HXUM55P": {
     "DOI": "10.1038/nature25478",
     "URL": "http://www.nature.com/articles/nature25478",
     "abstract": "RAF family kinases have prominent roles in cancer1. Their activation is dependent on dimerization of their kinase domains, which has emerged as a hindrance for drug development2,3. In mammals, RAF family kinases include three catalytically competent enzymes (ARAF, BRAF and CRAF) and two pseudokinases (KSR1 and KSR2) that have been described as scaffolds owing to their apparent ability to bridge RAF isoforms and their substrate, mitogen-activated protein kinase kinase (MEK)4. Kinase suppressor of Ras (KSR) pseudokinases were also shown to dimerize with kinase-competent RAFs to stimulate catalysis allosterically5. Although GTP-bound RAS can modulate the dimerization of RAF isoforms by engaging their RAS-binding domains, KSR1 and KSR2 lack an RAS-binding domain and therefore the regulatory principles underlying their dimerization with other RAF family members remain unknown. Here we show that the selective heterodimerization of BRAF with KSR1 is specified by direct contacts between the amino-terminal regulatory regions of each protein, comprising in part a novel domain called BRS in BRAF and the coiled-coil-sterile α motif (CC-SAM) domain in KSR1. We also discovered that MEK binding to the kinase domain of KSR1 asymmetrically drives BRAF–KSR1 heterodimerization, resulting in the concomitant stimulation of BRAF catalytic activity towards free MEK molecules. These findings demonstrate that KSR–MEK complexes allosterically activate BRAF through the action of N-terminal regulatory region and kinase domain contacts and challenge the accepted role of KSR as a scaffold for MEK recruitment to RAF.",
     "accessed": {
      "day": 22,
      "month": 2,
      "year": 2019
     },
     "author": [
      {
       "family": "Lavoie",
       "given": "Hugo"
      },
      {
       "family": "Sahmi",
       "given": "Malha"
      },
      {
       "family": "Maisonneuve",
       "given": "Pierre"
      },
      {
       "family": "Marullo",
       "given": "Sara A."
      },
      {
       "family": "Thevakumaran",
       "given": "Neroshan"
      },
      {
       "family": "Jin",
       "given": "Ting"
      },
      {
       "family": "Kurinov",
       "given": "Igor"
      },
      {
       "family": "Sicheri",
       "given": "Frank"
      },
      {
       "family": "Therrien",
       "given": "Marc"
      }
     ],
     "container-title": "Nature",
     "id": "2754712/9HXUM55P",
     "issue": "7693",
     "issued": {
      "month": 2,
      "year": 2018
     },
     "language": "en",
     "page": "549-553",
     "page-first": "549",
     "title": "MEK drives BRAF activation through allosteric control of KSR proteins",
     "type": "article-journal",
     "volume": "554"
    },
    "2754712/AQG5TFL3": {
     "DOI": "10.1074/jbc.M115.691238",
     "URL": "http://www.jbc.org/content/291/4/1703",
     "abstract": "The activity of Ras is controlled by the interconversion between GTP- and GDP-bound forms partly regulated by the binding of the guanine nucleotide exchange factor Son of Sevenless (Sos). The details of Sos binding, leading to nucleotide exchange and subsequent dissociation of the complex, are not completely understood. Here, we used uniformly 15N-labeled Ras as well as [13C]methyl-Met,Ile-labeled Sos for observing site-specific details of Ras-Sos interactions in solution. Binding of various forms of Ras (loaded with GDP and mimics of GTP or nucleotide-free) at the allosteric and catalytic sites of Sos was comprehensively characterized by monitoring signal perturbations in the NMR spectra. The overall affinity of binding between these protein variants as well as their selected functional mutants was also investigated using intrinsic fluorescence. The data support a positive feedback activation of Sos by Ras·GTP with Ras·GTP binding as a substrate for the catalytic site of activated Sos more weakly than Ras·GDP, suggesting that Sos should actively promote unidirectional GDP → GTP exchange on Ras in preference of passive homonucleotide exchange. Ras·GDP weakly binds to the catalytic but not to the allosteric site of Sos. This confirms that Ras·GDP cannot properly activate Sos at the allosteric site. The novel site-specific assay described may be useful for design of drugs aimed at perturbing Ras-Sos interactions.",
     "accessed": {
      "day": 11,
      "month": 6,
      "year": 2019
     },
     "author": [
      {
       "family": "Vo",
       "given": "Uybach"
      },
      {
       "family": "Vajpai",
       "given": "Navratna"
      },
      {
       "family": "Flavell",
       "given": "Liz"
      },
      {
       "family": "Bobby",
       "given": "Romel"
      },
      {
       "family": "Breeze",
       "given": "Alexander L."
      },
      {
       "family": "Embrey",
       "given": "Kevin J."
      },
      {
       "family": "Golovanov",
       "given": "Alexander P."
      }
     ],
     "container-title": "Journal of Biological Chemistry",
     "container-title-short": "J. Biol. Chem.",
     "id": "2754712/AQG5TFL3",
     "issue": "4",
     "issued": {
      "day": 22,
      "month": 1,
      "year": 2016
     },
     "journalAbbreviation": "J. Biol. Chem.",
     "language": "en",
     "note": "PMID: 26565026",
     "page": "1703-1718",
     "page-first": "1703",
     "title": "Monitoring Ras Interactions with the Nucleotide Exchange Factor Son of Sevenless (Sos) Using Site-specific NMR Reporter Signals and Intrinsic Fluorescence",
     "type": "article-journal",
     "volume": "291"
    },
    "2754712/BIUJJCT7": {
     "DOI": "10.1038/sj.emboj.7601308",
     "URL": "https://www.ncbi.nlm.nih.gov/pmc/articles/PMC1570442/",
     "abstract": "Global cellular responses induced by epidermal growth factor (EGF) receptor (EGFR) occur immediately with a less than 1% occupancy among tens of thousands of EGFR molecules on single cell surface. Activation of EGFR requires the formation of a signaling dimer of EGFR bound with a single ligand to each molecule. How sufficient numbers of signaling dimers are formed at such low occupancy rate is still not known. Here, we have analyzed the kinetics of EGF binding and the formation of the signaling dimer using single-molecule imaging and mathematical modeling. A small number of EGFR on the cell surface formed dimeric binding sites, which bound EGF two orders of magnitude faster than the monomeric binding sites. There was a positive cooperative binding of EGF to the dimeric binding sites through a newly discovered kinetic intermediate. These two mechanisms facilitate the formation of signaling dimers of EGF/EGFR complexes.",
     "accessed": {
      "day": 11,
      "month": 6,
      "year": 2019
     },
     "author": [
      {
       "family": "Teramura",
       "given": "Yuji"
      },
      {
       "family": "Ichinose",
       "given": "Junya"
      },
      {
       "family": "Takagi",
       "given": "Hiroaki"
      },
      {
       "family": "Nishida",
       "given": "Kenji"
      },
      {
       "family": "Yanagida",
       "given": "Toshio"
      },
      {
       "family": "Sako",
       "given": "Yasushi"
      }
     ],
     "container-title": "The EMBO Journal",
     "container-title-short": "EMBO J",
     "id": "2754712/BIUJJCT7",
     "issue": "18",
     "issued": {
      "day": 20,
      "month": 9,
      "year": 2006
     },
     "journalAbbreviation": "EMBO J",
     "note": "PMID: 16946702\nPMCID: PMC1570442",
     "page": "4215-4222",
     "page-first": "4215",
     "title": "Single-molecule analysis of epidermal growth factor binding on the surface of living cells",
     "type": "article-journal",
     "volume": "25"
    },
    "2754712/EZR5VHIS": {
     "URL": "https://jcs.biologists.org/content/114/19/3433",
     "abstract": "Skip to Next Section\nWe previously reported that nuclear translocation is essential for p42/p44 MAPKs (ERKs) mitogenic signaling. Here we show that, during long-term stimulation, p42/p44 MAPKs become inactive while they accumulate in the nucleus. This inactivation was monitored by phospho-specific immunostaining and dephosphorylation of a nuclear p42/p44 MAPKs substrate, HIF-1α. The phosphatases responsible for p42/p44 MAPKs nuclear inactivation are neo-synthesized, show tyrosine or dual specificity, and interact with p42/p44 MAPKs via a specific docking site. Likely candidates are MKP1/2 phosphatases. In addition, p42/p44 MAPKs permanently shuttle between the cytoplasm and the nucleus in quiescent as well as in serum stimulated cells. Hence, the nucleus is a critical site for mitogenic signal termination by: (1) nuclear sequestration of p42/p44 MAPKs away from MEK, their cytoplasmic activator; and (2) dephosphorylation by specific nuclear phosphatases.",
     "accessed": {
      "day": 13,
      "month": 6,
      "year": 2019
     },
     "author": [
      {
       "family": "Volmat",
       "given": "Véronique"
      },
      {
       "family": "Camps",
       "given": "Montserrat"
      },
      {
       "family": "Arkinstall",
       "given": "Steve"
      },
      {
       "family": "Pouysségur",
       "given": "Jacques"
      },
      {
       "family": "Lenormand",
       "given": "Philippe"
      }
     ],
     "container-title": "Journal of Cell Science",
     "id": "2754712/EZR5VHIS",
     "issue": "19",
     "issued": {
      "day": 1,
      "month": 10,
      "year": 2001
     },
     "language": "en",
     "note": "PMID: 11682603",
     "page": "3433-3443",
     "page-first": "3433",
     "title": "The nucleus, a site for signal termination by sequestration and inactivation of p42/p44 MAP kinases",
     "type": "article-journal",
     "volume": "114"
    },
    "2754712/FQ6JM9RD": {
     "DOI": "10.1158/1078-0432.CCR-10-2200",
     "URL": "http://clincancerres.aacrjournals.org/content/17/5/989",
     "abstract": "Purpose: Despite their preclinical promise, previous MEK inhibitors have shown little benefit for patients. This likely reflects the narrow therapeutic window for MEK inhibitors due to the essential role of the P42/44 MAPK pathway in many nontumor tissues. GSK1120212 is a potent and selective allosteric inhibitor of the MEK1 and MEK2 (MEK1/2) enzymes with promising antitumor activity in a phase I clinical trial (ASCO 2010). Our studies characterize GSK1120212' enzymatic, cellular, and in vivo activities, describing its unusually long circulating half-life.\nExperimental Design: Enzymatic studies were conducted to determine GSK1120212 inhibition of recombinant MEK, following or preceding RAF kinase activation. Cellular studies examined GSK1120212 inhibition of ERK1 and 2 phosphorylation (p-ERK1/2) as well as MEK1/2 phosphorylation and activation. Further studies explored the sensitivity of cancer cell lines, and drug pharmacokinetics and efficacy in multiple tumor xenograft models.\nResults: In enzymatic and cellular studies, GSK1120212 inhibits MEK1/2 kinase activity and prevents Raf-dependent MEK phosphorylation (S217 for MEK1), producing prolonged p-ERK1/2 inhibition. Potent cell growth inhibition was evident in most tumor lines with mutant BRAF or Ras. In xenografted tumor models, GSK1120212 orally dosed once daily had a long circulating half-life and sustained suppression of p-ERK1/2 for more than 24 hours; GSK1120212 also reduced tumor Ki67, increased p27Kip1/CDKN1B, and caused tumor growth inhibition in multiple tumor models. The largest antitumor effect was among tumors harboring mutant BRAF or Ras.\nConclusions: GSK1120212 combines high potency, selectivity, and long circulating half-life, offering promise for successfully targeting the narrow therapeutic window anticipated for clinical MEK inhibitors. Clin Cancer Res; 17(5); 989–1000. ©2011 AACR.",
     "accessed": {
      "day": 11,
      "month": 6,
      "year": 2019
     },
     "author": [
      {
       "family": "Gilmartin",
       "given": "Aidan G."
      },
      {
       "family": "Bleam",
       "given": "Maureen R."
      },
      {
       "family": "Groy",
       "given": "Arthur"
      },
      {
       "family": "Moss",
       "given": "Katherine G."
      },
      {
       "family": "Minthorn",
       "given": "Elisabeth A."
      },
      {
       "family": "Kulkarni",
       "given": "Swarupa G."
      },
      {
       "family": "Rominger",
       "given": "Cynthia M."
      },
      {
       "family": "Erskine",
       "given": "Symon"
      },
      {
       "family": "Fisher",
       "given": "Kelly E."
      },
      {
       "family": "Yang",
       "given": "Jingsong"
      },
      {
       "family": "Zappacosta",
       "given": "Francesca"
      },
      {
       "family": "Annan",
       "given": "Roland"
      },
      {
       "family": "Sutton",
       "given": "David"
      },
      {
       "family": "Laquerre",
       "given": "Sylvie G."
      }
     ],
     "container-title": "Clinical Cancer Research",
     "container-title-short": "Clin Cancer Res",
     "id": "2754712/FQ6JM9RD",
     "issue": "5",
     "issued": {
      "day": 1,
      "month": 3,
      "year": 2011
     },
     "journalAbbreviation": "Clin Cancer Res",
     "language": "en",
     "note": "PMID: 21245089",
     "page": "989-1000",
     "page-first": "989",
     "title": "GSK1120212 (JTP-74057) Is an Inhibitor of MEK Activity and Activation with Favorable Pharmacokinetic Properties for Sustained In Vivo Pathway Inhibition",
     "type": "article-journal",
     "volume": "17"
    },
    "2754712/HWMDC2F4": {
     "DOI": "10.1038/ncb867",
     "URL": "https://www-nature-com.ezp-dev.hul.harvard.edu/articles/ncb867",
     "abstract": "Sprouty (Spry) inhibits signalling by receptor tyrosine kinases; however, the molecular mechanism underlying this function has not been defined. Here we show that after stimulation by growth factors Spry1 and Spry2 translocate to the plasma membrane and become phosphorylated on a conserved tyrosine. Next, they bind to the adaptor protein Grb2 and inhibit the recruitment of the Grb2–Sos complex either to the fibroblast growth factor receptor (FGFR) docking adaptor protein FRS2 or to Shp2. Membrane translocation of Spry is necessary for its phosphorylation, which is essential for its inhibitor activity. A tyrosine-phosphorylated octapeptide derived from mouse Spry2 inhibits Grb2 from binding FRS2, Shp2 or mouse Spry2 in vitro and blocks activation of the extracellular-signal-regulated kinase (ERK) in cells stimulated by growth factor. A non-phosphorylated Spry mutant cannot bind Grb2 and acts as a dominant negative, inducing prolonged activation of ERK in response to FGF and promoting the FGF-induced outgrowth of neurites in PC12 cells. Our findings suggest that Spry functions in a negative feedback mechanism in which its inhibitor activity is controlled rapidly and reversibly by post-translational mechanisms.",
     "accessed": {
      "day": 13,
      "month": 6,
      "year": 2019
     },
     "author": [
      {
       "family": "Hanafusa",
       "given": "Hiroshi"
      },
      {
       "family": "Torii",
       "given": "Satoru"
      },
      {
       "family": "Yasunaga",
       "given": "Takayuki"
      },
      {
       "family": "Nishida",
       "given": "Eisuke"
      }
     ],
     "container-title": "Nature Cell Biology",
     "id": "2754712/HWMDC2F4",
     "issue": "11",
     "issued": {
      "month": 11,
      "year": 2002
     },
     "language": "En",
     "page": "850",
     "page-first": "850",
     "title": "Sprouty1 and Sprouty2 provide a control mechanism for the Ras/MAPK signalling pathway",
     "type": "article-journal",
     "volume": "4"
    },
    "2754712/IMG4CADM": {
     "DOI": "10.1016/j.tcb.2013.11.002",
     "URL": "https://www.ncbi.nlm.nih.gov/pmc/articles/PMC3884125/",
     "abstract": "•\n              EGF receptor endocytic traffic can regulate signaling and cell survival.\n            \n            \n              •\n              Signaling from activated EGFR occurs at the endosome as well as the cell surface.\n            \n            \n              •\n              Endocytosis can have positive and negative effects on signaling and tumorigenesis.\n            \n            \n              •\n              EGFR traffic promoted by antineoplastic therapy is important in tumor resistance.\n            \n          \n        , The ligand-stimulated epidermal growth factor receptor (EGFR) has been extensively studied in the analysis of molecular mechanisms regulating endocytic traffic and the role of that traffic in signal transduction. Although such studies have largely focused on mitogenic signaling and dysregulated traffic in tumorigenesis, there is growing interest in the potential role of EGFR traffic in cell survival and the consequent response to cancer therapy. Here we review recent advances in our understanding of molecular mechanisms regulating ligand-stimulated EGFR activation, internalization, and post-endocytic sorting. The role of EGFR overexpression/mutation and new modulators of EGFR traffic in cancer and the response to cancer therapeutics are also discussed. Finally, we speculate on the relationship between EGFR traffic and cell survival.",
     "accessed": {
      "day": 11,
      "month": 6,
      "year": 2019
     },
     "author": [
      {
       "family": "Tomas",
       "given": "Alejandra"
      },
      {
       "family": "Futter",
       "given": "Clare E."
      },
      {
       "family": "Eden",
       "given": "Emily R."
      }
     ],
     "container-title": "Trends in Cell Biology",
     "container-title-short": "Trends Cell Biol",
     "id": "2754712/IMG4CADM",
     "issue": "1",
     "issued": {
      "month": 1,
      "year": 2014
     },
     "journalAbbreviation": "Trends Cell Biol",
     "note": "PMID: 24295852\nPMCID: PMC3884125",
     "page": "26-34",
     "page-first": "26",
     "shortTitle": "EGF receptor trafficking",
     "title": "EGF receptor trafficking: consequences for signaling and cancer",
     "title-short": "EGF receptor trafficking",
     "type": "article-journal",
     "volume": "24"
    },
    "2754712/ITU427M5": {
     "abstract": "Ras, a small GTP-binding protein, is an important component of the signal transduction pathway used by growth factors to initiate cell growth and differentiation. Cell activation with growth factors such as epidermal growth factor (EGF) induces Ras to move from an inactive GDP-bound state to an active GTP-bound state. Recently, a combination of genetic and biochemical studies has resulted in the elucidation of a signaling pathway that leads from growth factor receptors to Ras. After binding EGF, the EGF receptor tyrosine kinase is activated, leading to receptor autophosphorylation on multiple tyrosine residues. Signaling proteins with Src homology 2 (SH2) domains then bind to these tyrosine-phosphorylated residues, initiating multiple signaling cascades. One of these SH2 domain proteins, Grb2, exists in the cytoplasm in a preformed complex with a second protein, Son of Sevenless (Sos), which can catalyze Ras GTP/GDP exchange. After growth factor stimulation, the tyrosine phosphorylated EGF receptor binds the Grb2/Sos complex, translocating it to the plasma membrane. This translocation is thought to bring Sos into close proximity with Ras, leading to the activation of Ras. In contrast, the insulin receptor does not bind Grb2 directly but rather induces the tyrosine phosphorylation of two proteins, insulin receptor substrate-1 and Shc, that bind the Grb2/Sos complex. Once Ras is activated, it proceeds to stimulate a cascade of protein kinases that are important in a myriad of growth factor responses.",
     "author": [
      {
       "family": "Margolis",
       "given": "B."
      },
      {
       "family": "Skolnik",
       "given": "E. Y."
      }
     ],
     "container-title": "Journal of the American Society of Nephrology: JASN",
     "container-title-short": "J. Am. Soc. Nephrol.",
     "id": "2754712/ITU427M5",
     "issue": "6",
     "issued": {
      "month": 12,
      "year": 1994
     },
     "journalAbbreviation": "J. Am. Soc. Nephrol.",
     "language": "eng",
     "note": "PMID: 7893993",
     "page": "1288-1299",
     "page-first": "1288",
     "title": "Activation of Ras by receptor tyrosine kinases",
     "type": "article-journal",
     "volume": "5"
    },
    "2754712/JAB2JXXQ": {
     "DOI": "10.1016/j.mce.2009.04.008",
     "abstract": "The ERK cascade is a central signaling pathway that regulates a large number of intracellular processes including proliferation, differentiation, development and also survival or apoptosis. The induction of so many distinct and even opposing cellular processes raises the question as to how the signaling specificity of the cascade is regulated. In the past few years, subcellular localization of components of the ERK cascade was shown to play an important role in specificity determination. Here we describe the dynamic subcellular localization of Raf kinases, MEKs, and particularly ERKs, which translocate into the nucleus during many cellular processes to induce transcription. We also describe in details the recent identification of a novel nuclear translocation mechanism for ERKs, which is based on a nuclear translocation sequence (NTS) within their kinase insert domain (KID). Phosphorylation of this domain, mainly upon stimulation, allows ERKs to interact with the nuclear importing protein - importin7, which mediates the penetration of the interacting ERKs into the nucleus via nuclear pores. Interestingly, the NTS is not specific to ERKs, and seems to be a general signal for regulating nuclear accumulation of various proteins, including MEKs, upon their stimulation. Better understanding of this mechanism may clarify the role of the massive nuclear translocation of many regulatory proteins shortly after their stimulation.",
     "author": [
      {
       "family": "Zehorai",
       "given": "Eldar"
      },
      {
       "family": "Yao",
       "given": "Zhong"
      },
      {
       "family": "Plotnikov",
       "given": "Alexander"
      },
      {
       "family": "Seger",
       "given": "Rony"
      }
     ],
     "container-title": "Molecular and Cellular Endocrinology",
     "container-title-short": "Mol. Cell. Endocrinol.",
     "id": "2754712/JAB2JXXQ",
     "issue": "2",
     "issued": {
      "day": 27,
      "month": 1,
      "year": 2010
     },
     "journalAbbreviation": "Mol. Cell. Endocrinol.",
     "language": "eng",
     "note": "PMID: 19406201",
     "page": "213-220",
     "page-first": "213",
     "title": "The subcellular localization of MEK and ERK--a novel nuclear translocation signal (NTS) paves a way to the nucleus",
     "type": "article-journal",
     "volume": "314"
    },
    "2754712/JHN992B6": {
     "DOI": "10.1109/BIBM.2016.7822739",
     "abstract": "Biochemical processes typically operate on molecular sites (domains, motifs, residues). In rule-based modeling languages such as BioNetGen (BNG), reactions driven by the same set of sites with the same rate law can be represented using a single reaction rule. This leads to compact model representations when sites behave independently, but not when a large number of sites interact cooperatively. Additionally, loops of reactions are constrained by detailed balance equations involving their rate constants, but these constraints have to be enforced manually when specifying rate laws for rules. Here, we introduce the energy-based BioNetGen specification (eBNG), in which models always satisfy detailed balance and cooperative interactions are compactly specified as free energy contributions. We demonstrate this approach using well-known models of molecular cooperativity, such as ligand-induced receptor dimerization and allosteric modulation.",
     "author": [
      {
       "family": "Sekar",
       "given": "J. A. P."
      },
      {
       "family": "Hogg",
       "given": "J. S."
      },
      {
       "family": "Faeder",
       "given": "J. R."
      }
     ],
     "container-title": "2016 IEEE International Conference on Bioinformatics and Biomedicine (BIBM)",
     "event": "2016 IEEE International Conference on Bioinformatics and Biomedicine (BIBM)",
     "id": "2754712/JHN992B6",
     "issued": {
      "month": 12,
      "year": 2016
     },
     "page": "1460-1467",
     "page-first": "1460",
     "title": "Energy-based modeling in BioNetGen",
     "type": "paper-conference"
    },
    "2754712/JPLX2K5C": {
     "DOI": "10.1042/BJ20120938",
     "URL": "http://www.biochemj.org/content/447/1/159",
     "abstract": "The extent and duration of MAPK (mitogen-activated protein kinase) signalling govern a diversity of normal and aberrant cellular outcomes. Genetic and pharmacological disruption of the MAPK-activated kinase RSK (ribosomal S6 kinase) leads to elevated MAPK activity indicative of a RSK-dependent negative feedback loop. Using biochemical, pharmacological and quantitative MS approaches we show that RSK phosphorylates the Ras activator SOS1 (Son of Sevenless homologue 1) in cultured cells on two C-terminal residues, Ser1134 and Ser1161. Furthermore, we find that RSK-dependent SOS1 phosphorylation creates 14-3-3-binding sites. We show that mutating Ser1134 and Ser1161 disrupts 14-3-3 binding and modestly increases and extends MAPK activation. Together these data suggest that one mechanism whereby RSK negatively regulates MAPK activation is via site-specific SOS1 phosphorylation.",
     "accessed": {
      "day": 13,
      "month": 6,
      "year": 2019
     },
     "author": [
      {
       "family": "Saha",
       "given": "Madhurima"
      },
      {
       "family": "Carriere",
       "given": "Audrey"
      },
      {
       "family": "Cheerathodi",
       "given": "Mujeeburahiman"
      },
      {
       "family": "Zhang",
       "given": "Xiaocui"
      },
      {
       "family": "Lavoie",
       "given": "Geneviève"
      },
      {
       "family": "Rush",
       "given": "John"
      },
      {
       "family": "Roux",
       "given": "Philippe P."
      },
      {
       "family": "Ballif",
       "given": "Bryan A."
      }
     ],
     "container-title": "Biochemical Journal",
     "id": "2754712/JPLX2K5C",
     "issue": "1",
     "issued": {
      "day": 1,
      "month": 10,
      "year": 2012
     },
     "language": "en",
     "note": "PMID: 22827337",
     "page": "159-166",
     "page-first": "159",
     "title": "RSK phosphorylates SOS1 creating 14-3-3-docking sites and negatively regulating MAPK activation",
     "type": "article-journal",
     "volume": "447"
    },
    "2754712/KT8H2Y5J": {
     "DOI": "10.1016/j.ccr.2014.07.007",
     "URL": "http://www.sciencedirect.com/science/article/pii/S1535610814002992",
     "abstract": "Summary\nNumerous oncogenic mutations occur within the BRAF kinase domain (BRAFKD). Here we show that stable BRAF-MEK1 complexes are enriched in BRAFWT and KRAS mutant (MT) cells but not in BRAFMT cells. The crystal structure of the BRAFKD in a complex with MEK1 reveals a face-to-face dimer sensitive to MEK1 phosphorylation but insensitive to BRAF dimerization. Structure-guided studies reveal that oncogenic BRAF mutations function by bypassing the requirement for BRAF dimerization for activity or weakening the interaction with MEK1. Finally, we show that conformation-specific BRAF inhibitors can sequester a dormant BRAF-MEK1 complex resulting in pathway inhibition. Taken together, these findings reveal a regulatory role for BRAF in the MAPK pathway independent of its kinase activity but dependent on interaction with MEK.",
     "accessed": {
      "day": 14,
      "month": 11,
      "year": 2018
     },
     "author": [
      {
       "family": "Haling",
       "given": "Jacob R."
      },
      {
       "family": "Sudhamsu",
       "given": "Jawahar"
      },
      {
       "family": "Yen",
       "given": "Ivana"
      },
      {
       "family": "Sideris",
       "given": "Steve"
      },
      {
       "family": "Sandoval",
       "given": "Wendy"
      },
      {
       "family": "Phung",
       "given": "Wilson"
      },
      {
       "family": "Bravo",
       "given": "Brandon J."
      },
      {
       "family": "Giannetti",
       "given": "Anthony M."
      },
      {
       "family": "Peck",
       "given": "Ariana"
      },
      {
       "family": "Masselot",
       "given": "Alexandre"
      },
      {
       "family": "Morales",
       "given": "Tony"
      },
      {
       "family": "Smith",
       "given": "Darin"
      },
      {
       "family": "Brandhuber",
       "given": "Barbara J."
      },
      {
       "family": "Hymowitz",
       "given": "Sarah G."
      },
      {
       "family": "Malek",
       "given": "Shiva"
      }
     ],
     "container-title": "Cancer Cell",
     "container-title-short": "Cancer Cell",
     "id": "2754712/KT8H2Y5J",
     "issue": "3",
     "issued": {
      "day": 8,
      "month": 9,
      "year": 2014
     },
     "journalAbbreviation": "Cancer Cell",
     "page": "402-413",
     "page-first": "402",
     "title": "Structure of the BRAF-MEK Complex Reveals a Kinase Activity Independent Role for BRAF in MAPK Signaling",
     "type": "article-journal",
     "volume": "26"
    },
    "2754712/KWBTHZEK": {
     "DOI": "10.1016/j.molcel.2011.07.014",
     "URL": "http://www.sciencedirect.com/science/article/pii/S1097276511005387",
     "abstract": "Summary\nEpidermal growth factor receptors (ErbB1–4) are oncogenic receptor tyrosine kinases (RTKs) that regulate diverse cellular processes. In this study, we combine measurement and mathematical modeling to quantify phospho-turnover at ErbB receptors in human cells and to determine the consequences for signaling and drug binding. We find that phosphotyrosine residues on ErbB1 have half-lives of a few seconds and therefore turn over 100–1000 times in the course of a typical immediate-early response to ligand. Rapid phospho-turnover is also observed for EGF-activated ErbB2 and ErbB3, unrelated RTKs, and multiple intracellular adaptor proteins and signaling kinases. Thus, the complexes formed on the cytoplasmic tail of active receptors and the downstream signaling kinases they control are highly dynamic and antagonized by potent phosphatases. We develop a kinetic scheme for binding of anti-ErbB1 drugs to receptors and show that rapid phospho-turnover significantly impacts their mechanisms of action.",
     "accessed": {
      "day": 12,
      "month": 6,
      "year": 2019
     },
     "author": [
      {
       "family": "Kleiman",
       "given": "Laura B."
      },
      {
       "family": "Maiwald",
       "given": "Thomas"
      },
      {
       "family": "Conzelmann",
       "given": "Holger"
      },
      {
       "family": "Lauffenburger",
       "given": "Douglas A."
      },
      {
       "family": "Sorger",
       "given": "Peter K."
      }
     ],
     "container-title": "Molecular Cell",
     "container-title-short": "Molecular Cell",
     "id": "2754712/KWBTHZEK",
     "issue": "5",
     "issued": {
      "day": 2,
      "month": 9,
      "year": 2011
     },
     "journalAbbreviation": "Molecular Cell",
     "page": "723-737",
     "page-first": "723",
     "title": "Rapid Phospho-Turnover by Receptor Tyrosine Kinases Impacts Downstream Signaling and Drug Binding",
     "type": "article-journal",
     "volume": "43"
    },
    "2754712/L5AI98Y6": {
     "DOI": "10.1016/j.cellsig.2005.04.001",
     "URL": "https://www.ncbi.nlm.nih.gov/pmc/articles/PMC3017502/",
     "abstract": "Docking sites on targets of mitogen-activated protein kinases (MAPKs) facilitate accurate and efficient substrate phosphorylation. MAPK/ERK kinases (MEKs, or MKKs), the upstream regulators of MAPKs, also contain N-terminal MAPK-docking sites, or ‘D-sites’; however, the in vivo functions of MEK D-sites are incompletely understood. Here we found that the ability of constitutively-active human MEK1 and MEK2 to stimulate ERK phosphorylation and to induce the neoplastic transformation of NIH 3T3 cells required the integrity of the D-site. In addition, D-site mutants of otherwise wild-type MEK1/2 were unable to anchor unphosphorylated ERK2 in the cytoplasm. ERK activation, cytoplasmic anchoring and release were completely retained in ‘swap’ mutants in which MEK2’s D-site was replaced with the D-site of MEK1 or yeast Ste7. Furthermore, these abilities were significantly retained when MEK2’s D-site was moved to its C-terminus, or replaced by an unrelated MAPK-binding domain taken from the Ets-1 transcription factor. We conclude that the D-sites in MEKs are crucial for the activation of their cognate MAPKs in vivo, and that their primary function is to tether their cognate MAPKs near the MEK’s kinase domain. This proximity effect is sufficient to explain the contribution that the D-site interaction makes to several biologically important signaling events.",
     "accessed": {
      "day": 12,
      "month": 2,
      "year": 2019
     },
     "author": [
      {
       "family": "Grewal",
       "given": "S."
      },
      {
       "family": "Molina",
       "given": "D.M."
      },
      {
       "family": "Bardwell",
       "given": "L."
      }
     ],
     "container-title": "Cellular signalling",
     "container-title-short": "Cell Signal",
     "id": "2754712/L5AI98Y6",
     "issue": "1",
     "issued": {
      "month": 1,
      "year": 2006
     },
     "journalAbbreviation": "Cell Signal",
     "note": "PMID: 15979847\nPMCID: PMC3017502",
     "page": "123-134",
     "page-first": "123",
     "title": "Mitogen-activated protein kinase (MAPK)-docking sites in MAPK kinases function as tethers that are crucial for MAPK regulation in vivo",
     "type": "article-journal",
     "volume": "18"
    },
    "2754712/L894YC64": {
     "DOI": "10.1038/msb.2013.1",
     "URL": "http://msb.embopress.org/content/9/1/646.abstract",
     "abstract": "Mathematical equations are fundamental to modeling biological networks, but as networks get large and revisions frequent, it becomes difficult to manage equations directly or to combine previously developed models. Multiple simultaneous efforts to create graphical standards, rule‐based languages, and integrated software workbenches aim to simplify biological modeling but none fully meets the need for transparent, extensible, and reusable models. In this paper we describe PySB, an approach in which models are not only created using programs, they are programs. PySB draws on programmatic modeling concepts from little b and ProMot, the rule‐based languages BioNetGen and Kappa and the growing library of Python numerical tools. Central to PySB is a library of macros encoding familiar biochemical actions such as binding, catalysis, and polymerization, making it possible to use a high‐level, action‐oriented vocabulary to construct detailed models. As Python programs, PySB models leverage tools and practices from the open‐source software community, substantially advancing our ability to distribute and manage the work of testing biochemical hypotheses. We illustrate these ideas using new and previously published models of apoptosis.Mol Syst Biol. 9: 646",
     "author": [
      {
       "family": "Lopez",
       "given": "Carlos F"
      },
      {
       "family": "Muhlich",
       "given": "Jeremy L"
      },
      {
       "family": "Bachman",
       "given": "John A"
      },
      {
       "family": "Sorger",
       "given": "Peter K"
      }
     ],
     "container-title": "Molecular Systems Biology",
     "container-title-short": "Mol Syst Biol",
     "id": "2754712/L894YC64",
     "issue": "1",
     "issued": {
      "day": 1,
      "month": 1,
      "year": 2013
     },
     "journalAbbreviation": "Mol Syst Biol",
     "title": "Programming biological models in Python using PySB",
     "type": "article-journal",
     "volume": "9"
    },
    "2754712/LWCCZVEV": {
     "DOI": "10.1111/j.1742-4658.2012.08716.x",
     "URL": "https://febs.onlinelibrary.wiley.com/doi/abs/10.1111/j.1742-4658.2012.08716.x",
     "abstract": "Dual-specificity MAP kinase phosphatases (MKPs) provide a complex negative regulatory network that acts to shape the duration, magnitude and spatiotemporal profile of MAP kinase activities in response to both physiological and pathological stimuli. Individual MKPs may exhibit either exquisite specificity towards a single mitogen-activated protein kinase (MAPK) isoform or be able to regulate multiple MAPK pathways in a single cell or tissue. They can act as negative feedback regulators of MAPK activity, but can also provide mechanisms of crosstalk between distinct MAPK pathways and between MAPK signalling and other intracellular signalling modules. In this review, we explore the current state of knowledge with respect to the regulation of MKP expression levels and activities, the mechanisms by which individual MKPs recognize and interact with different MAPK isoforms and their role in the spatiotemporal regulation of MAPK signalling.",
     "accessed": {
      "day": 13,
      "month": 6,
      "year": 2019
     },
     "author": [
      {
       "family": "Caunt",
       "given": "Christopher J."
      },
      {
       "family": "Keyse",
       "given": "Stephen M."
      }
     ],
     "container-title": "The FEBS Journal",
     "id": "2754712/LWCCZVEV",
     "issue": "2",
     "issued": {
      "year": 2013
     },
     "language": "en",
     "page": "489-504",
     "page-first": "489",
     "title": "Dual-specificity MAP kinase phosphatases (MKPs)",
     "type": "article-journal",
     "volume": "280"
    },
    "2754712/PN4VMMJP": {
     "DOI": "10.1093/emboj/20.3.466",
     "URL": "http://emboj.embopress.org/content/20/3/466",
     "abstract": "MAP kinases (MAPKs) form a complex with MAPK kinases (MAPKKs), MAPK‐specific phosphatases (MKPs) and various targets including MAPKAPKs. These docking interactions contribute to regulation of the specificity and efficiency of the enzymatic reactions. We have previously identified a docking site on MAPKs, termed the CD (common docking) domain, which is utilized commonly for docking interactions with MAPKKs, MKPs and MAPKAPKs. However, the CD domain alone does not determine the docking specificity. Here we have identified a novel site on p38 and ERK2 MAPKs that regulates the docking specificity towards MAPKAPKs. Remarkably, exchange of two amino acids in this site of ERK2 for corresponding residues of p38 converted the docking specificity for MAPKAPK‐3/3pk, which is a dominant target of p38, from the ERK2 type to the p38 type, and vice versa. Furthermore, our detailed analyses with a number of MAPKAPKs and MKPs suggest that a groove in the steric structure of MAPKs, which comprises the CD domain and the site identified here, serves as a common docking region for various MAPK‐interacting molecules.",
     "accessed": {
      "day": 12,
      "month": 6,
      "year": 2019
     },
     "author": [
      {
       "family": "Tanoue",
       "given": "Takuji"
      },
      {
       "family": "Maeda",
       "given": "Ryota"
      },
      {
       "family": "Adachi",
       "given": "Makoto"
      },
      {
       "family": "Nishida",
       "given": "Eisuke"
      }
     ],
     "container-title": "The EMBO Journal",
     "id": "2754712/PN4VMMJP",
     "issue": "3",
     "issued": {
      "day": 1,
      "month": 2,
      "year": 2001
     },
     "language": "en",
     "note": "PMID: 11157753",
     "page": "466-479",
     "page-first": "466",
     "title": "Identification of a docking groove on ERK and p38 MAP kinases that regulates the specificity of docking interactions",
     "type": "article-journal",
     "volume": "20"
    },
    "2754712/Q6YXK9FN": {
     "DOI": "10.1091/mbc.E02-08-0532",
     "URL": "https://www.ncbi.nlm.nih.gov/pmc/articles/PMC151565/",
     "abstract": "The molecular mechanisms of clathrin-dependent internalization of epidermal growth factor receptor (EGFR) are not well understood and, in particular, the sequence motifs that mediate EGFR interactions with coated pits have not been mapped. We generated a panel of EGFR mutants and stably expressed these mutants in porcine aortic endothelial (PAE) cells. Interestingly, mutations of tyrosine phosphorylation sites 1068 and 1086 that interact with growth-factor-receptor-binding protein Grb2 completely abolished receptor internalization in PAE cells. Quantitative analysis of colocalization of EGF-rhodamine conjugate and coated pits labeled with yellow-fluorescent-protein–tagged β2 subunit of clathrin adaptor complex AP-2 revealed that EGFR mutants lacking Grb2 binding sites do not efficiently enter coated pits. The depletion of Grb2 from PAE as well as HeLa cells expressing endogenous EGFRs by RNA interference substantially reduced the rate of EGFR internalization through clathrin-dependent pathway, thus providing the direct evidence for the important role of Grb2 in this process. Overexpression of Grb2 mutants, in which the SH3 domains were either deleted or inactivated by point mutations, significantly inhibited EGFR internalization in both PAE and HeLa cells. These findings indicate that Grb2, in addition to its key function in signaling through Ras, has a major regulatory role at the initial steps of EGFR internalization through clathrin-coated pits. Furthermore, the EGFR mutant lacking Grb2 binding sites did not efficiently recruit c-Cbl and was not polyubiquitinated. The data are consistent with the model whereby Grb2 participates in EGFR internalization through the recruitment of Cbl to the receptor, thus allowing proper ubiquitylation of EGFR and/or associated proteins at the plasma membrane.",
     "accessed": {
      "day": 13,
      "month": 6,
      "year": 2019
     },
     "author": [
      {
       "family": "Jiang",
       "given": "Xuejun"
      },
      {
       "family": "Huang",
       "given": "Fangtian"
      },
      {
       "family": "Marusyk",
       "given": "Andriy"
      },
      {
       "family": "Sorkin",
       "given": "Alexander"
      }
     ],
     "container-title": "Molecular Biology of the Cell",
     "container-title-short": "Mol Biol Cell",
     "id": "2754712/Q6YXK9FN",
     "issue": "3",
     "issued": {
      "month": 3,
      "year": 2003
     },
     "journalAbbreviation": "Mol Biol Cell",
     "note": "PMID: 12631709\nPMCID: PMC151565",
     "page": "858-870",
     "page-first": "858",
     "title": "Grb2 Regulates Internalization of EGF Receptors through Clathrin-coated Pits",
     "type": "article-journal",
     "volume": "14"
    },
    "2754712/RB2FVNX9": {
     "DOI": "10.1021/bi802291y",
     "URL": "https://www.ncbi.nlm.nih.gov/pmc/articles/PMC2710136/",
     "abstract": "Ubiquitously encountered in a wide variety of cellular processes, the Grb2-Sos1 interaction is mediated through the combinatorial binding of nSH3 and cSH3 domains of Grb2 to various sites containing PXψPXR motifs within Sos1. Here, using isothermal titration calorimetry, we demonstrate that while the nSH3 domain binds with affinities in the physiological range to all four sites containing PXψPXR motifs, designated S1, S2, S3 and S4, the cSH3 domain can only do so at S1 site. Further scrutiny of these sites yields rationale for the recognition of various PXψPXR motifs by the SH3 domains in a discriminate manner. Unlike the PXψPXR motifs at S2, S3 and S4 sites, the PXψPXR motif at S1 site is flanked at its C-terminus with two additional arginine residues that are absolutely required for high-affinity binding of cSH3 domain. In striking contrast, these two additional arginine residues augment the binding of nSH3 domain to S1 site but their role is not critical for the recognition of S2, S3 and S4 sites. Site-directed mutagenesis suggests that the two additional arginine residues flanking the PXψPXR motif at S1 site contribute to free energy of binding via the formation of salt bridges with specific acidic residues in SH3 domains. Molecular modeling is employed to project these novel findings into the 3D structures of SH3 domains in complex with a peptide containing the PXψPXR motif and flanking arginine residues at S1 site. Taken together, this study furthers our understanding of the assembly of a key signaling complex central to cellular machinery.",
     "accessed": {
      "day": 11,
      "month": 6,
      "year": 2019
     },
     "author": [
      {
       "family": "McDonald",
       "given": "Caleb B."
      },
      {
       "family": "Seldeen",
       "given": "Kenneth L."
      },
      {
       "family": "Deegan",
       "given": "Brian J."
      },
      {
       "family": "Farooq",
       "given": "Amjad"
      }
     ],
     "container-title": "Biochemistry",
     "container-title-short": "Biochemistry",
     "id": "2754712/RB2FVNX9",
     "issue": "19",
     "issued": {
      "day": 19,
      "month": 5,
      "year": 2009
     },
     "journalAbbreviation": "Biochemistry",
     "note": "PMID: 19323566\nPMCID: PMC2710136",
     "page": "4074-4085",
     "page-first": "4074",
     "title": "SH3 Domains of Grb2 Adaptor Bind to PXψPXR Motifs Within the Sos1 Nucleotide Exchange Factor in a Discriminate Manner",
     "type": "article-journal",
     "volume": "48"
    },
    "2754712/S96PCXXA": {
     "URL": "https://www.ncbi.nlm.nih.gov/pmc/articles/PMC1570442/",
     "accessed": {
      "day": 14,
      "month": 11,
      "year": 2018
     },
     "id": "2754712/S96PCXXA",
     "title": "Single-molecule analysis of epidermal growth factor binding on the surface of living cells",
     "type": "webpage"
    },
    "2754712/SI73C6VD": {
     "DOI": "10.1074/jbc.M109.064972",
     "URL": "http://www.jbc.org/content/285/5/3092",
     "abstract": "Upon activation, ERKs translocate from the cytoplasm to the nucleus. This process is required for the induction of many cellular responses, yet the molecular mechanisms that regulate ERK nuclear translocation are not fully understood. We have used a mouse embryo fibroblast ERK1-knock-out cell line expressing green fluorescent protein (GFP)-tagged ERK1 to probe the spatio-temporal regulation of ERK1. Real time fluorescence microscopy and fluorescence correlation spectroscopy revealed that ERK1 nuclear accumulation increased upon serum stimulation, but the mobility of the protein in the nucleus and cytoplasm remained unchanged. Dimerization of ERK has been proposed as a requirement for nuclear translocation. However, ERK1-Δ4, the mutant shown consistently to be dimerization-deficient in vitro, accumulated in the nucleus to the same level as wild type (WT), indicating that dimerization of ERK1 is not required for nuclear entry and retention. Consistent with this finding, energy migration Förster resonance energy transfer and fluorescence correlation spectroscopy measurements in living cells did not detect dimerization of GFP-ERK1-WT upon activation. In contrast, the kinetics of nuclear accumulation and phosphorylation of GFP-ERK1-Δ4 were slower than that of GFP-ERK1-WT. These results indicate that the differential shuttling behavior of the mutant is a consequence of delayed phosphorylation of ERK by MEK rather than dimerization. Our data demonstrate for the first time that a delay in cytoplasmic activation of ERK is directly translated into a delay in nuclear translocation.",
     "accessed": {
      "day": 12,
      "month": 6,
      "year": 2019
     },
     "author": [
      {
       "family": "Lidke",
       "given": "Diane S."
      },
      {
       "family": "Huang",
       "given": "Fang"
      },
      {
       "family": "Post",
       "given": "Janine N."
      },
      {
       "family": "Rieger",
       "given": "Bernd"
      },
      {
       "family": "Wilsbacher",
       "given": "Julie"
      },
      {
       "family": "Thomas",
       "given": "James L."
      },
      {
       "family": "Pouysségur",
       "given": "Jacques"
      },
      {
       "family": "Jovin",
       "given": "Thomas M."
      },
      {
       "family": "Lenormand",
       "given": "Philippe"
      }
     ],
     "container-title": "Journal of Biological Chemistry",
     "container-title-short": "J. Biol. Chem.",
     "id": "2754712/SI73C6VD",
     "issue": "5",
     "issued": {
      "day": 29,
      "month": 1,
      "year": 2010
     },
     "journalAbbreviation": "J. Biol. Chem.",
     "language": "en",
     "note": "PMID: 19920141",
     "page": "3092-3102",
     "page-first": "3092",
     "title": "ERK Nuclear Translocation Is Dimerization-independent but Controlled by the Rate of Phosphorylation",
     "type": "article-journal",
     "volume": "285"
    },
    "2754712/TN9W23L4": {
     "DOI": "10.1016/j.celrep.2015.08.014",
     "URL": "http://dx.doi.org/10.1016/j.celrep.2015.08.014",
     "accessed": {
      "day": 14,
      "month": 2,
      "year": 2018
     },
     "author": [
      {
       "family": "Kholodenko",
       "given": "Boris N."
      }
     ],
     "container-title": "Cell Reports",
     "id": "2754712/TN9W23L4",
     "issue": "11",
     "page": "1939-1949",
     "page-first": "1939",
     "title": "Drug Resistance Resulting from Kinase Dimerization Is Rationalized by Thermodynamic Factors Describing Allosteric Inhibitor Effects",
     "type": "article-journal",
     "volume": "12"
    },
    "2754712/UPE8FY25": {
     "DOI": "10.1074/jbc.M406720200",
     "URL": "http://www.jbc.org/content/279/40/41882",
     "abstract": "MAP kinase phosphatase (MKP)-3 is a cytoplasmic dual specificity protein phosphatase that specifically binds to and inactivates the ERK1/2 MAP kinases in mammalian cells. However, the molecular basis of the cytoplasmic localization of MKP-3 or its physiological significance is unknown. We have used MKP-3-green fluorescent protein fusions in conjunction with leptomycin B to show that the cytoplasmic localization of MKP-3 is mediated by a chromosome region maintenance-1 (CRM1)-dependent nuclear export pathway. Furthermore, the nuclear translocation of MKP-3 seen in the presence of leptomycin B is mediated by an active process, indicating that MKP-3 shuttles between the nucleus and cytoplasm. The amino-terminal noncatalytic domain of MKP-3 is both necessary and sufficient for nuclear export of the phosphatase and contains a single functional leucine-rich nuclear export signal (NES). Even though this domain of the protein also mediates the binding of MKP-3 to MAP kinase, we show that mutations of the kinase interaction motif which abrogate ERK2 binding do not affect MKP-3 localization. Conversely, mutation of the NES does not affect either the binding or phosphatase activity of MKP-3 toward ERK2, indicating that the kinase interaction motif and NES function independently. Finally, we demonstrate that the ability of MKP-3 to cause the cytoplasmic retention of ERK2 requires both a functional kinase interaction motif and NES. We conclude that in addition to its established function in the regulated dephosphorylation and inactivation of MAP kinase, MKP-3 may also play a role in determining the subcellular localization of its substrate. Our results reinforce the idea that regulatory proteins such as MKP-3 may play a key role in the spatio-temporal regulation of MAP kinase activity.",
     "accessed": {
      "day": 13,
      "month": 6,
      "year": 2019
     },
     "author": [
      {
       "family": "Karlsson",
       "given": "Maria"
      },
      {
       "family": "Mathers",
       "given": "Joanne"
      },
      {
       "family": "Dickinson",
       "given": "Robin J."
      },
      {
       "family": "Mandl",
       "given": "Margret"
      },
      {
       "family": "Keyse",
       "given": "Stephen M."
      }
     ],
     "container-title": "Journal of Biological Chemistry",
     "container-title-short": "J. Biol. Chem.",
     "id": "2754712/UPE8FY25",
     "issue": "40",
     "issued": {
      "day": 1,
      "month": 10,
      "year": 2004
     },
     "journalAbbreviation": "J. Biol. Chem.",
     "language": "en",
     "note": "PMID: 15269220",
     "page": "41882-41891",
     "page-first": "41882",
     "title": "Both Nuclear-Cytoplasmic Shuttling of the Dual Specificity Phosphatase MKP-3 and Its Ability to Anchor MAP Kinase in the Cytoplasm Are Mediated by a Conserved Nuclear Export Signal",
     "type": "article-journal",
     "volume": "279"
    },
    "2754712/URVR5RD5": {
     "DOI": "10.1016/j.ccr.2012.10.009",
     "URL": "https://www.ncbi.nlm.nih.gov/pmc/articles/PMC3713778/",
     "abstract": "BRAFV600E drives tumors by dysregulating ERK signaling. In these tumors, we show that high levels of ERK-dependent negative feedback potently suppress ligand-dependent mitogenic signaling and Ras function. BRAFV600E activation is Ras-independent and it signals as a RAF-inhibitor sensitive monomer. RAF inhibitors potently inhibit RAF monomers and ERK signaling, causing relief of ERK-dependent feedback, reactivation of ligand-dependent signal transduction, increased Ras-GTP and generation of RAF inhibitor-resistant RAF dimers. This results in a rebound in ERK activity and culminates in a new steady state, wherein ERK signaling is elevated compared to its initial nadir after RAF inhibition. In this state, ERK signaling is RAF inhibitor resistant, and MEK inhibitor sensitive, and combined inhibition results in enhancement of ERK-pathway inhibition and antitumor activity.",
     "accessed": {
      "day": 23,
      "month": 8,
      "year": 2018
     },
     "author": [
      {
       "family": "Lito",
       "given": "Piro"
      },
      {
       "family": "Pratilas",
       "given": "Christine A."
      },
      {
       "family": "Joseph",
       "given": "Eric W."
      },
      {
       "family": "Tadi",
       "given": "Madhavi"
      },
      {
       "family": "Halilovic",
       "given": "Ensar"
      },
      {
       "family": "Zubrowski",
       "given": "Matthew"
      },
      {
       "family": "Huang",
       "given": "Alan"
      },
      {
       "family": "Wong",
       "given": "Wai Lin"
      },
      {
       "family": "Callahan",
       "given": "Margaret K."
      },
      {
       "family": "Merghoub",
       "given": "Taha"
      },
      {
       "family": "Wolchok",
       "given": "Jedd D."
      },
      {
       "family": "de Stanchina",
       "given": "Elisa"
      },
      {
       "family": "Chandarlapaty",
       "given": "Sarat"
      },
      {
       "family": "Poulikakos",
       "given": "Poulikos I."
      },
      {
       "family": "Fagin",
       "given": "James A."
      },
      {
       "family": "Rosen",
       "given": "Neal"
      }
     ],
     "container-title": "Cancer cell",
     "container-title-short": "Cancer Cell",
     "id": "2754712/URVR5RD5",
     "issue": "5",
     "issued": {
      "day": 13,
      "month": 11,
      "year": 2012
     },
     "journalAbbreviation": "Cancer Cell",
     "note": "PMID: 23153539\nPMCID: PMC3713778",
     "page": "668-682",
     "page-first": "668",
     "title": "RELIEF OF PROFOUND FEEDBACK INHIBITION OF MITOGENIC SIGNALING BY RAF INHIBITORS ATTENUATES THEIR ACTIVITY IN BRAFV600E MELANOMAS",
     "type": "article-journal",
     "volume": "22"
    },
    "2754712/USPWXJI3": {
     "DOI": "10.1038/nature12441",
     "URL": "http://www.nature.com/articles/nature12441",
     "abstract": "KRAS and BRAF activating mutations drive tumorigenesis through constitutive activation of the MAPK pathway. As these tumours represent an area of high unmet medical need, multiple allosteric MEK inhibitors, which inhibit MAPK signalling in both genotypes, are being tested in clinical trials. Impressive single-agent activity in BRAF-mutant melanoma has been observed; however, efficacy has been far less robust in KRAS-mutant disease1. Here we show that, owing to distinct mechanisms regulating MEK activation in KRAS- versus BRAF-driven tumours2,3, different mechanisms of inhibition are required for optimal antitumour activity in each genotype. Structural and functional analysis illustrates that MEK inhibitors with superior efficacy in KRAS-driven tumours (GDC-0623 and G-573, the former currently in phase I clinical trials) form a strong hydrogen-bond interaction with S212 in MEK that is critical for blocking MEK feedback phosphorylation by wild-type RAF. Conversely, potent inhibition of active, phosphorylated MEK is required for strong inhibition of the MAPK pathway in BRAF-mutant tumours, resulting in superior efficacy in this genotype with GDC-0973 (also known as cobimetinib), a MEK inhibitor currently in phase III clinical trials. Our study highlights that differences in the activation state of MEK in KRAS-mutant tumours versus BRAF-mutant tumours can be exploited through the design of inhibitors that uniquely target these distinct activation states of MEK. These inhibitors are currently being evaluated in clinical trials to determine whether improvements in therapeutic index within KRAS versus BRAF preclinical models translate to improved clinical responses in patients.",
     "accessed": {
      "day": 21,
      "month": 2,
      "year": 2019
     },
     "author": [
      {
       "family": "Hatzivassiliou",
       "given": "Georgia"
      },
      {
       "family": "Haling",
       "given": "Jacob R."
      },
      {
       "family": "Chen",
       "given": "Huifen"
      },
      {
       "family": "Song",
       "given": "Kyung"
      },
      {
       "family": "Price",
       "given": "Steve"
      },
      {
       "family": "Heald",
       "given": "Robert"
      },
      {
       "family": "Hewitt",
       "given": "Joanne F. M."
      },
      {
       "family": "Zak",
       "given": "Mark"
      },
      {
       "family": "Peck",
       "given": "Ariana"
      },
      {
       "family": "Orr",
       "given": "Christine"
      },
      {
       "family": "Merchant",
       "given": "Mark"
      },
      {
       "family": "Hoeflich",
       "given": "Klaus P."
      },
      {
       "family": "Chan",
       "given": "Jocelyn"
      },
      {
       "family": "Luoh",
       "given": "Shiuh-Ming"
      },
      {
       "family": "Anderson",
       "given": "Daniel J."
      },
      {
       "family": "Ludlam",
       "given": "Mary J. C."
      },
      {
       "family": "Wiesmann",
       "given": "Christian"
      },
      {
       "family": "Ultsch",
       "given": "Mark"
      },
      {
       "family": "Friedman",
       "given": "Lori S."
      },
      {
       "family": "Malek",
       "given": "Shiva"
      },
      {
       "family": "Belvin",
       "given": "Marcia"
      }
     ],
     "container-title": "Nature",
     "id": "2754712/USPWXJI3",
     "issue": "7466",
     "issued": {
      "month": 9,
      "year": 2013
     },
     "language": "en",
     "page": "232-236",
     "page-first": "232",
     "title": "Mechanism of MEK inhibition determines efficacy in mutant KRAS- versus BRAF-driven cancers",
     "type": "article-journal",
     "volume": "501"
    },
    "2754712/V8N4ML4G": {
     "DOI": "10.1016/j.tcb.2005.11.004",
     "URL": "http://www.sciencedirect.com/science/article/pii/S0962892405002990",
     "abstract": "Receptor tyrosine kinases (RTKs) control a wide variety of processes in multicellular organisms, including proliferation, differentiation, migration and survival. Their activity is tightly controlled through the coordinated action of both positive and negative regulators that function at multiple levels of the signal transduction cascade, and at different time points within the growth-factor-induced response. When this process goes awry, the outcome can be developmental defects and malignancy. Sprouty (Spry) proteins represent a major class of ligand-inducible inhibitors of RTK-dependent signaling pathways. New biochemical and genetic evidence indicates specific roles of the Spry genes in development and multiple modes of action of the Spry proteins in regulation of the RTK-induced response.",
     "accessed": {
      "day": 12,
      "month": 6,
      "year": 2019
     },
     "author": [
      {
       "family": "Mason",
       "given": "Jacqueline M."
      },
      {
       "family": "Morrison",
       "given": "Debra J."
      },
      {
       "family": "Albert Basson",
       "given": "M."
      },
      {
       "family": "Licht",
       "given": "Jonathan D."
      }
     ],
     "container-title": "Trends in Cell Biology",
     "container-title-short": "Trends in Cell Biology",
     "id": "2754712/V8N4ML4G",
     "issue": "1",
     "issued": {
      "day": 1,
      "month": 1,
      "year": 2006
     },
     "journalAbbreviation": "Trends in Cell Biology",
     "page": "45-54",
     "page-first": "45",
     "shortTitle": "Sprouty proteins",
     "title": "Sprouty proteins: multifaceted negative-feedback regulators of receptor tyrosine kinase signaling",
     "title-short": "Sprouty proteins",
     "type": "article-journal",
     "volume": "16"
    },
    "2754712/VFPC4KPB": {
     "DOI": "10.1038/nrc4000",
     "URL": "http://www.nature.com/articles/nrc4000",
     "abstract": "The role of the ERK signalling pathway in cancer is thought to be most prominent in tumours in which mutations in the receptor tyrosine kinases RAS, BRAF, CRAF, MEK1 or MEK2 drive growth factor-independent ERK1 and ERK2 activation and thence inappropriate cell proliferation and survival. New drugs that inhibit RAF or MEK1 and MEK2 have recently been approved or are currently undergoing late-stage clinical evaluation. In this Review, we consider the ERK pathway, focusing particularly on the role of MEK1 and MEK2, the 'gatekeepers' of ERK1/2 activity. We discuss their validation as drug targets, the merits of targeting MEK1 and MEK2 versus BRAF and the mechanisms of action of different inhibitors of MEK1 and MEK2. We also consider how some of the systems-level properties (intrapathway regulatory loops and wider signalling network connections) of the ERK pathway present a challenge for the success of MEK1 and MEK2 inhibitors, discuss mechanisms of resistance to these inhibitors, and review their clinical progress.",
     "accessed": {
      "day": 20,
      "month": 2,
      "year": 2019
     },
     "author": [
      {
       "family": "Caunt",
       "given": "Christopher J."
      },
      {
       "family": "Sale",
       "given": "Matthew J."
      },
      {
       "family": "Smith",
       "given": "Paul D."
      },
      {
       "family": "Cook",
       "given": "Simon J."
      }
     ],
     "container-title": "Nature Reviews Cancer",
     "id": "2754712/VFPC4KPB",
     "issue": "10",
     "issued": {
      "month": 10,
      "year": 2015
     },
     "language": "en",
     "page": "577-592",
     "page-first": "577",
     "shortTitle": "MEK1 and MEK2 inhibitors and cancer therapy",
     "title": "MEK1 and MEK2 inhibitors and cancer therapy: the long and winding road",
     "title-short": "MEK1 and MEK2 inhibitors and cancer therapy",
     "type": "article-journal",
     "volume": "15"
    },
    "2754712/VILTI493": {
     "DOI": "10.1038/35000065",
     "abstract": "Mitogen-activated protein kinases (MAPKs) are specifically phosphorylated and activated by the MAPK kinases, phosphorylate various targets such as MAPK-activated protein kinases and transcription factors, and are inactivated by specific phosphatases. Recently, docking interactions via the non-catalytic regions of MAPKs have been suggested to be important in regulating these reactions. Here we identify docking sites in MAPKs and in MAPK-interacting enzymes. A docking domain in extracellular-signal-regulated kinase (ERK), a MAPK, serves as a common site for binding to the MAPK kinase MEK1, the MAPK-activated protein kinase MNK1 and the MAPK phosphatase MKP3. Two aspartic acids in this domain are essential for docking, one of which is mutated in the sevenmaker mutant of Drosophila ERK/Rolled. A corresponding domain in the MAPKs p38 and JNK/SAPK also serves as a common docking site for their MEKs, MAPK-activated protein kinases and MKPs. These docking interactions increase the efficiency of the enzymatic reactions. These findings reveal a hitherto unidentified docking motif in MAPKs that is used in common for recognition of their activators, substrates and regulators.",
     "author": [
      {
       "family": "Tanoue",
       "given": "T."
      },
      {
       "family": "Adachi",
       "given": "M."
      },
      {
       "family": "Moriguchi",
       "given": "T."
      },
      {
       "family": "Nishida",
       "given": "E."
      }
     ],
     "container-title": "Nature Cell Biology",
     "container-title-short": "Nat. Cell Biol.",
     "id": "2754712/VILTI493",
     "issue": "2",
     "issued": {
      "month": 2,
      "year": 2000
     },
     "journalAbbreviation": "Nat. Cell Biol.",
     "language": "eng",
     "note": "PMID: 10655591",
     "page": "110-116",
     "page-first": "110",
     "title": "A conserved docking motif in MAP kinases common to substrates, activators and regulators",
     "type": "article-journal",
     "volume": "2"
    },
    "2754712/WPX829YQ": {
     "DOI": "10.1074/jbc.M509344200",
     "URL": "http://www.jbc.org/content/281/13/8917",
     "abstract": "To comprehend the Ras/ERK MAPK cascade, which comprises Ras, Raf, MEK, and ERK, several kinetic simulation models have been developed. However, a large number of parameters that are essential for the development of these models are still missing and need to be set arbitrarily. Here, we aimed at collecting these missing parameters using fluorescent probes. First, the levels of the signaling molecules were quantitated. Second, to monitor both the activation and nuclear translocation of ERK, we developed probes based on the principle of fluorescence resonance energy transfer. Third, the dissociation constants of Ras·Raf, Raf·MEK, and MEK·ERK complexes were estimated using a fluorescent tag that can be highlighted very rapidly. Finally, the same fluorescent tag was used to measure the nucleocytoplasmic shuttling rates of ERK and MEK. Using these parameters, we developed a kinetic simulation model consisting of the minimum essential members of the Ras/ERK MAPK cascade. This simple model reproduced essential features of the observed activation and nuclear translocation of ERK. In this model, the concentration of Raf significantly affected the levels of phospho-MEK and phospho-ERK upon stimulation. This prediction was confirmed experimentally by decreasing the level of Raf using the small interfering RNA technique. This observation verified the usefulness of the parameters collected in this study.",
     "accessed": {
      "day": 16,
      "month": 11,
      "year": 2018
     },
     "author": [
      {
       "family": "Fujioka",
       "given": "Aki"
      },
      {
       "family": "Terai",
       "given": "Kenta"
      },
      {
       "family": "Itoh",
       "given": "Reina E."
      },
      {
       "family": "Aoki",
       "given": "Kazuhiro"
      },
      {
       "family": "Nakamura",
       "given": "Takeshi"
      },
      {
       "family": "Kuroda",
       "given": "Shinya"
      },
      {
       "family": "Nishida",
       "given": "Eisuke"
      },
      {
       "family": "Matsuda",
       "given": "Michiyuki"
      }
     ],
     "container-title": "Journal of Biological Chemistry",
     "container-title-short": "J. Biol. Chem.",
     "id": "2754712/WPX829YQ",
     "issue": "13",
     "issued": {
      "day": 31,
      "month": 3,
      "year": 2006
     },
     "journalAbbreviation": "J. Biol. Chem.",
     "language": "en",
     "note": "PMID: 16418172",
     "page": "8917-8926",
     "page-first": "8917",
     "title": "Dynamics of the Ras/ERK MAPK Cascade as Monitored by Fluorescent Probes",
     "type": "article-journal",
     "volume": "281"
    },
    "2754712/XCZ7WMHE": {
     "DOI": "10.1016/j.cell.2006.05.013",
     "URL": "http://www.sciencedirect.com/science/article/pii/S0092867406005848",
     "abstract": "Summary\nThe mechanism by which the epidermal growth factor receptor (EGFR) is activated upon dimerization has eluded definition. We find that the EGFR kinase domain can be activated by increasing its local concentration or by mutating a leucine (L834R) in the activation loop, the phosphorylation of which is not required for activation. This suggests that the kinase domain is intrinsically autoinhibited, and an intermolecular interaction promotes its activation. Using further mutational analysis and crystallography we demonstrate that the autoinhibited conformation of the EGFR kinase domain resembles that of Src and cyclin-dependent kinases (CDKs). EGFR activation results from the formation of an asymmetric dimer in which the C-terminal lobe of one kinase domain plays a role analogous to that of cyclin in activated CDK/cyclin complexes. The CDK/cyclin-like complex formed by two kinase domains thus explains the activation of EGFR-family receptors by homo- or heterodimerization.",
     "accessed": {
      "day": 13,
      "month": 11,
      "year": 2018
     },
     "author": [
      {
       "family": "Zhang",
       "given": "Xuewu"
      },
      {
       "family": "Gureasko",
       "given": "Jodi"
      },
      {
       "family": "Shen",
       "given": "Kui"
      },
      {
       "family": "Cole",
       "given": "Philip A."
      },
      {
       "family": "Kuriyan",
       "given": "John"
      }
     ],
     "container-title": "Cell",
     "container-title-short": "Cell",
     "id": "2754712/XCZ7WMHE",
     "issue": "6",
     "issued": {
      "day": 13,
      "month": 6,
      "year": 2006
     },
     "journalAbbreviation": "Cell",
     "page": "1137-1149",
     "page-first": "1137",
     "title": "An Allosteric Mechanism for Activation of the Kinase Domain of Epidermal Growth Factor Receptor",
     "type": "article-journal",
     "volume": "125"
    },
    "2754712/XPQTB6V8": {
     "URL": "https://www.ncbi.nlm.nih.gov/pmc/articles/PMC359038/",
     "abstract": "We analyzed the binding site(s) for Grb2 on the epidermal growth factor (EGF) receptor (EGFR), using cell lines overexpressing EGFRs containing various point and deletion mutations in the carboxy-terminal tail. Results of co-immunoprecipitation experiments suggest that phosphotyrosines Y-1068 and Y-1173 mediate the binding of Grb2 to the EGFR. Competition experiments with synthetic phosphopeptides corresponding to known autophosphorylation sites on the EGFR demonstrated that phosphopeptides containing Y-1068, and to a lesser extent Y-1086, were able to inhibit the binding of Grb2 to the EGFR, while a Y-1173 peptide did not. These findings were confirmed by using a dephosphorylation protection assay and by measuring the dissociation constants of Grb2's SH2 domain to tyrosine-phosphorylated peptides, using real-time biospecific interaction analysis (BIAcore). From these studies, we concluded that Grb2 binds directly to the EGFR at Y-1068, to a lesser extent at Y-1086, and indirectly at Y-1173. Since Grb2 also binds Shc after EGF stimulation, we investigated whether Y-1173 is a binding site for the SH2 domain of Shc on the EGFR. Both competition experiments with synthetic phosphopeptides and dephosphorylation protection analysis demonstrated that Y-1173 and Y-992 are major and minor binding sites, respectively, for Shc on the EGFR. However, other phosphorylation sites in the carboxy-terminal tail of the EGFR are able to compensate for the loss of the main binding sites for Shc. These analyses reveal a hierarchy of interactions between Grb2 and Shc with the EGFR and indicate that Grb2 can bind the tyrosine-phosphorylated EGFR directly, as well as indirectly via Shc.",
     "accessed": {
      "day": 11,
      "month": 6,
      "year": 2019
     },
     "author": [
      {
       "family": "Batzer",
       "given": "A G"
      },
      {
       "family": "Rotin",
       "given": "D"
      },
      {
       "family": "Ureña",
       "given": "J M"
      },
      {
       "family": "Skolnik",
       "given": "E Y"
      },
      {
       "family": "Schlessinger",
       "given": "J"
      }
     ],
     "container-title": "Molecular and Cellular Biology",
     "container-title-short": "Mol Cell Biol",
     "id": "2754712/XPQTB6V8",
     "issue": "8",
     "issued": {
      "month": 8,
      "year": 1994
     },
     "journalAbbreviation": "Mol Cell Biol",
     "note": "PMID: 7518560\nPMCID: PMC359038",
     "page": "5192-5201",
     "page-first": "5192",
     "title": "Hierarchy of binding sites for Grb2 and Shc on the epidermal growth factor receptor.",
     "type": "article-journal",
     "volume": "14"
    },
    "2754712/YY7IQERJ": {
     "DOI": "10.1038/nature19327",
     "URL": "http://www.nature.com/articles/nature19327",
     "abstract": "Deregulation of the Ras–mitogen activated protein kinase (MAPK) pathway is an early event in many different cancers and a key driver of resistance to targeted therapies1. Sustained signalling through this pathway is caused most often by mutations in K-Ras, which biochemically favours the stabilization of active RAF signalling complexes2. Kinase suppressor of Ras (KSR) is a MAPK scaffold3,4,5 that is subject to allosteric regulation through dimerization with RAF6,7. Direct targeting of KSR could have important therapeutic implications for cancer; however, testing this hypothesis has been difficult owing to a lack of small-molecule antagonists of KSR function. Guided by KSR mutations that selectively suppress oncogenic, but not wild-type, Ras signalling, we developed a class of compounds that stabilize a previously unrecognized inactive state of KSR. These compounds, exemplified by APS-2-79, modulate KSR-dependent MAPK signalling by antagonizing RAF heterodimerization as well as the conformational changes required for phosphorylation and activation of KSR-bound MEK (mitogen-activated protein kinase kinase). Furthermore, APS-2-79 increased the potency of several MEK inhibitors specifically within Ras-mutant cell lines by antagonizing release of negative feedback signalling, demonstrating the potential of targeting KSR to improve the efficacy of current MAPK inhibitors. These results reveal conformational switching in KSR as a druggable regulator of oncogenic Ras, and further suggest co-targeting of enzymatic and scaffolding activities within Ras–MAPK signalling complexes as a therapeutic strategy for overcoming Ras-driven cancers.",
     "accessed": {
      "day": 21,
      "month": 2,
      "year": 2019
     },
     "author": [
      {
       "family": "Dhawan",
       "given": "Neil S."
      },
      {
       "family": "Scopton",
       "given": "Alex P."
      },
      {
       "family": "Dar",
       "given": "Arvin C."
      }
     ],
     "container-title": "Nature",
     "id": "2754712/YY7IQERJ",
     "issue": "7618",
     "issued": {
      "month": 9,
      "year": 2016
     },
     "language": "en",
     "page": "112-116",
     "page-first": "112",
     "title": "Small molecule stabilization of the KSR inactive state antagonizes oncogenic Ras signalling",
     "type": "article-journal",
     "volume": "537"
    },
    "2754712/ZES6PZM8": {
     "DOI": "10.1091/mbc.12.6.1897",
     "URL": "https://www.molbiolcell.org/doi/10.1091/mbc.12.6.1897",
     "abstract": "Ligand activation of the epidermal growth factor receptor (EGFR) leads to its rapid internalization and eventual delivery to lysosomes. This process is thought to be a mechanism to attenuate signaling, but signals could potentially be generated after endocytosis. To directly evaluate EGFR signaling during receptor trafficking, we developed a technique to rapidly and selectively isolate internalized EGFR and associated molecules with the use of reversibly biotinylated anti-EGFR antibodies. In addition, we developed antibodies specific to tyrosine-phosphorylated EGFR. With the use of a combination of fluorescence imaging and affinity precipitation approaches, we evaluated the state of EGFR activation and substrate association during trafficking in epithelial cells. We found that after internalization, EGFR remained active in the early endosomes. However, receptors were inactivated before degradation, apparently due to ligand removal from endosomes. Adapter molecules, such as Shc, were associated with EGFR both at the cell surface and within endosomes. Some molecules, such as Grb2, were primarily found associated with surface EGFR, whereas others, such as Eps8, were found only with intracellular receptors. During the inactivation phase, c-Cbl became EGFR associated, consistent with its postulated role in receptor attenuation. We conclude that the association of the EGFR with different proteins is compartment specific. In addition, ligand loss is the proximal cause of EGFR inactivation. Thus, regulated trafficking could potentially influence the pattern as well as the duration of signal transduction.",
     "accessed": {
      "day": 13,
      "month": 6,
      "year": 2019
     },
     "author": [
      {
       "family": "Burke",
       "given": "Patrick"
      },
      {
       "family": "Schooler",
       "given": "Kevin"
      },
      {
       "family": "Wiley",
       "given": "H. Steven"
      }
     ],
     "container-title": "Molecular Biology of the Cell",
     "container-title-short": "MBoC",
     "id": "2754712/ZES6PZM8",
     "issue": "6",
     "issued": {
      "day": 1,
      "month": 6,
      "year": 2001
     },
     "journalAbbreviation": "MBoC",
     "page": "1897-1910",
     "page-first": "1897",
     "title": "Regulation of Epidermal Growth Factor Receptor Signaling by Endocytosis and Intracellular Trafficking",
     "type": "article-journal",
     "volume": "12"
    },
    "undefined": {
     "DOI": "10.1074/jbc.M115.691238",
     "URL": "http://www.jbc.org/content/291/4/1703",
     "abstract": "The activity of Ras is controlled by the interconversion between GTP- and GDP-bound forms partly regulated by the binding of the guanine nucleotide exchange factor Son of Sevenless (Sos). The details of Sos binding, leading to nucleotide exchange and subsequent dissociation of the complex, are not completely understood. Here, we used uniformly 15N-labeled Ras as well as [13C]methyl-Met,Ile-labeled Sos for observing site-specific details of Ras-Sos interactions in solution. Binding of various forms of Ras (loaded with GDP and mimics of GTP or nucleotide-free) at the allosteric and catalytic sites of Sos was comprehensively characterized by monitoring signal perturbations in the NMR spectra. The overall affinity of binding between these protein variants as well as their selected functional mutants was also investigated using intrinsic fluorescence. The data support a positive feedback activation of Sos by Ras·GTP with Ras·GTP binding as a substrate for the catalytic site of activated Sos more weakly than Ras·GDP, suggesting that Sos should actively promote unidirectional GDP → GTP exchange on Ras in preference of passive homonucleotide exchange. Ras·GDP weakly binds to the catalytic but not to the allosteric site of Sos. This confirms that Ras·GDP cannot properly activate Sos at the allosteric site. The novel site-specific assay described may be useful for design of drugs aimed at perturbing Ras-Sos interactions.",
     "accessed": {
      "day": 11,
      "month": 6,
      "year": 2019
     },
     "author": [
      {
       "family": "Vo",
       "given": "Uybach"
      },
      {
       "family": "Vajpai",
       "given": "Navratna"
      },
      {
       "family": "Flavell",
       "given": "Liz"
      },
      {
       "family": "Bobby",
       "given": "Romel"
      },
      {
       "family": "Breeze",
       "given": "Alexander L."
      },
      {
       "family": "Embrey",
       "given": "Kevin J."
      },
      {
       "family": "Golovanov",
       "given": "Alexander P."
      }
     ],
     "container-title": "Journal of Biological Chemistry",
     "container-title-short": "J. Biol. Chem.",
     "id": "undefined",
     "issue": "4",
     "issued": {
      "day": 22,
      "month": 1,
      "year": 2016
     },
     "journalAbbreviation": "J. Biol. Chem.",
     "language": "en",
     "note": "PMID: 26565026",
     "page": "1703-1718",
     "page-first": "1703",
     "title": "Monitoring Ras Interactions with the Nucleotide Exchange Factor Son of Sevenless (Sos) Using Site-specific NMR Reporter Signals and Intrinsic Fluorescence",
     "type": "article-journal",
     "volume": "291"
    }
   }
  },
  "kernelspec": {
   "display_name": "PyCharm (erk_pulses_calibration)",
   "language": "python",
   "name": "pycharm-7bc1ffd5"
  },
  "language_info": {
   "codemirror_mode": {
    "name": "ipython",
    "version": 3
   },
   "file_extension": ".py",
   "mimetype": "text/x-python",
   "name": "python",
   "nbconvert_exporter": "python",
   "pygments_lexer": "ipython3",
   "version": "3.9.2"
  }
 },
 "nbformat": 4,
 "nbformat_minor": 2
}
