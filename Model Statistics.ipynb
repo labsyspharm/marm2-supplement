{
 "cells": [
  {
   "cell_type": "code",
   "execution_count": 1,
   "metadata": {
    "pycharm": {
     "is_executing": false
    }
   },
   "outputs": [],
   "source": [
    "import amici\n",
    "import numpy as np\n",
    "import pandas as pd\n",
    "import os\n",
    "from MARM.estimation import get_model, get_objective\n",
    "from MARM.visualize import plot_and_save_fig\n",
    "from MARM.paths import get_figure_dir"
   ]
  },
  {
   "cell_type": "code",
   "execution_count": 2,
   "metadata": {
    "pycharm": {
     "is_executing": false
    }
   },
   "outputs": [],
   "source": [
    "from MARM.pysb_flat.RTKERK__base__EGF_MEKi_PRAFi_RAFi__ import model as pysb_model\n",
    "from pysb.bng import generate_equations\n",
    "generate_equations(pysb_model)"
   ]
  },
  {
   "cell_type": "code",
   "execution_count": 3,
   "metadata": {
    "pycharm": {
     "is_executing": false
    }
   },
   "outputs": [],
   "source": [
    "import matplotlib.pyplot as plt\n",
    "PANDAS_FIGWIDTH = 15"
   ]
  },
  {
   "cell_type": "code",
   "execution_count": 4,
   "metadata": {
    "pycharm": {
     "is_executing": false
    }
   },
   "outputs": [],
   "source": [
    "model_name = 'RTKERK'\n",
    "variant = 'base'\n",
    "dataset = 'EGF_EGFR_MEKi_PRAFi_RAFi'\n",
    "model = get_model(model_name, variant, dataset)\n",
    "objective = get_objective(model_name, variant, dataset, 1)\n",
    "df = pd.concat([\n",
    "    amici.getDataObservablesAsDataFrame(o.amici_model, o.edatas)\n",
    "    for o in objective._objectives\n",
    "])\n",
    "figdir = get_figure_dir(model_name, variant, dataset)"
   ]
  },
  {
   "cell_type": "code",
   "execution_count": 5,
   "metadata": {},
   "outputs": [
    {
     "data": {
      "text/plain": [
       "346"
      ]
     },
     "execution_count": 5,
     "metadata": {},
     "output_type": "execute_result"
    }
   ],
   "source": [
    "# number of conditions\n",
    "sum([len(o.edatas) for o in objective._objectives])"
   ]
  },
  {
   "cell_type": "code",
   "execution_count": 6,
   "metadata": {
    "pycharm": {
     "is_executing": false
    }
   },
   "outputs": [
    {
     "data": {
      "text/plain": [
       "45"
      ]
     },
     "execution_count": 6,
     "metadata": {},
     "output_type": "execute_result"
    }
   ],
   "source": [
    "# transcriptomic data\n",
    "df.loc[\n",
    "    df.datatype=='data',\n",
    "    [col for col in df.columns if col.endswith('_obs') and not col.endswith('IF_obs') and col.startswith('tm')]\n",
    "].apply(np.isnan).apply(np.logical_not).sum(axis=0).sum()"
   ]
  },
  {
   "cell_type": "code",
   "execution_count": 7,
   "metadata": {},
   "outputs": [
    {
     "data": {
      "text/plain": [
       "55"
      ]
     },
     "execution_count": 7,
     "metadata": {},
     "output_type": "execute_result"
    }
   ],
   "source": [
    "# protemic data\n",
    "df.loc[\n",
    "    df.datatype=='data',\n",
    "    [col for col in df.columns if col.endswith('_obs') and not col.endswith('IF_obs') and col.startswith('t') and not col.startswith('tm')]\n",
    "].apply(np.isnan).apply(np.logical_not).sum(axis=0).sum()"
   ]
  },
  {
   "cell_type": "code",
   "execution_count": 8,
   "metadata": {},
   "outputs": [
    {
     "data": {
      "text/plain": [
       "10"
      ]
     },
     "execution_count": 8,
     "metadata": {},
     "output_type": "execute_result"
    }
   ],
   "source": [
    "# phosphoproteomic data\n",
    "df.loc[\n",
    "    df.datatype=='data',\n",
    "    [col for col in df.columns if col.endswith('_obs') and not col.endswith('IF_obs') and col.startswith('p')]\n",
    "].apply(np.isnan).apply(np.logical_not).sum(axis=0).sum()"
   ]
  },
  {
   "cell_type": "code",
   "execution_count": 9,
   "metadata": {
    "pycharm": {
     "is_executing": false
    }
   },
   "outputs": [
    {
     "data": {
      "text/plain": [
       "847"
      ]
     },
     "execution_count": 9,
     "metadata": {},
     "output_type": "execute_result"
    }
   ],
   "source": [
    "# IF data\n",
    "df.loc[\n",
    "    df.datatype=='data',\n",
    "    [col for col in df.columns if col.endswith('IF_obs')]\n",
    "].apply(np.isnan).apply(np.logical_not).sum(axis=0).sum()"
   ]
  },
  {
   "cell_type": "code",
   "execution_count": 10,
   "metadata": {},
   "outputs": [
    {
     "name": "stdout",
     "output_type": "stream",
     "text": [
      "total: 2209 datapoints in 1647 conditions\n"
     ]
    }
   ],
   "source": [
    "dataset = 'EGF_EGFR_MEKi_PRAFi_RAFi'\n",
    "total_conditions = 0\n",
    "total_datapoints = 0\n",
    "for datafile in ['EGF_EGFR_MEKi_PRAFi_RAFi_singleprediction', 'EGF_EGFR_MEKi_PRAFi_RAFi_comboprediction',\n",
    "                 'EGF_EGFR_MEKi_PRAFi_RAFi_panrafcomboprediction', 'EGF_EGFR_MEKi_PRAFi_RAFi_ht29',\n",
    "                 'MEKi_PRAFi_RAFi_engineered_mutrasprediction', 'MEKi_PRAFi_RAFi_engineered_mutrascomboprediction']:\n",
    "    objective = get_objective(model_name, variant, dataset, 1, datafile=datafile)\n",
    "    df = pd.concat([\n",
    "        amici.getDataObservablesAsDataFrame(o.amici_model, o.edatas)\n",
    "        for o in objective._objectives\n",
    "    ])\n",
    "    n_data = df.loc[\n",
    "        df.datatype=='data',\n",
    "        [col for col in df.columns if col.endswith('IF_obs')]\n",
    "    ].apply(np.isnan).apply(np.logical_not).sum(axis=0).sum()\n",
    "    total_datapoints += n_data\n",
    "    n_cond = sum([len(o.edatas) for o in objective._objectives])\n",
    "    total_conditions += n_cond\n",
    "    \n",
    "print(f'total: {total_datapoints} datapoints in {total_conditions} conditions')"
   ]
  },
  {
   "cell_type": "code",
   "execution_count": 11,
   "metadata": {
    "pycharm": {
     "is_executing": false
    }
   },
   "outputs": [],
   "source": [
    "from pysb.pattern import SpeciesPatternMatcher\n",
    "spm = SpeciesPatternMatcher(pysb_model)\n",
    "monomer_cross_counts = pd.DataFrame.from_dict({\n",
    "    monomer1.name: {\n",
    "        monomer2.name: \n",
    "        len(spm.match(monomer1() % monomer2())) / len(spm.match(monomer1())) * 100\n",
    "        for monomer2 in pysb_model.monomers\n",
    "        if not monomer2.name.startswith('m')\n",
    "    }\n",
    "    for monomer1 in pysb_model.monomers\n",
    "    if not monomer1.name.startswith('m')\n",
    "})"
   ]
  },
  {
   "cell_type": "code",
   "execution_count": 12,
   "metadata": {
    "pycharm": {
     "is_executing": false
    },
    "scrolled": false
   },
   "outputs": [
    {
     "data": {
      "image/png": "[encoded data removed]",
      "text/plain": [
       "<Figure size 540x540 with 4 Axes>"
      ]
     },
     "metadata": {
      "needs_background": "light"
     },
     "output_type": "display_data"
    }
   ],
   "source": [
    "import seaborn as sns\n",
    "ax = sns.clustermap(monomer_cross_counts,\n",
    "                    figsize=(PANDAS_FIGWIDTH/2, PANDAS_FIGWIDTH/2),\n",
    "                    cbar_kws={'label': 'complex fraction [%]'})\n",
    "plot_and_save_fig(figdir, 'monomer_correlation.pdf')"
   ]
  },
  {
   "cell_type": "code",
   "execution_count": 13,
   "metadata": {
    "pycharm": {
     "is_executing": false
    }
   },
   "outputs": [],
   "source": [
    "def series_barchart(series, title, xf=1, ylog=False, ylim=None, yticks=None):\n",
    "    colors = ['#C9C9C9', '#4F4F50']\n",
    "    kwargs = {}\n",
    "    if ylog:\n",
    "        kwargs['bottom'] = ylim[0] if ylim else 0\n",
    "    ax = series.plot.bar(\n",
    "        rot=90, width=0.75, figsize=(3.0*xf, 3.0),\n",
    "        color=colors[:len(series.shape)], stacked=True, legend=False,\n",
    "        **kwargs\n",
    "    )\n",
    "    plt.text(0.99, 0.85, f'total: {series.sum().sum()}', \n",
    "             transform=ax.transAxes, ha='right')\n",
    "    \n",
    "    if ylog:\n",
    "        plt.yscale('log')\n",
    "        \n",
    "    if yticks:\n",
    "        plt.yticks(yticks)\n",
    "        \n",
    "    if ylim:\n",
    "        plt.ylim(ylim)\n",
    "    ax.set_xticklabels(ax.get_xticklabels(), ha='center');\n",
    "    plot_and_save_fig(figdir, f'model_{title}.pdf')"
   ]
  },
  {
   "cell_type": "code",
   "execution_count": 14,
   "metadata": {
    "pycharm": {
     "is_executing": false,
     "name": "#%%\n"
    }
   },
   "outputs": [
    {
     "data": {
      "image/png": "[encoded data removed]",
      "text/plain": [
       "<Figure size 216x216 with 1 Axes>"
      ]
     },
     "metadata": {
      "needs_background": "light"
     },
     "output_type": "display_data"
    }
   ],
   "source": [
    "monomer_counts = pd.Series({\n",
    "    monomer.name: len(spm.match(monomer()))\n",
    "    for monomer in pysb_model.monomers\n",
    "})\n",
    "monomer_counts = monomer_counts.reindex([\n",
    "    txt.get_text() for txt in ax.ax_heatmap.get_xticklabels()\n",
    "])\n",
    "series_barchart(monomer_counts, 'monomers', yticks=[0,500,1000, 1500])"
   ]
  },
  {
   "cell_type": "code",
   "execution_count": 15,
   "metadata": {
    "pycharm": {
     "name": "#%%\n"
    }
   },
   "outputs": [
    {
     "data": {
      "text/plain": [
       "RAS      1481\n",
       "MEKi     1193\n",
       "BRAF     1395\n",
       "CRAF     1395\n",
       "ERK      1195\n",
       "MEK      1808\n",
       "RAFi     1031\n",
       "PRAFi    1031\n",
       "DUSP        2\n",
       "GRB2      287\n",
       "EGF       253\n",
       "EGFR      360\n",
       "SOS1      168\n",
       "SPRY       42\n",
       "CBL        42\n",
       "dtype: int64"
      ]
     },
     "execution_count": 15,
     "metadata": {},
     "output_type": "execute_result"
    }
   ],
   "source": [
    "monomer_counts"
   ]
  },
  {
   "cell_type": "code",
   "execution_count": 16,
   "metadata": {},
   "outputs": [
    {
     "data": {
      "text/plain": [
       "2284"
      ]
     },
     "execution_count": 16,
     "metadata": {},
     "output_type": "execute_result"
    }
   ],
   "source": [
    "len(pysb_model.species)"
   ]
  },
  {
   "cell_type": "code",
   "execution_count": 17,
   "metadata": {
    "pycharm": {
     "is_executing": false
    }
   },
   "outputs": [
    {
     "data": {
      "image/png": "[encoded data removed]",
      "text/plain": [
       "<Figure size 216x216 with 1 Axes>"
      ]
     },
     "metadata": {
      "needs_background": "light"
     },
     "output_type": "display_data"
    }
   ],
   "source": [
    "rule_names = [rule.name for rule in pysb_model.rules]\n",
    "\n",
    "rule_filters = {\n",
    "    'binding': lambda x: '_bind_' in x or \n",
    "                         '_binds_' in x or \n",
    "                         '_dissociates_from_' in x or\n",
    "                         x.startswith('bind_'),\n",
    "    'catalysis': lambda x: '_phosphorylates_' in x \n",
    "                        or '_is_phosphorylated' in x\n",
    "                        or '_is_dephosphorylated' in x\n",
    "                        or '_dephosphorylates_' in x\n",
    "                        or '_guanosine_exchange' in x\n",
    "                        or '_hydrolisis_' in x\n",
    "                        or '_hydrolysis_' in x\n",
    "                        or x.startswith('catalyze_'),\n",
    "    'translocation': lambda x: '_is_endocytosed' in x\n",
    "                            or '_is_recycled' in x,\n",
    "    'gene\\nexpression': lambda x: '_degradation_' in x \n",
    "                                  or '_degrades_' in x\n",
    "                                  or 'synthesis_' in x\n",
    "                                  or '_synthesizes_' in x\n",
    "                                  or '_synthesis_' in x\n",
    "                                  or x.endswith('_is_degraded'),\n",
    "    'other': lambda x: False,\n",
    "}\n",
    "\n",
    "rule_filter_match_counts = {\n",
    "    name: sum(rule_filter(name) for rule_filter in rule_filters.values())\n",
    "    for name in rule_names\n",
    "}\n",
    "\n",
    "for count in rule_filter_match_counts.values():\n",
    "    assert count == 1\n",
    "    \n",
    "df = pd.concat([\n",
    "    pd.Series({\n",
    "        filter_name: sum(rule_filter(x) and not pysb_model.rules[x].energy for x in rule_names)\n",
    "        for filter_name, rule_filter in rule_filters.items()\n",
    "    }),\n",
    "    pd.Series({\n",
    "        filter_name: sum(rule_filter(x) and pysb_model.rules[x].energy for x in rule_names)\n",
    "        for filter_name, rule_filter in rule_filters.items()\n",
    "    })\n",
    "], axis=1, keys=['noenergy', 'energy'])\n",
    "\n",
    "series_barchart(df.loc[list(df.sum(axis=1).sort_values(ascending=False).index\n",
    "                            .values)],\n",
    "                'rules',\n",
    "                ylim=[0,30],\n",
    "                yticks=[0,10,20,30])"
   ]
  },
  {
   "cell_type": "code",
   "execution_count": 18,
   "metadata": {
    "pycharm": {
     "is_executing": false,
     "name": "#%%\n"
    }
   },
   "outputs": [
    {
     "data": {
      "text/html": [
       "<div>\n",
       "<style scoped>\n",
       "    .dataframe tbody tr th:only-of-type {\n",
       "        vertical-align: middle;\n",
       "    }\n",
       "\n",
       "    .dataframe tbody tr th {\n",
       "        vertical-align: top;\n",
       "    }\n",
       "\n",
       "    .dataframe thead th {\n",
       "        text-align: right;\n",
       "    }\n",
       "</style>\n",
       "<table border=\"1\" class=\"dataframe\">\n",
       "  <thead>\n",
       "    <tr style=\"text-align: right;\">\n",
       "      <th></th>\n",
       "      <th>noenergy</th>\n",
       "      <th>energy</th>\n",
       "    </tr>\n",
       "  </thead>\n",
       "  <tbody>\n",
       "    <tr>\n",
       "      <th>binding</th>\n",
       "      <td>6</td>\n",
       "      <td>19</td>\n",
       "    </tr>\n",
       "    <tr>\n",
       "      <th>catalysis</th>\n",
       "      <td>26</td>\n",
       "      <td>0</td>\n",
       "    </tr>\n",
       "    <tr>\n",
       "      <th>translocation</th>\n",
       "      <td>2</td>\n",
       "      <td>0</td>\n",
       "    </tr>\n",
       "    <tr>\n",
       "      <th>gene\\nexpression</th>\n",
       "      <td>13</td>\n",
       "      <td>0</td>\n",
       "    </tr>\n",
       "    <tr>\n",
       "      <th>other</th>\n",
       "      <td>0</td>\n",
       "      <td>0</td>\n",
       "    </tr>\n",
       "  </tbody>\n",
       "</table>\n",
       "</div>"
      ],
      "text/plain": [
       "                  noenergy  energy\n",
       "binding                  6      19\n",
       "catalysis               26       0\n",
       "translocation            2       0\n",
       "gene\\nexpression        13       0\n",
       "other                    0       0"
      ]
     },
     "execution_count": 18,
     "metadata": {},
     "output_type": "execute_result"
    }
   ],
   "source": [
    "df"
   ]
  },
  {
   "cell_type": "code",
   "execution_count": 19,
   "metadata": {
    "pycharm": {
     "is_executing": false
    },
    "scrolled": false
   },
   "outputs": [
    {
     "data": {
      "image/png": "[encoded data removed]",
      "text/plain": [
       "<Figure size 216x216 with 1 Axes>"
      ]
     },
     "metadata": {
      "needs_background": "light"
     },
     "output_type": "display_data"
    }
   ],
   "source": [
    "s = pd.Series({\n",
    "    filter_name: sum(rule_filter(r['rule'][0])  for r in pysb_model.reactions)\n",
    "    for filter_name, rule_filter in rule_filters.items()\n",
    "})\n",
    "series_barchart(s[list(df.sum(axis=1).sort_values(ascending=False).index\n",
    "                       .values)],\n",
    "                'reactions', \n",
    "                ylog=True,\n",
    "                ylim=[1e1,1e5],\n",
    "                yticks=[1e1,1e3,1e5])"
   ]
  },
  {
   "cell_type": "code",
   "execution_count": 20,
   "metadata": {
    "pycharm": {
     "is_executing": false,
     "name": "#%%\n"
    }
   },
   "outputs": [
    {
     "data": {
      "text/plain": [
       "binding             25922\n",
       "catalysis            3409\n",
       "translocation         200\n",
       "gene\\nexpression      853\n",
       "other                   0\n",
       "dtype: int64"
      ]
     },
     "execution_count": 20,
     "metadata": {},
     "output_type": "execute_result"
    }
   ],
   "source": [
    "s"
   ]
  },
  {
   "cell_type": "code",
   "execution_count": 21,
   "metadata": {
    "pycharm": {
     "is_executing": false,
     "name": "#%%\n"
    },
    "scrolled": false
   },
   "outputs": [
    {
     "data": {
      "image/png": "[encoded data removed]",
      "text/plain": [
       "<Figure size 216x216 with 1 Axes>"
      ]
     },
     "metadata": {
      "needs_background": "light"
     },
     "output_type": "display_data"
    }
   ],
   "source": [
    "parameter_names = [parameter.name for parameter in pysb_model.parameters]\n",
    "parameter_filters = {\n",
    "    'binding': lambda x: x.endswith('kD') or \n",
    "                           x.endswith('kf') or\n",
    "                           x.endswith('deltaG'),\n",
    "    'catalysis': lambda x: x.endswith('_u_kcat') or \n",
    "                             x.endswith('_p_kcat') or\n",
    "                             x.endswith('_pS1134_kcat') or\n",
    "                             x.endswith('gtp_kcat') or\n",
    "                             x.endswith('kcatr') or \n",
    "                             x.endswith('kbase') or\n",
    "                             x.endswith('ub_kcat'),\n",
    "    'translocation': lambda x: x.endswith('endo_kcat') or\n",
    "                               x.endswith('recycl_kcat'),\n",
    "    'gene\\nexpression': lambda x: x.endswith('gexpslope') or \n",
    "                                   x.endswith('_kdeg') or\n",
    "                                   x.endswith('_deg_kcat') or\n",
    "                                   x.endswith('kM'),\n",
    "    'other': lambda x: x.endswith('scale') or x.endswith('offset') or ((x.endswith('_0') or x.endswith('_eq'))\n",
    "                                 and x not in ['RAFi_0', 'MEKi_0', 'PRAFi_0', 'EGF_0']),\n",
    "}\n",
    "\n",
    "parameter_filter_match_counts = {\n",
    "    name: sum(parameter_filter(name) for parameter_filter in parameter_filters.values())\n",
    "    for name in parameter_names\n",
    "}\n",
    "#check we are not missing anything/counting twice\n",
    "for name, count in parameter_filter_match_counts.items():\n",
    "    assert ( (count == 1) or ((\n",
    "        name.endswith('phi') or \n",
    "        name in ['RAFi_0', 'PRAFi_0', 'MEKi_0', 'EGF_0', 'N_Avogadro', 'EGFR_crispr', 'volume', 'm_Da_EGF']\n",
    "    ) and count == 0))\n",
    "    \n",
    "s = pd.Series({\n",
    "    parameter_name: sum(parameter_filter(x) for x in parameter_names)\n",
    "    for parameter_name, parameter_filter in parameter_filters.items()\n",
    "}).sort_values(ascending=False)\n",
    "\n",
    "series_barchart(s.loc[df.sum(axis=1).sort_values(ascending=False).index.values],\n",
    "                'parameters',\n",
    "                ylim=[0,40],\n",
    "                yticks=[0,10,20,30])"
   ]
  },
  {
   "cell_type": "code",
   "execution_count": 22,
   "metadata": {},
   "outputs": [
    {
     "data": {
      "text/plain": [
       "{'ep_RAF_RAF_mod_RASstategtp_double_deltaG': 'binding',\n",
       " 'bind_RASstategtp_RAF_kf': 'binding',\n",
       " 'bind_RASstategtp_RAF_kD': 'binding',\n",
       " 'bind_RASstategtp_RAF_phi': None,\n",
       " 'bind_RAF_RAF_kf': 'binding',\n",
       " 'bind_RAF_RAF_kD': 'binding',\n",
       " 'bind_RAF_RAF_phi': None,\n",
       " 'bind_RAFi_RAF_kf': 'binding',\n",
       " 'bind_RAFi_RAF_kD': 'binding',\n",
       " 'bind_RAFi_RAF_phi': None,\n",
       " 'bind_PRAFi_RAF_kf': 'binding',\n",
       " 'bind_PRAFi_RAF_kD': 'binding',\n",
       " 'bind_PRAFi_RAF_phi': None,\n",
       " 'ep_RAF_RAF_mod_RAFi_single_deltaG': 'binding',\n",
       " 'ep_RAF_RAF_mod_RAFi_double_deltaG': 'binding',\n",
       " 'bind_RAF_MEKphosphou_kf': 'binding',\n",
       " 'bind_RAF_MEKphosphou_kD': 'binding',\n",
       " 'bind_RAF_MEKphosphou_phi': None,\n",
       " 'catalyze_RAF_RAFrafiNone_MEK_p_kcat': 'catalysis',\n",
       " 'catalyze_RAFrafiNone_MEKmekiNone_p_kcat': 'catalysis',\n",
       " 'catalyze_RAFrafiNone_MEKmeki_MEKi_p_kcatr': 'catalysis',\n",
       " 'bind_MEKi_MEK_kf': 'binding',\n",
       " 'bind_MEKi_MEK_kD': 'binding',\n",
       " 'bind_MEKi_MEK_phi': None,\n",
       " 'ep_MEKphosphop_MEKi_deltaG': 'binding',\n",
       " 'bind_MEK_ERKphosphou_kf': 'binding',\n",
       " 'bind_MEK_ERKphosphou_kD': 'binding',\n",
       " 'catalyze_MEKmekiNone_phosphop_ERK_p_kcat': 'catalysis',\n",
       " 'bind_DUSP_ERKphosphop_kf': 'binding',\n",
       " 'bind_DUSP_ERKphosphop_kD': 'binding',\n",
       " 'mDUSP_eq': 'other',\n",
       " 'DUSP_eq': 'other',\n",
       " 'synthesize_ERKphosphop_DUSP_ERK_gexpslope': 'gene\\nexpression',\n",
       " 'msynthesize_ERKphosphop_DUSP_kdeg': 'gene\\nexpression',\n",
       " 'psynthesize_ERKphosphop_DUSP_kdeg': 'gene\\nexpression',\n",
       " 'synthesize_ERKphosphop_DUSP_ERK_kM': 'gene\\nexpression',\n",
       " 'bind_EGF_EGFR_kf': 'binding',\n",
       " 'bind_EGF_EGFR_kD': 'binding',\n",
       " 'bind_EGF_EGFR_phi': None,\n",
       " 'bind_EGFR_EGFR_kf': 'binding',\n",
       " 'bind_EGFR_EGFR_kD': 'binding',\n",
       " 'bind_EGFR_EGFR_phi': None,\n",
       " 'ep_EGFR_EGFR_mod_EGF_single_deltaG': 'binding',\n",
       " 'catalyze_EGFR_EGFR_p_kcat': 'catalysis',\n",
       " 'catalyze_EGFR_u_kcatr': 'catalysis',\n",
       " 'catalyze_EGFR_endo_kcat': 'translocation',\n",
       " 'catalyze_EGFR_deg_kM': 'gene\\nexpression',\n",
       " 'catalyze_EGFR_recycl_kcat': 'translocation',\n",
       " 'catalyze_EGFR_deg_kcat': 'gene\\nexpression',\n",
       " 'mEGFR_eq': 'other',\n",
       " 'EGFR_eq': 'other',\n",
       " 'synthesize_ERKphosphop_EGFR_ERK_gexpslope': 'gene\\nexpression',\n",
       " 'msynthesize_ERKphosphop_EGFR_kdeg': 'gene\\nexpression',\n",
       " 'psynthesize_ERKphosphop_EGFR_kdeg': 'gene\\nexpression',\n",
       " 'EGFR_crispr': None,\n",
       " 'synthesize_ERKphosphop_EGFR_ERK_kM': 'gene\\nexpression',\n",
       " 'bind_pEGFR_GRB2_kf': 'binding',\n",
       " 'bind_pEGFR_GRB2_kD': 'binding',\n",
       " 'bind_pEGFR_GRB2_phi': None,\n",
       " 'bind_SPRY_GRB2_kf': 'binding',\n",
       " 'bind_SPRY_GRB2_kD': 'binding',\n",
       " 'bind_SPRY_GRB2_phi': None,\n",
       " 'mSPRY_eq': 'other',\n",
       " 'SPRY_eq': 'other',\n",
       " 'synthesize_ERKphosphop_SPRY_ERK_gexpslope': 'gene\\nexpression',\n",
       " 'msynthesize_ERKphosphop_SPRY_kdeg': 'gene\\nexpression',\n",
       " 'psynthesize_ERKphosphop_SPRY_kdeg': 'gene\\nexpression',\n",
       " 'synthesize_ERKphosphop_SPRY_ERK_kM': 'gene\\nexpression',\n",
       " 'bind_GRB2_SOS1_kf': 'binding',\n",
       " 'bind_GRB2_SOS1_kD': 'binding',\n",
       " 'bind_GRB2_SOS1_phi': None,\n",
       " 'catalyze_ERKphosphop_SOS1_pS1134_kbase': 'catalysis',\n",
       " 'catalyze_ERKphosphop_SOS1_pS1134_kcat': 'catalysis',\n",
       " 'ep_SOS1S1134p_GRB2_deltaG': 'binding',\n",
       " 'bind_SOS1_RAS_kf': 'binding',\n",
       " 'bind_SOS1_RAS_kD': 'binding',\n",
       " 'catalyze_SOS1_RAS_gtp_kcat': 'catalysis',\n",
       " 'bind_CBL_GRB2_kf': 'binding',\n",
       " 'bind_CBL_GRB2_kD': 'binding',\n",
       " 'bind_CBL_GRB2_phi': None,\n",
       " 'catalyze_CBL_EGFR_ub_kcat': 'catalysis',\n",
       " 'catalyze_EGFR_dub_kcatr': 'catalysis',\n",
       " 'catalyze_PP2A_MEK_u_kcatr': 'catalysis',\n",
       " 'catalyze_DUSP_ERK_u_kcatr': 'catalysis',\n",
       " 'catalyze_phosphatase_SOS1_uS1134_kcatr': 'catalysis',\n",
       " 'catalyze_NF1_RAS_gdp_kcatr': 'catalysis',\n",
       " 'BRAF_0': 'other',\n",
       " 'CRAF_0': 'other',\n",
       " 'RAS_0': 'other',\n",
       " 'RAFi_0': None,\n",
       " 'PRAFi_0': None,\n",
       " 'MEK_0': 'other',\n",
       " 'MEKi_0': None,\n",
       " 'ERK_0': 'other',\n",
       " 'EGF_0': None,\n",
       " 'GRB2_0': 'other',\n",
       " 'SOS1_0': 'other',\n",
       " 'CBL_0': 'other',\n",
       " 'pMEK_IF_scale': 'other',\n",
       " 'pMEK_IF_offset': 'other',\n",
       " 'pERK_IF_scale': 'other',\n",
       " 'pERK_IF_offset': 'other',\n",
       " 'N_Avogadro': None,\n",
       " 'volume': None,\n",
       " 'm_Da_EGF': None}"
      ]
     },
     "execution_count": 22,
     "metadata": {},
     "output_type": "execute_result"
    }
   ],
   "source": [
    "{\n",
    "    name: next((\n",
    "        filter_name for filter_name, parameter_filter in parameter_filters.items()\n",
    "        if parameter_filter(name)\n",
    "    ), None)\n",
    "    for name in parameter_names\n",
    "}"
   ]
  },
  {
   "cell_type": "code",
   "execution_count": null,
   "metadata": {},
   "outputs": [],
   "source": []
  }
 ],
 "metadata": {
  "kernelspec": {
   "display_name": "Python 3",
   "language": "python",
   "name": "python3"
  },
  "language_info": {
   "codemirror_mode": {
    "name": "ipython",
    "version": 3
   },
   "file_extension": ".py",
   "mimetype": "text/x-python",
   "name": "python",
   "nbconvert_exporter": "python",
   "pygments_lexer": "ipython3",
   "version": "3.9.7"
  },
  "pycharm": {
   "stem_cell": {
    "cell_type": "raw",
    "metadata": {
     "collapsed": false
    },
    "source": []
   }
  }
 },
 "nbformat": 4,
 "nbformat_minor": 2
}
